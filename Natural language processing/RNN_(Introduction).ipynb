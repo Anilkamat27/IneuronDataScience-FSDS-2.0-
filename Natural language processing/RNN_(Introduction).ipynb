{
  "nbformat": 4,
  "nbformat_minor": 0,
  "metadata": {
    "colab": {
      "provenance": []
    },
    "kernelspec": {
      "name": "python3",
      "display_name": "Python 3"
    },
    "language_info": {
      "name": "python"
    }
  },
  "cells": [
    {
      "cell_type": "code",
      "execution_count": 33,
      "metadata": {
        "id": "Br83Qjwl-Zhn"
      },
      "outputs": [],
      "source": [
        "from keras import Sequential\n",
        "from keras.layers import Dense, SimpleRNN\n",
        "model= Sequential()"
      ]
    },
    {
      "cell_type": "code",
      "source": [
        "model.add(SimpleRNN(3,input_shape =(4,5))) # 4 no of words , 5no of vocab\n",
        "model.add(Dense(1,activation=\"sigmoid\"))\n",
        "model.summary()"
      ],
      "metadata": {
        "colab": {
          "base_uri": "https://localhost:8080/"
        },
        "id": "mMOEx5KV-9kc",
        "outputId": "cd085a88-7bb7-49e5-c7e1-daa18f32e1cc"
      },
      "execution_count": 34,
      "outputs": [
        {
          "output_type": "stream",
          "name": "stdout",
          "text": [
            "Model: \"sequential_1\"\n",
            "_________________________________________________________________\n",
            " Layer (type)                Output Shape              Param #   \n",
            "=================================================================\n",
            " simple_rnn_1 (SimpleRNN)    (None, 3)                 27        \n",
            "                                                                 \n",
            " dense_1 (Dense)             (None, 1)                 4         \n",
            "                                                                 \n",
            "=================================================================\n",
            "Total params: 31 (124.00 Byte)\n",
            "Trainable params: 31 (124.00 Byte)\n",
            "Non-trainable params: 0 (0.00 Byte)\n",
            "_________________________________________________________________\n"
          ]
        }
      ]
    },
    {
      "cell_type": "code",
      "source": [
        "model.get_weights()"
      ],
      "metadata": {
        "colab": {
          "base_uri": "https://localhost:8080/"
        },
        "id": "8JV82wxDATL1",
        "outputId": "6fb4a62f-f864-46d2-d184-a6e891685f92"
      },
      "execution_count": 35,
      "outputs": [
        {
          "output_type": "execute_result",
          "data": {
            "text/plain": [
              "[array([[-0.7737471 ,  0.12045801,  0.15428013],\n",
              "        [ 0.3073662 , -0.44225025,  0.6865434 ],\n",
              "        [-0.39560947,  0.4294687 , -0.02085721],\n",
              "        [-0.32831275,  0.3764966 , -0.6530919 ],\n",
              "        [ 0.268475  ,  0.02560312,  0.48852128]], dtype=float32),\n",
              " array([[ 0.36142087, -0.04181673,  0.9314645 ],\n",
              "        [ 0.03862384,  0.99880767,  0.02985343],\n",
              "        [ 0.93160236, -0.02518708, -0.3626052 ]], dtype=float32),\n",
              " array([0., 0., 0.], dtype=float32),\n",
              " array([[ 0.71032417],\n",
              "        [-0.9422345 ],\n",
              "        [-1.1523874 ]], dtype=float32),\n",
              " array([0.], dtype=float32)]"
            ]
          },
          "metadata": {},
          "execution_count": 35
        }
      ]
    },
    {
      "cell_type": "code",
      "source": [
        "model.get_weights()[0].shape"
      ],
      "metadata": {
        "id": "GNCyczpLBj61",
        "colab": {
          "base_uri": "https://localhost:8080/"
        },
        "outputId": "908ac4ee-a5c7-45ed-82b0-e9d194fbec19"
      },
      "execution_count": 36,
      "outputs": [
        {
          "output_type": "execute_result",
          "data": {
            "text/plain": [
              "(5, 3)"
            ]
          },
          "metadata": {},
          "execution_count": 36
        }
      ]
    },
    {
      "cell_type": "code",
      "source": [
        "model.get_weights()[1].shape"
      ],
      "metadata": {
        "colab": {
          "base_uri": "https://localhost:8080/"
        },
        "id": "pIt-YIRo6st2",
        "outputId": "3f52a7b7-c686-4e41-e96c-ff2773b2bbae"
      },
      "execution_count": 37,
      "outputs": [
        {
          "output_type": "execute_result",
          "data": {
            "text/plain": [
              "(3, 3)"
            ]
          },
          "metadata": {},
          "execution_count": 37
        }
      ]
    },
    {
      "cell_type": "markdown",
      "source": [],
      "metadata": {
        "id": "hcxF5uq2IuHQ"
      }
    },
    {
      "cell_type": "code",
      "source": [
        "from keras.datasets import imdb"
      ],
      "metadata": {
        "id": "DEpE59YS9KPL"
      },
      "execution_count": 38,
      "outputs": []
    },
    {
      "cell_type": "code",
      "source": [
        "import numpy as np\n",
        "\n",
        "(X_train,y_train),(X_test,y_test) = imdb.load_data()\n"
      ],
      "metadata": {
        "id": "BO8DMM5UI5Nm"
      },
      "execution_count": 39,
      "outputs": []
    },
    {
      "cell_type": "code",
      "source": [
        "len(X_train[0]) # this is going to be input size\n",
        "#We want to take min length because in that case no padding will be required\n",
        "#otherwise in case of max length padding will be required"
      ],
      "metadata": {
        "colab": {
          "base_uri": "https://localhost:8080/"
        },
        "id": "Jcl3bPvVPU49",
        "outputId": "25164f96-bce6-450b-afa4-5c4c9c2caaed"
      },
      "execution_count": 40,
      "outputs": [
        {
          "output_type": "execute_result",
          "data": {
            "text/plain": [
              "218"
            ]
          },
          "metadata": {},
          "execution_count": 40
        }
      ]
    },
    {
      "cell_type": "code",
      "source": [
        "for review in X_train:\n",
        "  mylist.append(len(review))\n",
        "min(mylist)"
      ],
      "metadata": {
        "id": "sZ4MWlBfQFq2",
        "colab": {
          "base_uri": "https://localhost:8080/"
        },
        "outputId": "ba4d40b0-3c70-4430-8a5f-d7a0010ef63e"
      },
      "execution_count": 41,
      "outputs": [
        {
          "output_type": "execute_result",
          "data": {
            "text/plain": [
              "11"
            ]
          },
          "metadata": {},
          "execution_count": 41
        }
      ]
    },
    {
      "cell_type": "markdown",
      "source": [
        "therefore i need padding"
      ],
      "metadata": {
        "id": "HEsHXr-ER2oM"
      }
    },
    {
      "cell_type": "code",
      "source": [
        "import numpy as np\n",
        "sentence =[\n",
        "    \"india won worldcup\",\n",
        "    \"rohit played very well\",\n",
        "    \"above all is my imagination\",\n",
        "    \"bharat mata ki jay\",\n",
        "    \"definietly we goona win next worldcup\"\n",
        "]"
      ],
      "metadata": {
        "id": "UlgG76V2J_22"
      },
      "execution_count": 42,
      "outputs": []
    },
    {
      "cell_type": "code",
      "source": [
        "from keras.preprocessing.text import Tokenizer"
      ],
      "metadata": {
        "id": "5VBNgQzGJ_zb"
      },
      "execution_count": 43,
      "outputs": []
    },
    {
      "cell_type": "markdown",
      "source": [
        "tokenizer means performing integer encoding"
      ],
      "metadata": {
        "id": "fw5StE39JqgJ"
      }
    },
    {
      "cell_type": "code",
      "source": [
        "tokenizer = Tokenizer()"
      ],
      "metadata": {
        "id": "d7dS6pmXJAUS"
      },
      "execution_count": 44,
      "outputs": []
    },
    {
      "cell_type": "code",
      "source": [
        "tokenizer.fit_on_texts(sentence)"
      ],
      "metadata": {
        "id": "VFa9MzmFNYw3"
      },
      "execution_count": 45,
      "outputs": []
    },
    {
      "cell_type": "code",
      "source": [
        "tokenizer.word_index"
      ],
      "metadata": {
        "colab": {
          "base_uri": "https://localhost:8080/"
        },
        "id": "FwNOpbVHJJc1",
        "outputId": "94e7627d-8c7f-4d91-e5e7-0534ffaa3a79"
      },
      "execution_count": 46,
      "outputs": [
        {
          "output_type": "execute_result",
          "data": {
            "text/plain": [
              "{'worldcup': 1,\n",
              " 'india': 2,\n",
              " 'won': 3,\n",
              " 'rohit': 4,\n",
              " 'played': 5,\n",
              " 'very': 6,\n",
              " 'well': 7,\n",
              " 'above': 8,\n",
              " 'all': 9,\n",
              " 'is': 10,\n",
              " 'my': 11,\n",
              " 'imagination': 12,\n",
              " 'bharat': 13,\n",
              " 'mata': 14,\n",
              " 'ki': 15,\n",
              " 'jay': 16,\n",
              " 'definietly': 17,\n",
              " 'we': 18,\n",
              " 'goona': 19,\n",
              " 'win': 20,\n",
              " 'next': 21}"
            ]
          },
          "metadata": {},
          "execution_count": 46
        }
      ]
    },
    {
      "cell_type": "code",
      "source": [
        "tokenizer.word_counts"
      ],
      "metadata": {
        "colab": {
          "base_uri": "https://localhost:8080/"
        },
        "id": "dlaD29D1JJZW",
        "outputId": "f53878a3-b7cb-4c32-8b83-898db2baab8f"
      },
      "execution_count": 47,
      "outputs": [
        {
          "output_type": "execute_result",
          "data": {
            "text/plain": [
              "OrderedDict([('india', 1),\n",
              "             ('won', 1),\n",
              "             ('worldcup', 2),\n",
              "             ('rohit', 1),\n",
              "             ('played', 1),\n",
              "             ('very', 1),\n",
              "             ('well', 1),\n",
              "             ('above', 1),\n",
              "             ('all', 1),\n",
              "             ('is', 1),\n",
              "             ('my', 1),\n",
              "             ('imagination', 1),\n",
              "             ('bharat', 1),\n",
              "             ('mata', 1),\n",
              "             ('ki', 1),\n",
              "             ('jay', 1),\n",
              "             ('definietly', 1),\n",
              "             ('we', 1),\n",
              "             ('goona', 1),\n",
              "             ('win', 1),\n",
              "             ('next', 1)])"
            ]
          },
          "metadata": {},
          "execution_count": 47
        }
      ]
    },
    {
      "cell_type": "code",
      "source": [
        "tokenizer.document_count"
      ],
      "metadata": {
        "colab": {
          "base_uri": "https://localhost:8080/"
        },
        "id": "e7XlGAtnJJWg",
        "outputId": "98380e40-4461-43ff-e839-e44067be9dc8"
      },
      "execution_count": 48,
      "outputs": [
        {
          "output_type": "execute_result",
          "data": {
            "text/plain": [
              "5"
            ]
          },
          "metadata": {},
          "execution_count": 48
        }
      ]
    },
    {
      "cell_type": "code",
      "source": [
        "encoding = tokenizer.texts_to_sequences(sentence)"
      ],
      "metadata": {
        "id": "B9rXp38iJJT3"
      },
      "execution_count": 49,
      "outputs": []
    },
    {
      "cell_type": "markdown",
      "source": [
        "we can do padding here also , means we want to make length of all sentence equal"
      ],
      "metadata": {
        "id": "mkfRbNhyORLx"
      }
    },
    {
      "cell_type": "code",
      "source": [
        "from keras.utils import pad_sequences"
      ],
      "metadata": {
        "id": "syMYfYHAJJRK"
      },
      "execution_count": 50,
      "outputs": []
    },
    {
      "cell_type": "code",
      "source": [
        "pad_sequences(encoding, padding=\"post\")"
      ],
      "metadata": {
        "colab": {
          "base_uri": "https://localhost:8080/"
        },
        "id": "UmWp52jPJJOd",
        "outputId": "fe75ba58-85c3-4b2e-a23c-24fa89999124"
      },
      "execution_count": 51,
      "outputs": [
        {
          "output_type": "execute_result",
          "data": {
            "text/plain": [
              "array([[ 2,  3,  1,  0,  0,  0],\n",
              "       [ 4,  5,  6,  7,  0,  0],\n",
              "       [ 8,  9, 10, 11, 12,  0],\n",
              "       [13, 14, 15, 16,  0,  0],\n",
              "       [17, 18, 19, 20, 21,  1]], dtype=int32)"
            ]
          },
          "metadata": {},
          "execution_count": 51
        }
      ]
    },
    {
      "cell_type": "markdown",
      "source": [
        "in imdb dataset of keras we already get all things the integer coded"
      ],
      "metadata": {
        "id": "zLhMT330Ot84"
      }
    },
    {
      "cell_type": "code",
      "source": [
        "X_train = pad_sequences(X_train,padding=\"post\",maxlen=50)\n",
        "X_test = pad_sequences(X_test,padding=\"post\",maxlen=50)"
      ],
      "metadata": {
        "id": "76TPoz5Rethz"
      },
      "execution_count": 55,
      "outputs": []
    },
    {
      "cell_type": "code",
      "source": [
        "model = Sequential()\n",
        "model.add(SimpleRNN(32,input_shape=(50,1)))"
      ],
      "metadata": {
        "id": "dPrgQ-uWOjAy"
      },
      "execution_count": 57,
      "outputs": []
    },
    {
      "cell_type": "code",
      "source": [
        "model.add(Dense(1,activation=\"sigmoid\"))"
      ],
      "metadata": {
        "id": "K_zQ4zR3jBo4"
      },
      "execution_count": 58,
      "outputs": []
    },
    {
      "cell_type": "code",
      "source": [
        "model.summary()"
      ],
      "metadata": {
        "colab": {
          "base_uri": "https://localhost:8080/"
        },
        "id": "JMJ0oYLcjFNz",
        "outputId": "ea465a40-0da9-4993-d54c-6819e0f4e502"
      },
      "execution_count": 60,
      "outputs": [
        {
          "output_type": "stream",
          "name": "stdout",
          "text": [
            "Model: \"sequential_4\"\n",
            "_________________________________________________________________\n",
            " Layer (type)                Output Shape              Param #   \n",
            "=================================================================\n",
            " simple_rnn_2 (SimpleRNN)    (None, 32)                1088      \n",
            "                                                                 \n",
            " dense_2 (Dense)             (None, 1)                 33        \n",
            "                                                                 \n",
            "=================================================================\n",
            "Total params: 1121 (4.38 KB)\n",
            "Trainable params: 1121 (4.38 KB)\n",
            "Non-trainable params: 0 (0.00 Byte)\n",
            "_________________________________________________________________\n"
          ]
        }
      ]
    },
    {
      "cell_type": "code",
      "source": [
        "model.compile(loss='binary_crossentropy',optimizer='adam',metrics=['accuracy'])"
      ],
      "metadata": {
        "id": "rS8RORJ0jFKX"
      },
      "execution_count": 62,
      "outputs": []
    },
    {
      "cell_type": "code",
      "source": [
        "model.fit(X_train,y_train,validation_data=(X_test,y_test),epochs=5)"
      ],
      "metadata": {
        "colab": {
          "base_uri": "https://localhost:8080/"
        },
        "id": "Wke2eUrrjFHl",
        "outputId": "66e60d26-112c-4b90-a338-4acd63145c2a"
      },
      "execution_count": 63,
      "outputs": [
        {
          "output_type": "stream",
          "name": "stdout",
          "text": [
            "Epoch 1/5\n",
            "782/782 [==============================] - 17s 18ms/step - loss: 0.7318 - accuracy: 0.5061 - val_loss: 0.6934 - val_accuracy: 0.5044\n",
            "Epoch 2/5\n",
            "782/782 [==============================] - 12s 15ms/step - loss: 0.6929 - accuracy: 0.5056 - val_loss: 0.6935 - val_accuracy: 0.5045\n",
            "Epoch 3/5\n",
            "782/782 [==============================] - 12s 15ms/step - loss: 0.6927 - accuracy: 0.5097 - val_loss: 0.6950 - val_accuracy: 0.5050\n",
            "Epoch 4/5\n",
            "782/782 [==============================] - 14s 18ms/step - loss: 0.6927 - accuracy: 0.5056 - val_loss: 0.6945 - val_accuracy: 0.5033\n",
            "Epoch 5/5\n",
            "782/782 [==============================] - 11s 14ms/step - loss: 0.6926 - accuracy: 0.5094 - val_loss: 0.6935 - val_accuracy: 0.5026\n"
          ]
        },
        {
          "output_type": "execute_result",
          "data": {
            "text/plain": [
              "<keras.src.callbacks.History at 0x79de99551c00>"
            ]
          },
          "metadata": {},
          "execution_count": 63
        }
      ]
    },
    {
      "cell_type": "code",
      "source": [
        "model.predict(X_test)"
      ],
      "metadata": {
        "colab": {
          "base_uri": "https://localhost:8080/"
        },
        "id": "fdLLQNnwjFEk",
        "outputId": "2f52ec93-b442-4b41-feb0-c442593a7cab"
      },
      "execution_count": 64,
      "outputs": [
        {
          "output_type": "stream",
          "name": "stdout",
          "text": [
            "782/782 [==============================] - 3s 4ms/step\n"
          ]
        },
        {
          "output_type": "execute_result",
          "data": {
            "text/plain": [
              "array([[0.4983651 ],\n",
              "       [0.49822205],\n",
              "       [0.49822444],\n",
              "       ...,\n",
              "       [0.49822205],\n",
              "       [0.49850586],\n",
              "       [0.49822205]], dtype=float32)"
            ]
          },
          "metadata": {},
          "execution_count": 64
        }
      ]
    },
    {
      "cell_type": "code",
      "source": [
        "Loss , accuracy = model.evaluate(X_test,y_test)"
      ],
      "metadata": {
        "colab": {
          "base_uri": "https://localhost:8080/"
        },
        "id": "fWu-CHefjFBu",
        "outputId": "688d3e56-43fb-406f-fb61-03faf4771cdf"
      },
      "execution_count": 66,
      "outputs": [
        {
          "output_type": "stream",
          "name": "stdout",
          "text": [
            "782/782 [==============================] - 4s 5ms/step - loss: 0.6935 - accuracy: 0.5026\n"
          ]
        }
      ]
    },
    {
      "cell_type": "code",
      "source": [
        "Loss"
      ],
      "metadata": {
        "colab": {
          "base_uri": "https://localhost:8080/"
        },
        "id": "5owe9BnJk5uS",
        "outputId": "3491e8a0-62e8-4cbf-a3b4-dc691577fa3f"
      },
      "execution_count": 67,
      "outputs": [
        {
          "output_type": "execute_result",
          "data": {
            "text/plain": [
              "0.6935423612594604"
            ]
          },
          "metadata": {},
          "execution_count": 67
        }
      ]
    },
    {
      "cell_type": "code",
      "source": [
        "accuracy"
      ],
      "metadata": {
        "colab": {
          "base_uri": "https://localhost:8080/"
        },
        "id": "Fgx31UlIlDmV",
        "outputId": "992aca73-6cde-45e8-acc5-d8a3c82f901e"
      },
      "execution_count": 68,
      "outputs": [
        {
          "output_type": "execute_result",
          "data": {
            "text/plain": [
              "0.5026000142097473"
            ]
          },
          "metadata": {},
          "execution_count": 68
        }
      ]
    },
    {
      "cell_type": "code",
      "source": [],
      "metadata": {
        "id": "YQ5uiBmrlFG2"
      },
      "execution_count": null,
      "outputs": []
    }
  ]
}