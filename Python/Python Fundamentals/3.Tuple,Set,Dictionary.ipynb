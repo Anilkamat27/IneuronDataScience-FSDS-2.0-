{
  "nbformat": 4,
  "nbformat_minor": 0,
  "metadata": {
    "colab": {
      "provenance": []
    },
    "kernelspec": {
      "name": "python3",
      "display_name": "Python 3"
    },
    "language_info": {
      "name": "python"
    }
  },
  "cells": [
    {
      "cell_type": "markdown",
      "source": [
        "**TUPLES**"
      ],
      "metadata": {
        "id": "sh6baz6D_G1o"
      }
    },
    {
      "cell_type": "code",
      "execution_count": 1,
      "metadata": {
        "id": "JK4tlzIP-1vH"
      },
      "outputs": [],
      "source": [
        "t= (1,2,3,4,5,6)"
      ]
    },
    {
      "cell_type": "code",
      "source": [
        "type(t)"
      ],
      "metadata": {
        "colab": {
          "base_uri": "https://localhost:8080/"
        },
        "id": "HjV5BCYH_X4b",
        "outputId": "0ab29203-7530-4b46-bf91-64311dfc5646"
      },
      "execution_count": 2,
      "outputs": [
        {
          "output_type": "execute_result",
          "data": {
            "text/plain": [
              "tuple"
            ]
          },
          "metadata": {},
          "execution_count": 2
        }
      ]
    },
    {
      "cell_type": "code",
      "source": [
        " t1=('yui',231,231.45,True)"
      ],
      "metadata": {
        "id": "nInco7fs_ZT6"
      },
      "execution_count": 3,
      "outputs": []
    },
    {
      "cell_type": "code",
      "source": [
        "t2=()\n",
        "type(t2)"
      ],
      "metadata": {
        "colab": {
          "base_uri": "https://localhost:8080/"
        },
        "id": "KuoOvrVHAAvp",
        "outputId": "c71c122d-103e-4ff9-ad4a-f92b70e134de"
      },
      "execution_count": 4,
      "outputs": [
        {
          "output_type": "execute_result",
          "data": {
            "text/plain": [
              "tuple"
            ]
          },
          "metadata": {},
          "execution_count": 4
        }
      ]
    },
    {
      "cell_type": "code",
      "source": [
        "t1[0::2]"
      ],
      "metadata": {
        "colab": {
          "base_uri": "https://localhost:8080/"
        },
        "id": "dVASmO3rAUsH",
        "outputId": "db29c0d8-dcbe-4474-9df3-f9aa47fd8607"
      },
      "execution_count": 5,
      "outputs": [
        {
          "output_type": "execute_result",
          "data": {
            "text/plain": [
              "('yui', 231.45)"
            ]
          },
          "metadata": {},
          "execution_count": 5
        }
      ]
    },
    {
      "cell_type": "code",
      "source": [
        "t1[::-1]"
      ],
      "metadata": {
        "colab": {
          "base_uri": "https://localhost:8080/"
        },
        "id": "0FhI1yfeAoPG",
        "outputId": "5842871f-0bbc-4071-b4c6-7a6726f4c6af"
      },
      "execution_count": 6,
      "outputs": [
        {
          "output_type": "execute_result",
          "data": {
            "text/plain": [
              "(True, 231.45, 231, 'yui')"
            ]
          },
          "metadata": {},
          "execution_count": 6
        }
      ]
    },
    {
      "cell_type": "code",
      "source": [
        "t1[0]=\"Anil\""
      ],
      "metadata": {
        "colab": {
          "base_uri": "https://localhost:8080/",
          "height": 172
        },
        "id": "aom11beVAxyG",
        "outputId": "a9a22ed8-9012-49a2-dda6-5483d91a4973"
      },
      "execution_count": 7,
      "outputs": [
        {
          "output_type": "error",
          "ename": "TypeError",
          "evalue": "ignored",
          "traceback": [
            "\u001b[0;31m---------------------------------------------------------------------------\u001b[0m",
            "\u001b[0;31mTypeError\u001b[0m                                 Traceback (most recent call last)",
            "\u001b[0;32m<ipython-input-7-93107ef3bfa0>\u001b[0m in \u001b[0;36m<module>\u001b[0;34m\u001b[0m\n\u001b[0;32m----> 1\u001b[0;31m \u001b[0mt1\u001b[0m\u001b[0;34m[\u001b[0m\u001b[0;36m0\u001b[0m\u001b[0;34m]\u001b[0m\u001b[0;34m=\u001b[0m\u001b[0;34m\"Anil\"\u001b[0m\u001b[0;34m\u001b[0m\u001b[0;34m\u001b[0m\u001b[0m\n\u001b[0m",
            "\u001b[0;31mTypeError\u001b[0m: 'tuple' object does not support item assignment"
          ]
        }
      ]
    },
    {
      "cell_type": "code",
      "source": [
        "t3=('rty',567,564.12,True,False,3+7j)"
      ],
      "metadata": {
        "id": "Kog4Jbh3CEtU"
      },
      "execution_count": 8,
      "outputs": []
    },
    {
      "cell_type": "code",
      "source": [
        "t1+t3"
      ],
      "metadata": {
        "id": "yVses93sCY60",
        "colab": {
          "base_uri": "https://localhost:8080/"
        },
        "outputId": "c6305259-0ec6-45ad-cb53-fc3bb97d30bd"
      },
      "execution_count": 9,
      "outputs": [
        {
          "output_type": "execute_result",
          "data": {
            "text/plain": [
              "('yui', 231, 231.45, True, 'rty', 567, 564.12, True, False, (3+7j))"
            ]
          },
          "metadata": {},
          "execution_count": 9
        }
      ]
    },
    {
      "cell_type": "code",
      "source": [
        "t1*2"
      ],
      "metadata": {
        "id": "Tv4WsoE8CbnD",
        "colab": {
          "base_uri": "https://localhost:8080/"
        },
        "outputId": "48807a45-5312-4d6e-d727-56487d40ec49"
      },
      "execution_count": 10,
      "outputs": [
        {
          "output_type": "execute_result",
          "data": {
            "text/plain": [
              "('yui', 231, 231.45, True, 'yui', 231, 231.45, True)"
            ]
          },
          "metadata": {},
          "execution_count": 10
        }
      ]
    },
    {
      "cell_type": "code",
      "source": [
        "t4= (1,2,3,4,(3,4,5,6),(23,45,(3432345)))\n",
        "#nested tuple"
      ],
      "metadata": {
        "id": "dNzT37__C0Oy"
      },
      "execution_count": 11,
      "outputs": []
    },
    {
      "cell_type": "code",
      "source": [
        "type(t4)"
      ],
      "metadata": {
        "id": "CyaCoWISFKad",
        "colab": {
          "base_uri": "https://localhost:8080/"
        },
        "outputId": "086db751-298f-4d55-9ac9-73b73de85158"
      },
      "execution_count": 12,
      "outputs": [
        {
          "output_type": "execute_result",
          "data": {
            "text/plain": [
              "tuple"
            ]
          },
          "metadata": {},
          "execution_count": 12
        }
      ]
    },
    {
      "cell_type": "code",
      "source": [
        "tl=([1,2,3],345)"
      ],
      "metadata": {
        "id": "ZvP7n9kaFMd9"
      },
      "execution_count": 13,
      "outputs": []
    },
    {
      "cell_type": "code",
      "source": [
        "type(tl)"
      ],
      "metadata": {
        "id": "M9EaWVOrFfSN",
        "colab": {
          "base_uri": "https://localhost:8080/"
        },
        "outputId": "fa734fb4-65bc-49a7-9724-f6fba5dac444"
      },
      "execution_count": 14,
      "outputs": [
        {
          "output_type": "execute_result",
          "data": {
            "text/plain": [
              "tuple"
            ]
          },
          "metadata": {},
          "execution_count": 14
        }
      ]
    },
    {
      "cell_type": "code",
      "source": [
        "tl[0][2]=4\n",
        "#I am able to change the data in the list which is inside the tuple"
      ],
      "metadata": {
        "id": "cfrwwM4iFhas"
      },
      "execution_count": 15,
      "outputs": []
    },
    {
      "cell_type": "code",
      "source": [
        "tl[0]='2'"
      ],
      "metadata": {
        "id": "LJliDb1eF0Os",
        "colab": {
          "base_uri": "https://localhost:8080/",
          "height": 172
        },
        "outputId": "25d1311d-cedb-4161-cce2-11a3e74d48aa"
      },
      "execution_count": 16,
      "outputs": [
        {
          "output_type": "error",
          "ename": "TypeError",
          "evalue": "ignored",
          "traceback": [
            "\u001b[0;31m---------------------------------------------------------------------------\u001b[0m",
            "\u001b[0;31mTypeError\u001b[0m                                 Traceback (most recent call last)",
            "\u001b[0;32m<ipython-input-16-6263df9cdab5>\u001b[0m in \u001b[0;36m<module>\u001b[0;34m\u001b[0m\n\u001b[0;32m----> 1\u001b[0;31m \u001b[0mtl\u001b[0m\u001b[0;34m[\u001b[0m\u001b[0;36m0\u001b[0m\u001b[0;34m]\u001b[0m\u001b[0;34m=\u001b[0m\u001b[0;34m'2'\u001b[0m\u001b[0;34m\u001b[0m\u001b[0;34m\u001b[0m\u001b[0m\n\u001b[0m",
            "\u001b[0;31mTypeError\u001b[0m: 'tuple' object does not support item assignment"
          ]
        }
      ]
    },
    {
      "cell_type": "code",
      "source": [
        "t7=[1,2,3,4,(34,43,56)]"
      ],
      "metadata": {
        "id": "yULhTDLZGFo6"
      },
      "execution_count": 17,
      "outputs": []
    },
    {
      "cell_type": "code",
      "source": [
        "#we can not add tuples with list\n",
        "t7+t4\n",
        "#Hetrogenous concatenation is not allowed"
      ],
      "metadata": {
        "id": "0oM8HiF_Gs7p",
        "colab": {
          "base_uri": "https://localhost:8080/",
          "height": 209
        },
        "outputId": "c7370ca8-548d-48b0-94c4-b5a8c62812e8"
      },
      "execution_count": 18,
      "outputs": [
        {
          "output_type": "error",
          "ename": "TypeError",
          "evalue": "ignored",
          "traceback": [
            "\u001b[0;31m---------------------------------------------------------------------------\u001b[0m",
            "\u001b[0;31mTypeError\u001b[0m                                 Traceback (most recent call last)",
            "\u001b[0;32m<ipython-input-18-ccd5c1249f7d>\u001b[0m in \u001b[0;36m<module>\u001b[0;34m\u001b[0m\n\u001b[1;32m      1\u001b[0m \u001b[0;31m#we can not add tuples with list\u001b[0m\u001b[0;34m\u001b[0m\u001b[0;34m\u001b[0m\u001b[0;34m\u001b[0m\u001b[0m\n\u001b[0;32m----> 2\u001b[0;31m \u001b[0mt7\u001b[0m\u001b[0;34m+\u001b[0m\u001b[0mt4\u001b[0m\u001b[0;34m\u001b[0m\u001b[0;34m\u001b[0m\u001b[0m\n\u001b[0m\u001b[1;32m      3\u001b[0m \u001b[0;31m#Hetrogenous concatenation is not allowed\u001b[0m\u001b[0;34m\u001b[0m\u001b[0;34m\u001b[0m\u001b[0;34m\u001b[0m\u001b[0m\n",
            "\u001b[0;31mTypeError\u001b[0m: can only concatenate list (not \"tuple\") to list"
          ]
        }
      ]
    },
    {
      "cell_type": "code",
      "source": [
        "convertedList=[]\n",
        "convertedList= t4"
      ],
      "metadata": {
        "id": "s-qsHjsDHFgJ"
      },
      "execution_count": 19,
      "outputs": []
    },
    {
      "cell_type": "code",
      "source": [
        "convertedList"
      ],
      "metadata": {
        "id": "IpDm2B7cHvL4",
        "colab": {
          "base_uri": "https://localhost:8080/"
        },
        "outputId": "7cffebef-d0e1-41b8-e36d-5abfa2ad8232"
      },
      "execution_count": 20,
      "outputs": [
        {
          "output_type": "execute_result",
          "data": {
            "text/plain": [
              "(1, 2, 3, 4, (3, 4, 5, 6), (23, 45, 3432345))"
            ]
          },
          "metadata": {},
          "execution_count": 20
        }
      ]
    },
    {
      "cell_type": "code",
      "source": [
        "type(convertedList)"
      ],
      "metadata": {
        "id": "IgEEfFS3H6lX",
        "colab": {
          "base_uri": "https://localhost:8080/"
        },
        "outputId": "257d8c99-d317-42a8-ea0a-e5d3d1ab63b5"
      },
      "execution_count": 21,
      "outputs": [
        {
          "output_type": "execute_result",
          "data": {
            "text/plain": [
              "tuple"
            ]
          },
          "metadata": {},
          "execution_count": 21
        }
      ]
    },
    {
      "cell_type": "code",
      "source": [
        "convertedListThroughFun= list(t1)"
      ],
      "metadata": {
        "id": "t0JkAcXXIHAH"
      },
      "execution_count": 22,
      "outputs": []
    },
    {
      "cell_type": "code",
      "source": [
        "type(convertedListThroughFun)"
      ],
      "metadata": {
        "id": "yn8GQA4BIgRV",
        "colab": {
          "base_uri": "https://localhost:8080/"
        },
        "outputId": "97fe795c-f60a-4ce1-9559-7713cd93c828"
      },
      "execution_count": 23,
      "outputs": [
        {
          "output_type": "execute_result",
          "data": {
            "text/plain": [
              "list"
            ]
          },
          "metadata": {},
          "execution_count": 23
        }
      ]
    },
    {
      "cell_type": "code",
      "source": [
        "convertedTupleThroughFunc= tuple(convertedListThroughFun)"
      ],
      "metadata": {
        "id": "YDoVUInhInvF"
      },
      "execution_count": 24,
      "outputs": []
    },
    {
      "cell_type": "code",
      "source": [
        "type(convertedTupleThroughFunc)\n"
      ],
      "metadata": {
        "id": "08VaHMIuIyQF",
        "colab": {
          "base_uri": "https://localhost:8080/"
        },
        "outputId": "1a05284e-9a56-4e6b-ab99-8f0dc41b0623"
      },
      "execution_count": 25,
      "outputs": [
        {
          "output_type": "execute_result",
          "data": {
            "text/plain": [
              "tuple"
            ]
          },
          "metadata": {},
          "execution_count": 25
        }
      ]
    },
    {
      "cell_type": "markdown",
      "source": [
        "**SET**"
      ],
      "metadata": {
        "id": "9jRtVJBFJApR"
      }
    },
    {
      "cell_type": "code",
      "source": [
        "#let take a scenario in our collection we have multiple duplicate element , best easy way to do convert the given collection into set, lest see how"
      ],
      "metadata": {
        "id": "ESHRnREmI42U"
      },
      "execution_count": 26,
      "outputs": []
    },
    {
      "cell_type": "code",
      "source": [
        "s=(1,2,3,4,5,6,1,2,3,4,54,56,32)\n",
        "type(s)"
      ],
      "metadata": {
        "id": "BMRZo_9VJ0ck",
        "colab": {
          "base_uri": "https://localhost:8080/"
        },
        "outputId": "04eda06a-66d2-4ade-c6ad-52b718447acc"
      },
      "execution_count": 27,
      "outputs": [
        {
          "output_type": "execute_result",
          "data": {
            "text/plain": [
              "tuple"
            ]
          },
          "metadata": {},
          "execution_count": 27
        }
      ]
    },
    {
      "cell_type": "code",
      "source": [
        "FirstSet= set(s)\n",
        "type(FirstSet)"
      ],
      "metadata": {
        "id": "F0imavnVJ-qD",
        "colab": {
          "base_uri": "https://localhost:8080/"
        },
        "outputId": "989ad68e-96f8-40c5-a510-98dd68e30333"
      },
      "execution_count": 28,
      "outputs": [
        {
          "output_type": "execute_result",
          "data": {
            "text/plain": [
              "set"
            ]
          },
          "metadata": {},
          "execution_count": 28
        }
      ]
    },
    {
      "cell_type": "code",
      "source": [
        "FirstSet\n",
        "#see all the duplicates get removed"
      ],
      "metadata": {
        "id": "eS4jqkxLKHND",
        "colab": {
          "base_uri": "https://localhost:8080/"
        },
        "outputId": "d2a52cb1-522a-445f-eddd-03fb0ad1cc79"
      },
      "execution_count": 29,
      "outputs": [
        {
          "output_type": "execute_result",
          "data": {
            "text/plain": [
              "{1, 2, 3, 4, 5, 6, 32, 54, 56}"
            ]
          },
          "metadata": {},
          "execution_count": 29
        }
      ]
    },
    {
      "cell_type": "code",
      "source": [
        "ExpectedTbobeSet= {}\n",
        "type(ExpectedTbobeSet)"
      ],
      "metadata": {
        "id": "HjPXKFXCKSez",
        "colab": {
          "base_uri": "https://localhost:8080/"
        },
        "outputId": "e64c2c9b-5a29-47dc-a688-9b9ff7048be9"
      },
      "execution_count": 30,
      "outputs": [
        {
          "output_type": "execute_result",
          "data": {
            "text/plain": [
              "dict"
            ]
          },
          "metadata": {},
          "execution_count": 30
        }
      ]
    },
    {
      "cell_type": "code",
      "source": [
        "ExpectedTobeSETsecond= {1,2,3}\n",
        "type(ExpectedTobeSETsecond)"
      ],
      "metadata": {
        "id": "LtAOZjneLOcQ",
        "colab": {
          "base_uri": "https://localhost:8080/"
        },
        "outputId": "e4a4fdbc-2786-418e-af52-805e1305572b"
      },
      "execution_count": 31,
      "outputs": [
        {
          "output_type": "execute_result",
          "data": {
            "text/plain": [
              "set"
            ]
          },
          "metadata": {},
          "execution_count": 31
        }
      ]
    },
    {
      "cell_type": "code",
      "source": [
        "FirstSet[0]"
      ],
      "metadata": {
        "id": "Oj8u2rlgLhQf",
        "colab": {
          "base_uri": "https://localhost:8080/",
          "height": 172
        },
        "outputId": "732232a3-1c22-4ec2-b959-fae6d14f4a8b"
      },
      "execution_count": 32,
      "outputs": [
        {
          "output_type": "error",
          "ename": "TypeError",
          "evalue": "ignored",
          "traceback": [
            "\u001b[0;31m---------------------------------------------------------------------------\u001b[0m",
            "\u001b[0;31mTypeError\u001b[0m                                 Traceback (most recent call last)",
            "\u001b[0;32m<ipython-input-32-95206f92872f>\u001b[0m in \u001b[0;36m<module>\u001b[0;34m\u001b[0m\n\u001b[0;32m----> 1\u001b[0;31m \u001b[0mFirstSet\u001b[0m\u001b[0;34m[\u001b[0m\u001b[0;36m0\u001b[0m\u001b[0;34m]\u001b[0m\u001b[0;34m\u001b[0m\u001b[0;34m\u001b[0m\u001b[0m\n\u001b[0m",
            "\u001b[0;31mTypeError\u001b[0m: 'set' object is not subscriptable"
          ]
        }
      ]
    },
    {
      "cell_type": "code",
      "source": [
        "#To access youhave to convert it into list\n",
        "list(FirstSet)"
      ],
      "metadata": {
        "id": "iWLtS6lbbq4t",
        "colab": {
          "base_uri": "https://localhost:8080/"
        },
        "outputId": "08fc1d3e-27ff-4d10-f9c6-7d8f5ae0dca1"
      },
      "execution_count": 33,
      "outputs": [
        {
          "output_type": "execute_result",
          "data": {
            "text/plain": [
              "[32, 1, 2, 3, 4, 5, 6, 54, 56]"
            ]
          },
          "metadata": {},
          "execution_count": 33
        }
      ]
    },
    {
      "cell_type": "code",
      "source": [
        "FirstSet.add(\"fgdhj\")\n",
        "FirstSet"
      ],
      "metadata": {
        "id": "B6r7Z2kUcVyr",
        "colab": {
          "base_uri": "https://localhost:8080/"
        },
        "outputId": "699da6e7-52d5-4b68-cb84-c075f2eece37"
      },
      "execution_count": 34,
      "outputs": [
        {
          "output_type": "execute_result",
          "data": {
            "text/plain": [
              "{1, 2, 3, 32, 4, 5, 54, 56, 6, 'fgdhj'}"
            ]
          },
          "metadata": {},
          "execution_count": 34
        }
      ]
    },
    {
      "cell_type": "code",
      "source": [
        "FirstSet.add([1,3,4])"
      ],
      "metadata": {
        "id": "CcOEZoT0ctN6",
        "colab": {
          "base_uri": "https://localhost:8080/",
          "height": 172
        },
        "outputId": "68ce0ee1-de55-4f31-e249-8aaa0beefc8a"
      },
      "execution_count": 35,
      "outputs": [
        {
          "output_type": "error",
          "ename": "TypeError",
          "evalue": "ignored",
          "traceback": [
            "\u001b[0;31m---------------------------------------------------------------------------\u001b[0m",
            "\u001b[0;31mTypeError\u001b[0m                                 Traceback (most recent call last)",
            "\u001b[0;32m<ipython-input-35-55e1ea014fe3>\u001b[0m in \u001b[0;36m<module>\u001b[0;34m\u001b[0m\n\u001b[0;32m----> 1\u001b[0;31m \u001b[0mFirstSet\u001b[0m\u001b[0;34m.\u001b[0m\u001b[0madd\u001b[0m\u001b[0;34m(\u001b[0m\u001b[0;34m[\u001b[0m\u001b[0;36m1\u001b[0m\u001b[0;34m,\u001b[0m\u001b[0;36m3\u001b[0m\u001b[0;34m,\u001b[0m\u001b[0;36m4\u001b[0m\u001b[0;34m]\u001b[0m\u001b[0;34m)\u001b[0m\u001b[0;34m\u001b[0m\u001b[0;34m\u001b[0m\u001b[0m\n\u001b[0m",
            "\u001b[0;31mTypeError\u001b[0m: unhashable type: 'list'"
          ]
        }
      ]
    },
    {
      "cell_type": "code",
      "source": [
        "FirstSet.add((1,3,4))"
      ],
      "metadata": {
        "id": "2FGlc79pdNS5"
      },
      "execution_count": 36,
      "outputs": []
    },
    {
      "cell_type": "code",
      "source": [
        "FirstSet"
      ],
      "metadata": {
        "id": "8B7XacRceMTI",
        "colab": {
          "base_uri": "https://localhost:8080/"
        },
        "outputId": "1c15d5be-2938-4d0e-aefb-222a7a1f31cf"
      },
      "execution_count": 37,
      "outputs": [
        {
          "output_type": "execute_result",
          "data": {
            "text/plain": [
              "{(1, 3, 4), 1, 2, 3, 32, 4, 5, 54, 56, 6, 'fgdhj'}"
            ]
          },
          "metadata": {},
          "execution_count": 37
        }
      ]
    },
    {
      "cell_type": "code",
      "source": [
        "FirstSet.add((1,3,4)) #it removes similar tuples as well"
      ],
      "metadata": {
        "id": "7z3sNeGKePdX"
      },
      "execution_count": 38,
      "outputs": []
    },
    {
      "cell_type": "code",
      "source": [
        "FirstSet"
      ],
      "metadata": {
        "colab": {
          "base_uri": "https://localhost:8080/"
        },
        "id": "ATqKCUU_ABjM",
        "outputId": "20c1d052-8812-40b5-8675-cfeae47d9d2c"
      },
      "execution_count": 39,
      "outputs": [
        {
          "output_type": "execute_result",
          "data": {
            "text/plain": [
              "{(1, 3, 4), 1, 2, 3, 32, 4, 5, 54, 56, 6, 'fgdhj'}"
            ]
          },
          "metadata": {},
          "execution_count": 39
        }
      ]
    },
    {
      "cell_type": "code",
      "source": [
        "#list to set , tuple to set all are possible \n",
        "FirstSet.remove(2)\n"
      ],
      "metadata": {
        "id": "cZOqr367ADAL"
      },
      "execution_count": 46,
      "outputs": []
    },
    {
      "cell_type": "code",
      "source": [
        "FirstSet.discard(3)"
      ],
      "metadata": {
        "id": "_xxHt5YJAxd6"
      },
      "execution_count": 44,
      "outputs": []
    },
    {
      "cell_type": "code",
      "source": [
        "FirstSet[0]"
      ],
      "metadata": {
        "colab": {
          "base_uri": "https://localhost:8080/",
          "height": 172
        },
        "id": "LH7GvTkrBTvp",
        "outputId": "b0674acc-7848-4849-8b71-99abe3e7dbee"
      },
      "execution_count": 47,
      "outputs": [
        {
          "output_type": "error",
          "ename": "TypeError",
          "evalue": "ignored",
          "traceback": [
            "\u001b[0;31m---------------------------------------------------------------------------\u001b[0m",
            "\u001b[0;31mTypeError\u001b[0m                                 Traceback (most recent call last)",
            "\u001b[0;32m<ipython-input-47-95206f92872f>\u001b[0m in \u001b[0;36m<module>\u001b[0;34m\u001b[0m\n\u001b[0;32m----> 1\u001b[0;31m \u001b[0mFirstSet\u001b[0m\u001b[0;34m[\u001b[0m\u001b[0;36m0\u001b[0m\u001b[0;34m]\u001b[0m\u001b[0;34m\u001b[0m\u001b[0;34m\u001b[0m\u001b[0m\n\u001b[0m",
            "\u001b[0;31mTypeError\u001b[0m: 'set' object is not subscriptable"
          ]
        }
      ]
    },
    {
      "cell_type": "code",
      "source": [
        "{\"Sudh\",\"Sudh\"}"
      ],
      "metadata": {
        "colab": {
          "base_uri": "https://localhost:8080/"
        },
        "id": "FpmS6ofKH8jb",
        "outputId": "415b5fa2-0f9b-4c1a-da08-15852b7a309b"
      },
      "execution_count": 48,
      "outputs": [
        {
          "output_type": "execute_result",
          "data": {
            "text/plain": [
              "{'Sudh'}"
            ]
          },
          "metadata": {},
          "execution_count": 48
        }
      ]
    },
    {
      "cell_type": "code",
      "source": [
        "{\"Sudh\",\"sudh\"}"
      ],
      "metadata": {
        "colab": {
          "base_uri": "https://localhost:8080/"
        },
        "id": "Sq-iyn3sIUCK",
        "outputId": "229292dc-f767-46ed-b920-9285a136382c"
      },
      "execution_count": 49,
      "outputs": [
        {
          "output_type": "execute_result",
          "data": {
            "text/plain": [
              "{'Sudh', 'sudh'}"
            ]
          },
          "metadata": {},
          "execution_count": 49
        }
      ]
    },
    {
      "cell_type": "markdown",
      "source": [
        "**DICTIONARY**"
      ],
      "metadata": {
        "id": "ytYbvQmiIgQL"
      }
    },
    {
      "cell_type": "code",
      "source": [
        "d={}\n",
        "type(d)"
      ],
      "metadata": {
        "colab": {
          "base_uri": "https://localhost:8080/"
        },
        "id": "3T_wZ4XTIYHp",
        "outputId": "789a2e09-2004-4ed5-f16d-180b715138c6"
      },
      "execution_count": 50,
      "outputs": [
        {
          "output_type": "execute_result",
          "data": {
            "text/plain": [
              "dict"
            ]
          },
          "metadata": {},
          "execution_count": 50
        }
      ]
    },
    {
      "cell_type": "code",
      "source": [
        "d1={3:\"ANIL\"}\n",
        "type(d1)"
      ],
      "metadata": {
        "colab": {
          "base_uri": "https://localhost:8080/"
        },
        "id": "3l9EfOH4QEpq",
        "outputId": "a3be51d1-0ec8-4922-97cb-cfa757f903db"
      },
      "execution_count": 51,
      "outputs": [
        {
          "output_type": "execute_result",
          "data": {
            "text/plain": [
              "dict"
            ]
          },
          "metadata": {},
          "execution_count": 51
        }
      ]
    },
    {
      "cell_type": "code",
      "source": [
        "d3={\"key1\":234, \"Key2\":\"Anil\" ,\"Key3\":[1,2,3,4,5,6],\"Key4\":(1,2,3,4,5),\"Key5\":{1,2,3,4,5,67}}"
      ],
      "metadata": {
        "id": "2g-Hdd0YQfyo"
      },
      "execution_count": 52,
      "outputs": []
    },
    {
      "cell_type": "code",
      "source": [
        "d3"
      ],
      "metadata": {
        "colab": {
          "base_uri": "https://localhost:8080/"
        },
        "id": "PVFIrhLyRKJm",
        "outputId": "59fd13c7-80bf-420b-956f-a551cb18cf29"
      },
      "execution_count": 53,
      "outputs": [
        {
          "output_type": "execute_result",
          "data": {
            "text/plain": [
              "{'key1': 234,\n",
              " 'Key2': 'Anil',\n",
              " 'Key3': [1, 2, 3, 4, 5, 6],\n",
              " 'Key4': (1, 2, 3, 4, 5),\n",
              " 'Key5': {1, 2, 3, 4, 5, 67}}"
            ]
          },
          "metadata": {},
          "execution_count": 53
        }
      ]
    },
    {
      "cell_type": "code",
      "source": [
        "d3['key1']"
      ],
      "metadata": {
        "colab": {
          "base_uri": "https://localhost:8080/"
        },
        "id": "KVk7okBMRLYW",
        "outputId": "9eb8db8a-4726-417e-c106-56647ef95fd0"
      },
      "execution_count": 56,
      "outputs": [
        {
          "output_type": "execute_result",
          "data": {
            "text/plain": [
              "234"
            ]
          },
          "metadata": {},
          "execution_count": 56
        }
      ]
    },
    {
      "cell_type": "code",
      "source": [
        "d4={@:\"AnilKamat\"}"
      ],
      "metadata": {
        "colab": {
          "base_uri": "https://localhost:8080/",
          "height": 136
        },
        "id": "pyMVqKmsRW_2",
        "outputId": "a956d7e8-b488-44ff-9c5b-ae9dececad6e"
      },
      "execution_count": 61,
      "outputs": [
        {
          "output_type": "error",
          "ename": "SyntaxError",
          "evalue": "ignored",
          "traceback": [
            "\u001b[0;36m  File \u001b[0;32m\"<ipython-input-61-df66294721ff>\"\u001b[0;36m, line \u001b[0;32m1\u001b[0m\n\u001b[0;31m    d4={@:\"AnilKamat\"}\u001b[0m\n\u001b[0m        ^\u001b[0m\n\u001b[0;31mSyntaxError\u001b[0m\u001b[0;31m:\u001b[0m invalid syntax\n"
          ]
        }
      ]
    },
    {
      "cell_type": "code",
      "source": [
        "d4={.3:\"HJU=\"}"
      ],
      "metadata": {
        "id": "XJPQ8cKQSXnz"
      },
      "execution_count": 62,
      "outputs": []
    },
    {
      "cell_type": "code",
      "source": [
        "d5={\"key1\":234, \"key2\":345, \"key1\":[1,2,3,4,5,6]}\n",
        "d5"
      ],
      "metadata": {
        "colab": {
          "base_uri": "https://localhost:8080/"
        },
        "id": "EggtNfF_S-Cj",
        "outputId": "06c3502f-54b2-45e7-8c6d-2b4e18cfcb81"
      },
      "execution_count": 65,
      "outputs": [
        {
          "output_type": "execute_result",
          "data": {
            "text/plain": [
              "{'key1': [1, 2, 3, 4, 5, 6], 'key2': 345}"
            ]
          },
          "metadata": {},
          "execution_count": 65
        }
      ]
    },
    {
      "cell_type": "code",
      "source": [
        "d5['key1']"
      ],
      "metadata": {
        "colab": {
          "base_uri": "https://localhost:8080/"
        },
        "id": "TiYAKc0yTynR",
        "outputId": "08b6e693-6cb7-48d6-d70f-bb9be7d6587c"
      },
      "execution_count": 66,
      "outputs": [
        {
          "output_type": "execute_result",
          "data": {
            "text/plain": [
              "[1, 2, 3, 4, 5, 6]"
            ]
          },
          "metadata": {},
          "execution_count": 66
        }
      ]
    },
    {
      "cell_type": "code",
      "source": [
        "d6={[1,2,3,4,5]:\"sudhanshu\"}"
      ],
      "metadata": {
        "colab": {
          "base_uri": "https://localhost:8080/",
          "height": 172
        },
        "id": "YvhAWte2T55R",
        "outputId": "0b4829ab-722d-4e26-9237-e0e99b8b43f4"
      },
      "execution_count": 69,
      "outputs": [
        {
          "output_type": "error",
          "ename": "TypeError",
          "evalue": "ignored",
          "traceback": [
            "\u001b[0;31m---------------------------------------------------------------------------\u001b[0m",
            "\u001b[0;31mTypeError\u001b[0m                                 Traceback (most recent call last)",
            "\u001b[0;32m<ipython-input-69-ff17d7a7de52>\u001b[0m in \u001b[0;36m<module>\u001b[0;34m\u001b[0m\n\u001b[0;32m----> 1\u001b[0;31m \u001b[0md6\u001b[0m\u001b[0;34m=\u001b[0m\u001b[0;34m{\u001b[0m\u001b[0;34m[\u001b[0m\u001b[0;36m1\u001b[0m\u001b[0;34m,\u001b[0m\u001b[0;36m2\u001b[0m\u001b[0;34m,\u001b[0m\u001b[0;36m3\u001b[0m\u001b[0;34m,\u001b[0m\u001b[0;36m4\u001b[0m\u001b[0;34m,\u001b[0m\u001b[0;36m5\u001b[0m\u001b[0;34m]\u001b[0m\u001b[0;34m:\u001b[0m\u001b[0;34m\"sudhanshu\"\u001b[0m\u001b[0;34m}\u001b[0m\u001b[0;34m\u001b[0m\u001b[0;34m\u001b[0m\u001b[0m\n\u001b[0m",
            "\u001b[0;31mTypeError\u001b[0m: unhashable type: 'list'"
          ]
        }
      ]
    },
    {
      "cell_type": "code",
      "source": [
        "d6={\"[1,2,3,4,5]\":\"sudhanshu\"}"
      ],
      "metadata": {
        "id": "PhCLc3GVWZIG"
      },
      "execution_count": 72,
      "outputs": []
    },
    {
      "cell_type": "code",
      "source": [
        "d5[\"key1\"][3]"
      ],
      "metadata": {
        "colab": {
          "base_uri": "https://localhost:8080/"
        },
        "id": "vB2Hr733Wf8L",
        "outputId": "edd65f67-6b1f-48f6-fea8-c0c876683a01"
      },
      "execution_count": 73,
      "outputs": [
        {
          "output_type": "execute_result",
          "data": {
            "text/plain": [
              "4"
            ]
          },
          "metadata": {},
          "execution_count": 73
        }
      ]
    },
    {
      "cell_type": "code",
      "source": [
        "d.keys()"
      ],
      "metadata": {
        "colab": {
          "base_uri": "https://localhost:8080/"
        },
        "id": "e4UNZWxxXThJ",
        "outputId": "8f0ac7f7-9411-4290-ecfa-2bb1e74ed4d5"
      },
      "execution_count": 74,
      "outputs": [
        {
          "output_type": "execute_result",
          "data": {
            "text/plain": [
              "dict_keys([])"
            ]
          },
          "metadata": {},
          "execution_count": 74
        }
      ]
    },
    {
      "cell_type": "code",
      "source": [
        "d5.keys()\n",
        "d5.values()"
      ],
      "metadata": {
        "colab": {
          "base_uri": "https://localhost:8080/"
        },
        "id": "dWDtJFpAXc8J",
        "outputId": "35355b6c-f4cf-4711-97ab-e5233ea0b299"
      },
      "execution_count": 78,
      "outputs": [
        {
          "output_type": "execute_result",
          "data": {
            "text/plain": [
              "dict_values([[1, 2, 3, 4, 5, 6], 345])"
            ]
          },
          "metadata": {},
          "execution_count": 78
        }
      ]
    },
    {
      "cell_type": "code",
      "source": [
        "d3.items()"
      ],
      "metadata": {
        "colab": {
          "base_uri": "https://localhost:8080/"
        },
        "id": "GujJCqUFXkWJ",
        "outputId": "7b30920f-ec47-4f74-80a8-8be36ad182ef"
      },
      "execution_count": 79,
      "outputs": [
        {
          "output_type": "execute_result",
          "data": {
            "text/plain": [
              "dict_items([('key1', 234), ('Key2', 'Anil'), ('Key3', [1, 2, 3, 4, 5, 6]), ('Key4', (1, 2, 3, 4, 5)), ('Key5', {1, 2, 3, 4, 5, 67})])"
            ]
          },
          "metadata": {},
          "execution_count": 79
        }
      ]
    },
    {
      "cell_type": "code",
      "source": [
        "s7=d3.items()\n",
        "type(s7)\n",
        "type(s7)"
      ],
      "metadata": {
        "colab": {
          "base_uri": "https://localhost:8080/"
        },
        "id": "5UmAzMOYYDmI",
        "outputId": "6879a541-4602-4b0d-8707-796bb542174b"
      },
      "execution_count": 83,
      "outputs": [
        {
          "output_type": "execute_result",
          "data": {
            "text/plain": [
              "dict_items"
            ]
          },
          "metadata": {},
          "execution_count": 83
        }
      ]
    },
    {
      "cell_type": "code",
      "source": [
        "d5[\"keyUN\"]=123323"
      ],
      "metadata": {
        "id": "q3Q_Br1jYWPI"
      },
      "execution_count": 84,
      "outputs": []
    },
    {
      "cell_type": "code",
      "source": [
        "d5"
      ],
      "metadata": {
        "colab": {
          "base_uri": "https://localhost:8080/"
        },
        "id": "msJIOQ-YZQhF",
        "outputId": "8041239b-6cef-4827-b944-1d41e869ac10"
      },
      "execution_count": 85,
      "outputs": [
        {
          "output_type": "execute_result",
          "data": {
            "text/plain": [
              "{'key1': [1, 2, 3, 4, 5, 6], 'key2': 345, 'keyUN': 123323}"
            ]
          },
          "metadata": {},
          "execution_count": 85
        }
      ]
    },
    {
      "cell_type": "code",
      "source": [
        "d5['key1']= 156775"
      ],
      "metadata": {
        "id": "pQF-PyWnZReF"
      },
      "execution_count": 86,
      "outputs": []
    },
    {
      "cell_type": "code",
      "source": [
        "d5"
      ],
      "metadata": {
        "colab": {
          "base_uri": "https://localhost:8080/"
        },
        "id": "8XTB8YV6Zi-0",
        "outputId": "a10bff60-4f8f-45aa-b41f-7027553cc3b6"
      },
      "execution_count": 87,
      "outputs": [
        {
          "output_type": "execute_result",
          "data": {
            "text/plain": [
              "{'key1': 156775, 'key2': 345, 'keyUN': 123323}"
            ]
          },
          "metadata": {},
          "execution_count": 87
        }
      ]
    },
    {
      "cell_type": "code",
      "source": [
        "del d5['key1']"
      ],
      "metadata": {
        "id": "zOds-qYCZkAk"
      },
      "execution_count": 88,
      "outputs": []
    },
    {
      "cell_type": "code",
      "source": [
        "d5\n",
        "del d5"
      ],
      "metadata": {
        "id": "vl5KXGsLaGIz"
      },
      "execution_count": 89,
      "outputs": []
    },
    {
      "cell_type": "code",
      "source": [
        "d5"
      ],
      "metadata": {
        "colab": {
          "base_uri": "https://localhost:8080/",
          "height": 172
        },
        "id": "imYHJQwraKMT",
        "outputId": "6c80de37-9758-4fdb-b45d-0c67250ada98"
      },
      "execution_count": 90,
      "outputs": [
        {
          "output_type": "error",
          "ename": "NameError",
          "evalue": "ignored",
          "traceback": [
            "\u001b[0;31m---------------------------------------------------------------------------\u001b[0m",
            "\u001b[0;31mNameError\u001b[0m                                 Traceback (most recent call last)",
            "\u001b[0;32m<ipython-input-90-6ebda844e4f2>\u001b[0m in \u001b[0;36m<module>\u001b[0;34m\u001b[0m\n\u001b[0;32m----> 1\u001b[0;31m \u001b[0md5\u001b[0m\u001b[0;34m\u001b[0m\u001b[0;34m\u001b[0m\u001b[0m\n\u001b[0m",
            "\u001b[0;31mNameError\u001b[0m: name 'd5' is not defined"
          ]
        }
      ]
    },
    {
      "cell_type": "code",
      "source": [
        "d7={(1,2,3,4,6):\"AnilKamat\"} #key as Tuple works , but key as List doesn;t work"
      ],
      "metadata": {
        "id": "cA2p4woHaMPT"
      },
      "execution_count": 92,
      "outputs": []
    },
    {
      "cell_type": "code",
      "source": [
        "d7[\"(1,2)\"]"
      ],
      "metadata": {
        "colab": {
          "base_uri": "https://localhost:8080/",
          "height": 172
        },
        "id": "sV7AexO-av3s",
        "outputId": "0a911a8c-80b9-43d8-8cda-efc72a1033f9"
      },
      "execution_count": 95,
      "outputs": [
        {
          "output_type": "error",
          "ename": "KeyError",
          "evalue": "ignored",
          "traceback": [
            "\u001b[0;31m---------------------------------------------------------------------------\u001b[0m",
            "\u001b[0;31mKeyError\u001b[0m                                  Traceback (most recent call last)",
            "\u001b[0;32m<ipython-input-95-9383102d89da>\u001b[0m in \u001b[0;36m<module>\u001b[0;34m\u001b[0m\n\u001b[0;32m----> 1\u001b[0;31m \u001b[0md7\u001b[0m\u001b[0;34m[\u001b[0m\u001b[0;34m\"(1,2)\"\u001b[0m\u001b[0;34m]\u001b[0m\u001b[0;34m\u001b[0m\u001b[0;34m\u001b[0m\u001b[0m\n\u001b[0m",
            "\u001b[0;31mKeyError\u001b[0m: '(1,2)'"
          ]
        }
      ]
    },
    {
      "cell_type": "code",
      "source": [
        "d7.get(\"(1,2)\")"
      ],
      "metadata": {
        "id": "1ZhTVsdWbISR"
      },
      "execution_count": 97,
      "outputs": []
    },
    {
      "cell_type": "code",
      "source": [
        "d7.update(d3)"
      ],
      "metadata": {
        "id": "OiFI89YMbMmh"
      },
      "execution_count": 98,
      "outputs": []
    },
    {
      "cell_type": "code",
      "source": [
        "d7"
      ],
      "metadata": {
        "colab": {
          "base_uri": "https://localhost:8080/"
        },
        "id": "I5MwWv-efmbX",
        "outputId": "bc9d2bec-6a58-407a-f13b-32fe986841f1"
      },
      "execution_count": 99,
      "outputs": [
        {
          "output_type": "execute_result",
          "data": {
            "text/plain": [
              "{(1, 2, 3, 4, 6): 'AnilKamat',\n",
              " 'key1': 234,\n",
              " 'Key2': 'Anil',\n",
              " 'Key3': [1, 2, 3, 4, 5, 6],\n",
              " 'Key4': (1, 2, 3, 4, 5),\n",
              " 'Key5': {1, 2, 3, 4, 5, 67}}"
            ]
          },
          "metadata": {},
          "execution_count": 99
        }
      ]
    },
    {
      "cell_type": "code",
      "source": [
        "Key=(\"Anil\", \"kamat\", \"BCA\")\n",
        "Value= (\"sudh\", \"krish\", \"Sunny\" )\n",
        "dw={}"
      ],
      "metadata": {
        "id": "X7c_GjMZfnUX"
      },
      "execution_count": 113,
      "outputs": []
    },
    {
      "cell_type": "code",
      "source": [
        "s3=dw.fromkeys(Key,Value)"
      ],
      "metadata": {
        "id": "AQHhOOk8gywV"
      },
      "execution_count": 114,
      "outputs": []
    },
    {
      "cell_type": "code",
      "source": [
        "s3"
      ],
      "metadata": {
        "colab": {
          "base_uri": "https://localhost:8080/"
        },
        "id": "JmAPNv9Ag89F",
        "outputId": "c4b242a1-7833-4385-e7de-a4530808e996"
      },
      "execution_count": 115,
      "outputs": [
        {
          "output_type": "execute_result",
          "data": {
            "text/plain": [
              "{'Anil': ('sudh', 'krish', 'Sunny'),\n",
              " 'kamat': ('sudh', 'krish', 'Sunny'),\n",
              " 'BCA': ('sudh', 'krish', 'Sunny')}"
            ]
          },
          "metadata": {},
          "execution_count": 115
        }
      ]
    },
    {
      "cell_type": "code",
      "source": [],
      "metadata": {
        "id": "gm3jx1ufhVoT"
      },
      "execution_count": null,
      "outputs": []
    }
  ]
}