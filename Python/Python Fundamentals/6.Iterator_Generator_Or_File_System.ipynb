{
  "nbformat": 4,
  "nbformat_minor": 0,
  "metadata": {
    "colab": {
      "provenance": []
    },
    "kernelspec": {
      "name": "python3",
      "display_name": "Python 3"
    },
    "language_info": {
      "name": "python"
    }
  },
  "cells": [
    {
      "cell_type": "code",
      "execution_count": null,
      "metadata": {
        "colab": {
          "base_uri": "https://localhost:8080/"
        },
        "id": "RqJQAf29ihd3",
        "outputId": "cbfa7827-dc13-4dbf-b25e-5a43612add4c"
      },
      "outputs": [
        {
          "output_type": "execute_result",
          "data": {
            "text/plain": [
              "range(0, 7)"
            ]
          },
          "metadata": {},
          "execution_count": 1
        }
      ],
      "source": [
        "range(7)"
      ]
    },
    {
      "cell_type": "code",
      "source": [
        "next(range(7))"
      ],
      "metadata": {
        "colab": {
          "base_uri": "https://localhost:8080/",
          "height": 165
        },
        "id": "BpsLvNVfnn-m",
        "outputId": "9464b94c-3ced-4029-8675-1dea6d850f72"
      },
      "execution_count": null,
      "outputs": [
        {
          "output_type": "error",
          "ename": "TypeError",
          "evalue": "ignored",
          "traceback": [
            "\u001b[0;31m---------------------------------------------------------------------------\u001b[0m",
            "\u001b[0;31mTypeError\u001b[0m                                 Traceback (most recent call last)",
            "\u001b[0;32m<ipython-input-2-a22dd98af986>\u001b[0m in \u001b[0;36m<module>\u001b[0;34m\u001b[0m\n\u001b[0;32m----> 1\u001b[0;31m \u001b[0mnext\u001b[0m\u001b[0;34m(\u001b[0m\u001b[0mrange\u001b[0m\u001b[0;34m(\u001b[0m\u001b[0;36m7\u001b[0m\u001b[0;34m)\u001b[0m\u001b[0;34m)\u001b[0m\u001b[0;34m\u001b[0m\u001b[0;34m\u001b[0m\u001b[0m\n\u001b[0m",
            "\u001b[0;31mTypeError\u001b[0m: 'range' object is not an iterator"
          ]
        }
      ]
    },
    {
      "cell_type": "code",
      "source": [
        "r=range(7)\n",
        "r=iter(r)"
      ],
      "metadata": {
        "id": "MwFcL4INnr8f"
      },
      "execution_count": null,
      "outputs": []
    },
    {
      "cell_type": "code",
      "source": [
        "next(r)"
      ],
      "metadata": {
        "colab": {
          "base_uri": "https://localhost:8080/"
        },
        "id": "N61qkoHvnvl9",
        "outputId": "78f8d6e6-2997-45f0-d4c6-6428fd3332f8"
      },
      "execution_count": null,
      "outputs": [
        {
          "output_type": "execute_result",
          "data": {
            "text/plain": [
              "1"
            ]
          },
          "metadata": {},
          "execution_count": 9
        }
      ]
    },
    {
      "cell_type": "markdown",
      "source": [
        "**Geneartor**\n",
        "it allows us to generate as we go along instead of storing anything in the memory"
      ],
      "metadata": {
        "id": "4rCLSoefoT_W"
      }
    },
    {
      "cell_type": "code",
      "source": [
        "list(range(0,20,4))\n",
        "#to use it i only need to remember last time which element is genearated , and logic how element is created and where to stop"
      ],
      "metadata": {
        "colab": {
          "base_uri": "https://localhost:8080/"
        },
        "id": "_W8uNBjxnzFj",
        "outputId": "4aa48ccf-0cb4-4117-8ac5-c30f601ee9dc"
      },
      "execution_count": null,
      "outputs": [
        {
          "output_type": "execute_result",
          "data": {
            "text/plain": [
              "[0, 4, 8, 12, 16]"
            ]
          },
          "metadata": {},
          "execution_count": 13
        }
      ]
    },
    {
      "cell_type": "code",
      "source": [
        "def gencube(n):\n",
        "  l=[]\n",
        "  for i in range(0,n,10):\n",
        "    l.append(i**3)\n",
        "  return l"
      ],
      "metadata": {
        "id": "Dw7tEdzPpOcK"
      },
      "execution_count": null,
      "outputs": []
    },
    {
      "cell_type": "code",
      "source": [
        "gencube(600)"
      ],
      "metadata": {
        "colab": {
          "base_uri": "https://localhost:8080/"
        },
        "id": "pIFl-N8cuT1y",
        "outputId": "04895d37-68a6-43c9-b40d-4307d1df50b9"
      },
      "execution_count": null,
      "outputs": [
        {
          "output_type": "execute_result",
          "data": {
            "text/plain": [
              "[0,\n",
              " 1000,\n",
              " 8000,\n",
              " 27000,\n",
              " 64000,\n",
              " 125000,\n",
              " 216000,\n",
              " 343000,\n",
              " 512000,\n",
              " 729000,\n",
              " 1000000,\n",
              " 1331000,\n",
              " 1728000,\n",
              " 2197000,\n",
              " 2744000,\n",
              " 3375000,\n",
              " 4096000,\n",
              " 4913000,\n",
              " 5832000,\n",
              " 6859000,\n",
              " 8000000,\n",
              " 9261000,\n",
              " 10648000,\n",
              " 12167000,\n",
              " 13824000,\n",
              " 15625000,\n",
              " 17576000,\n",
              " 19683000,\n",
              " 21952000,\n",
              " 24389000,\n",
              " 27000000,\n",
              " 29791000,\n",
              " 32768000,\n",
              " 35937000,\n",
              " 39304000,\n",
              " 42875000,\n",
              " 46656000,\n",
              " 50653000,\n",
              " 54872000,\n",
              " 59319000,\n",
              " 64000000,\n",
              " 68921000,\n",
              " 74088000,\n",
              " 79507000,\n",
              " 85184000,\n",
              " 91125000,\n",
              " 97336000,\n",
              " 103823000,\n",
              " 110592000,\n",
              " 117649000,\n",
              " 125000000,\n",
              " 132651000,\n",
              " 140608000,\n",
              " 148877000,\n",
              " 157464000,\n",
              " 166375000,\n",
              " 175616000,\n",
              " 185193000,\n",
              " 195112000,\n",
              " 205379000]"
            ]
          },
          "metadata": {},
          "execution_count": 20
        }
      ]
    },
    {
      "cell_type": "code",
      "source": [
        "range(1000000000000000000)\n",
        "#it generate and throw it directly in console\n",
        "#same as print throws data in console but major issue with this is it returns none type"
      ],
      "metadata": {
        "id": "bxG9S2YwuYyd",
        "colab": {
          "base_uri": "https://localhost:8080/"
        },
        "outputId": "563910d6-5c6d-41a0-ef0a-592cab103dd1"
      },
      "execution_count": null,
      "outputs": [
        {
          "output_type": "execute_result",
          "data": {
            "text/plain": [
              "range(0, 1000000000000000000)"
            ]
          },
          "metadata": {},
          "execution_count": 4
        }
      ]
    },
    {
      "cell_type": "code",
      "source": [
        "def gencube(n):\n",
        "  for i in range(n):\n",
        "    yield i**3"
      ],
      "metadata": {
        "id": "3ki9vpGi1owL"
      },
      "execution_count": 7,
      "outputs": []
    },
    {
      "cell_type": "code",
      "source": [
        "gencube(900) #here is how we generate range like function"
      ],
      "metadata": {
        "colab": {
          "base_uri": "https://localhost:8080/"
        },
        "id": "5isCsPN53uml",
        "outputId": "24a8f547-37da-47f7-cc91-bd04e3ae8907"
      },
      "execution_count": 8,
      "outputs": [
        {
          "output_type": "execute_result",
          "data": {
            "text/plain": [
              "<generator object gencube at 0x7f3e3f117cf0>"
            ]
          },
          "metadata": {},
          "execution_count": 8
        }
      ]
    },
    {
      "cell_type": "code",
      "source": [
        "for i in gencube(9):\n",
        "  print(i)"
      ],
      "metadata": {
        "id": "oNIhvVFz37ym",
        "colab": {
          "base_uri": "https://localhost:8080/"
        },
        "outputId": "f879597f-52d4-48f4-c425-2ee058f8cdb1"
      },
      "execution_count": 9,
      "outputs": [
        {
          "output_type": "stream",
          "name": "stdout",
          "text": [
            "0\n",
            "1\n",
            "8\n",
            "27\n",
            "64\n",
            "125\n",
            "216\n",
            "343\n",
            "512\n"
          ]
        }
      ]
    },
    {
      "cell_type": "code",
      "source": [
        "#yield remm=ember some couple of things 1st what it returns last time and the logic "
      ],
      "metadata": {
        "id": "QiHY17KwQZrc"
      },
      "execution_count": 10,
      "outputs": []
    },
    {
      "cell_type": "code",
      "source": [
        "#means yield help you internally to help you out in memory management"
      ],
      "metadata": {
        "id": "DdiodrJNRCVE"
      },
      "execution_count": 11,
      "outputs": []
    },
    {
      "cell_type": "code",
      "source": [
        "#01,1,2,3,5,8\n",
        "def fib(n):\n",
        "  a=1\n",
        "  b=1\n",
        "  for i in range(n):\n",
        "    yield a,i\n",
        "    a,b = b, a+b\n",
        "\n",
        "fib(10)"
      ],
      "metadata": {
        "colab": {
          "base_uri": "https://localhost:8080/"
        },
        "id": "u8EcLI5YRLmI",
        "outputId": "61384eb6-10f4-4e83-f9c6-b0c3047ddbf5"
      },
      "execution_count": 16,
      "outputs": [
        {
          "output_type": "execute_result",
          "data": {
            "text/plain": [
              "<generator object fib at 0x7f3e32d96970>"
            ]
          },
          "metadata": {},
          "execution_count": 16
        }
      ]
    },
    {
      "cell_type": "code",
      "source": [
        "for i in fib(5):\n",
        "  print(i)"
      ],
      "metadata": {
        "colab": {
          "base_uri": "https://localhost:8080/"
        },
        "id": "yG_yU3RwUn3Y",
        "outputId": "7b0b0327-5aac-4f35-e18c-6aaca1306d1a"
      },
      "execution_count": 17,
      "outputs": [
        {
          "output_type": "stream",
          "name": "stdout",
          "text": [
            "(1, 0)\n",
            "(1, 1)\n",
            "(2, 2)\n",
            "(3, 3)\n",
            "(5, 4)\n"
          ]
        }
      ]
    },
    {
      "cell_type": "markdown",
      "source": [
        "**How to deal with File System**"
      ],
      "metadata": {
        "id": "qQwUFbiUY1wF"
      }
    },
    {
      "cell_type": "code",
      "source": [
        "print(\"this statement get written down in console\")"
      ],
      "metadata": {
        "colab": {
          "base_uri": "https://localhost:8080/"
        },
        "id": "JgBQh22OUtGq",
        "outputId": "36df4a7d-c924-4b4a-f5a7-94b2a47ba4b1"
      },
      "execution_count": 18,
      "outputs": [
        {
          "output_type": "stream",
          "name": "stdout",
          "text": [
            "this statement get written down in console\n"
          ]
        }
      ]
    },
    {
      "cell_type": "code",
      "source": [
        "from google.colab import drive\n",
        "drive.mount('/content/drive/')"
      ],
      "metadata": {
        "colab": {
          "base_uri": "https://localhost:8080/"
        },
        "id": "7yr303ojZTFC",
        "outputId": "c8c2b782-e5cd-4742-f420-9859c9a6f85d"
      },
      "execution_count": 19,
      "outputs": [
        {
          "output_type": "stream",
          "name": "stdout",
          "text": [
            "Mounted at /content/drive/\n"
          ]
        }
      ]
    },
    {
      "cell_type": "code",
      "source": [
        "f = open(\"test.txt\",\"w\") #create txt file "
      ],
      "metadata": {
        "id": "mfINWu-WZwu5"
      },
      "execution_count": 20,
      "outputs": []
    },
    {
      "cell_type": "code",
      "source": [
        "dir()"
      ],
      "metadata": {
        "colab": {
          "base_uri": "https://localhost:8080/"
        },
        "id": "Z0Uy2Ew5a0yi",
        "outputId": "8d0e9a82-664f-4bb4-e521-0942dcf61845"
      },
      "execution_count": 21,
      "outputs": [
        {
          "output_type": "execute_result",
          "data": {
            "text/plain": [
              "['In',\n",
              " 'Out',\n",
              " '_',\n",
              " '_1',\n",
              " '_12',\n",
              " '_14',\n",
              " '_16',\n",
              " '_2',\n",
              " '_3',\n",
              " '_4',\n",
              " '_6',\n",
              " '_8',\n",
              " '__',\n",
              " '___',\n",
              " '__builtin__',\n",
              " '__builtins__',\n",
              " '__doc__',\n",
              " '__loader__',\n",
              " '__name__',\n",
              " '__package__',\n",
              " '__spec__',\n",
              " '_dh',\n",
              " '_i',\n",
              " '_i1',\n",
              " '_i10',\n",
              " '_i11',\n",
              " '_i12',\n",
              " '_i13',\n",
              " '_i14',\n",
              " '_i15',\n",
              " '_i16',\n",
              " '_i17',\n",
              " '_i18',\n",
              " '_i19',\n",
              " '_i2',\n",
              " '_i20',\n",
              " '_i21',\n",
              " '_i3',\n",
              " '_i4',\n",
              " '_i5',\n",
              " '_i6',\n",
              " '_i7',\n",
              " '_i8',\n",
              " '_i9',\n",
              " '_ih',\n",
              " '_ii',\n",
              " '_iii',\n",
              " '_oh',\n",
              " 'drive',\n",
              " 'exit',\n",
              " 'f',\n",
              " 'fib',\n",
              " 'gencube',\n",
              " 'get_ipython',\n",
              " 'i',\n",
              " 'quit']"
            ]
          },
          "metadata": {},
          "execution_count": 21
        }
      ]
    },
    {
      "cell_type": "code",
      "source": [
        "!ls #list down all the files present in present working directory"
      ],
      "metadata": {
        "colab": {
          "base_uri": "https://localhost:8080/"
        },
        "id": "ILsfVFGfa3pH",
        "outputId": "90e54113-0ecd-4faa-de25-7498619362e1"
      },
      "execution_count": 24,
      "outputs": [
        {
          "output_type": "stream",
          "name": "stdout",
          "text": [
            "drive  sample_data  test.txt\n"
          ]
        }
      ]
    },
    {
      "cell_type": "code",
      "source": [
        "pwd()"
      ],
      "metadata": {
        "colab": {
          "base_uri": "https://localhost:8080/",
          "height": 36
        },
        "id": "iIAgOh2Ja63M",
        "outputId": "e5eb97b7-c1f1-4828-b6cc-718b7de7ac6a"
      },
      "execution_count": 23,
      "outputs": [
        {
          "output_type": "execute_result",
          "data": {
            "text/plain": [
              "'/content'"
            ],
            "application/vnd.google.colaboratory.intrinsic+json": {
              "type": "string"
            }
          },
          "metadata": {},
          "execution_count": 23
        }
      ]
    },
    {
      "cell_type": "code",
      "source": [
        "%ls"
      ],
      "metadata": {
        "colab": {
          "base_uri": "https://localhost:8080/"
        },
        "id": "bqwACzWka-Ur",
        "outputId": "ec8eeac7-c282-48af-f56f-ead113c4cdeb"
      },
      "execution_count": 25,
      "outputs": [
        {
          "output_type": "stream",
          "name": "stdout",
          "text": [
            "\u001b[0m\u001b[01;34mdrive\u001b[0m/  \u001b[01;34msample_data\u001b[0m/  test.txt\n"
          ]
        }
      ]
    },
    {
      "cell_type": "code",
      "source": [
        "f = open(\"test1.txt\",\"w\") #create txt file "
      ],
      "metadata": {
        "id": "sgSEdKoTcCQt"
      },
      "execution_count": 26,
      "outputs": []
    },
    {
      "cell_type": "code",
      "source": [
        "!ls"
      ],
      "metadata": {
        "colab": {
          "base_uri": "https://localhost:8080/"
        },
        "id": "DrT6ORWUcV2i",
        "outputId": "5a10982d-0e8d-44e8-e547-b58c7d0f9af0"
      },
      "execution_count": 27,
      "outputs": [
        {
          "output_type": "stream",
          "name": "stdout",
          "text": [
            "drive  sample_data  test1.txt  test.txt\n"
          ]
        }
      ]
    },
    {
      "cell_type": "code",
      "source": [
        "f.write(\"this is my first file operationm to write in test.txt\")"
      ],
      "metadata": {
        "colab": {
          "base_uri": "https://localhost:8080/"
        },
        "id": "ZGl7V0i9cYcQ",
        "outputId": "e70e35e0-74ec-4561-ee69-e61f1b80c4ed"
      },
      "execution_count": 28,
      "outputs": [
        {
          "output_type": "execute_result",
          "data": {
            "text/plain": [
              "53"
            ]
          },
          "metadata": {},
          "execution_count": 28
        }
      ]
    },
    {
      "cell_type": "code",
      "source": [
        "f.close()"
      ],
      "metadata": {
        "id": "mxmxraOvckji"
      },
      "execution_count": 29,
      "outputs": []
    },
    {
      "cell_type": "code",
      "source": [
        "%%writefile test2.txt\n",
        "this is a data i would like to store in my file"
      ],
      "metadata": {
        "colab": {
          "base_uri": "https://localhost:8080/"
        },
        "id": "oqyb1rjvc8Gm",
        "outputId": "86f2e39d-a80e-4881-dbcf-ffd63e621c72"
      },
      "execution_count": 31,
      "outputs": [
        {
          "output_type": "stream",
          "name": "stdout",
          "text": [
            "Writing test2.txt\n"
          ]
        }
      ]
    },
    {
      "cell_type": "code",
      "source": [
        "f= open('test2.txt') #by default mode is read"
      ],
      "metadata": {
        "id": "a6HV3A87dnej"
      },
      "execution_count": 35,
      "outputs": []
    },
    {
      "cell_type": "code",
      "source": [
        "f.read() #pehle open fir read jaise usually reall world me karte hai"
      ],
      "metadata": {
        "colab": {
          "base_uri": "https://localhost:8080/",
          "height": 36
        },
        "id": "n7M7w75neZp9",
        "outputId": "bacb8491-7731-4693-9696-1b4c8bcd536a"
      },
      "execution_count": 36,
      "outputs": [
        {
          "output_type": "execute_result",
          "data": {
            "text/plain": [
              "'this is a data i would like to store in my file\\n'"
            ],
            "application/vnd.google.colaboratory.intrinsic+json": {
              "type": "string"
            }
          },
          "metadata": {},
          "execution_count": 36
        }
      ]
    },
    {
      "cell_type": "code",
      "source": [
        "f.write(\"dhkadshfliadshfil\")"
      ],
      "metadata": {
        "colab": {
          "base_uri": "https://localhost:8080/",
          "height": 165
        },
        "id": "_QbE1lkLecdN",
        "outputId": "adc486b0-ca24-44de-a713-fad75150df12"
      },
      "execution_count": 38,
      "outputs": [
        {
          "output_type": "error",
          "ename": "UnsupportedOperation",
          "evalue": "ignored",
          "traceback": [
            "\u001b[0;31m---------------------------------------------------------------------------\u001b[0m",
            "\u001b[0;31mUnsupportedOperation\u001b[0m                      Traceback (most recent call last)",
            "\u001b[0;32m<ipython-input-38-6f7152d22d97>\u001b[0m in \u001b[0;36m<module>\u001b[0;34m\u001b[0m\n\u001b[0;32m----> 1\u001b[0;31m \u001b[0mf\u001b[0m\u001b[0;34m.\u001b[0m\u001b[0mwrite\u001b[0m\u001b[0;34m(\u001b[0m\u001b[0;34m\"dhkadshfliadshfil\"\u001b[0m\u001b[0;34m)\u001b[0m\u001b[0;34m\u001b[0m\u001b[0;34m\u001b[0m\u001b[0m\n\u001b[0m",
            "\u001b[0;31mUnsupportedOperation\u001b[0m: not writable"
          ]
        }
      ]
    },
    {
      "cell_type": "code",
      "source": [
        "f.read() #because my cursor is present in very very last position"
      ],
      "metadata": {
        "colab": {
          "base_uri": "https://localhost:8080/",
          "height": 36
        },
        "id": "YOq1zkMRerRc",
        "outputId": "9501d050-cf35-4d48-9625-a4a4d45961e9"
      },
      "execution_count": 40,
      "outputs": [
        {
          "output_type": "execute_result",
          "data": {
            "text/plain": [
              "''"
            ],
            "application/vnd.google.colaboratory.intrinsic+json": {
              "type": "string"
            }
          },
          "metadata": {},
          "execution_count": 40
        }
      ]
    },
    {
      "cell_type": "code",
      "source": [
        "f.seek(5) #to reset the cursor to desired position 0 for brgining"
      ],
      "metadata": {
        "colab": {
          "base_uri": "https://localhost:8080/"
        },
        "id": "8lAleJD2fPzf",
        "outputId": "09547554-094c-4145-caaf-9f112fee0b16"
      },
      "execution_count": 41,
      "outputs": [
        {
          "output_type": "execute_result",
          "data": {
            "text/plain": [
              "5"
            ]
          },
          "metadata": {},
          "execution_count": 41
        }
      ]
    },
    {
      "cell_type": "code",
      "source": [
        "f.read()"
      ],
      "metadata": {
        "colab": {
          "base_uri": "https://localhost:8080/",
          "height": 36
        },
        "id": "9Fas5-hFf4QZ",
        "outputId": "7dae3635-b4e2-40f8-d2f6-213143dd6994"
      },
      "execution_count": 42,
      "outputs": [
        {
          "output_type": "execute_result",
          "data": {
            "text/plain": [
              "'is a data i would like to store in my file\\n'"
            ],
            "application/vnd.google.colaboratory.intrinsic+json": {
              "type": "string"
            }
          },
          "metadata": {},
          "execution_count": 42
        }
      ]
    },
    {
      "cell_type": "code",
      "source": [
        "#to get location of cursor\n",
        "f.tell()"
      ],
      "metadata": {
        "colab": {
          "base_uri": "https://localhost:8080/"
        },
        "id": "Il1I1ADgf6kG",
        "outputId": "fb30cba2-553e-45df-f663-0f6bfff74a8d"
      },
      "execution_count": 43,
      "outputs": [
        {
          "output_type": "execute_result",
          "data": {
            "text/plain": [
              "48"
            ]
          },
          "metadata": {},
          "execution_count": 43
        }
      ]
    },
    {
      "cell_type": "code",
      "source": [
        "f=open(\"test1.txt\",\"r+\")"
      ],
      "metadata": {
        "id": "2kMBokyNjrk8"
      },
      "execution_count": 44,
      "outputs": []
    },
    {
      "cell_type": "code",
      "source": [
        "f.read()"
      ],
      "metadata": {
        "colab": {
          "base_uri": "https://localhost:8080/",
          "height": 36
        },
        "id": "Hsrx8ByWkJez",
        "outputId": "6825db10-1c35-4a9f-a362-ff3b8efe747d"
      },
      "execution_count": 45,
      "outputs": [
        {
          "output_type": "execute_result",
          "data": {
            "text/plain": [
              "'this is my first file operationm to write in test.txt'"
            ],
            "application/vnd.google.colaboratory.intrinsic+json": {
              "type": "string"
            }
          },
          "metadata": {},
          "execution_count": 45
        }
      ]
    },
    {
      "cell_type": "code",
      "source": [
        "f.readline()"
      ],
      "metadata": {
        "colab": {
          "base_uri": "https://localhost:8080/",
          "height": 36
        },
        "id": "qTYhxOjskMho",
        "outputId": "6fa68ba8-f6fe-42c3-a97d-6d5ffed866ba"
      },
      "execution_count": 46,
      "outputs": [
        {
          "output_type": "execute_result",
          "data": {
            "text/plain": [
              "''"
            ],
            "application/vnd.google.colaboratory.intrinsic+json": {
              "type": "string"
            }
          },
          "metadata": {},
          "execution_count": 46
        }
      ]
    },
    {
      "cell_type": "code",
      "source": [
        "f.tell()"
      ],
      "metadata": {
        "colab": {
          "base_uri": "https://localhost:8080/"
        },
        "id": "jCB8PJrUkOGu",
        "outputId": "0136d2b0-f345-4667-d9a4-9a35484a2535"
      },
      "execution_count": 47,
      "outputs": [
        {
          "output_type": "execute_result",
          "data": {
            "text/plain": [
              "53"
            ]
          },
          "metadata": {},
          "execution_count": 47
        }
      ]
    },
    {
      "cell_type": "code",
      "source": [
        "f.seek(0)"
      ],
      "metadata": {
        "colab": {
          "base_uri": "https://localhost:8080/"
        },
        "id": "npCAAqlfkQ60",
        "outputId": "707a824c-c16b-4c14-bee5-49796a4c70ca"
      },
      "execution_count": 51,
      "outputs": [
        {
          "output_type": "execute_result",
          "data": {
            "text/plain": [
              "0"
            ]
          },
          "metadata": {},
          "execution_count": 51
        }
      ]
    },
    {
      "cell_type": "code",
      "source": [
        "f.readline() #read data line by line"
      ],
      "metadata": {
        "colab": {
          "base_uri": "https://localhost:8080/",
          "height": 36
        },
        "id": "6OlbEbg5kS6p",
        "outputId": "373a5fd9-7303-4015-dc2b-6c787b4f21b3"
      },
      "execution_count": 52,
      "outputs": [
        {
          "output_type": "execute_result",
          "data": {
            "text/plain": [
              "'this is my first file operationm to write in test.txt'"
            ],
            "application/vnd.google.colaboratory.intrinsic+json": {
              "type": "string"
            }
          },
          "metadata": {},
          "execution_count": 52
        }
      ]
    },
    {
      "cell_type": "code",
      "source": [
        "\"\"\"for multiple lines writing\"\"\" "
      ],
      "metadata": {
        "colab": {
          "base_uri": "https://localhost:8080/",
          "height": 36
        },
        "id": "Ke0oVbC6kWsM",
        "outputId": "8d0b882f-3f52-4b01-d437-c970c0ab24f3"
      },
      "execution_count": 53,
      "outputs": [
        {
          "output_type": "execute_result",
          "data": {
            "text/plain": [
              "'for multiple lines writing'"
            ],
            "application/vnd.google.colaboratory.intrinsic+json": {
              "type": "string"
            }
          },
          "metadata": {},
          "execution_count": 53
        }
      ]
    },
    {
      "cell_type": "code",
      "source": [
        "f= open(\"test1.txt\",\"r+\")\n",
        "for line in f:\n",
        "  print(line,end=\" \")"
      ],
      "metadata": {
        "colab": {
          "base_uri": "https://localhost:8080/"
        },
        "id": "sTqra4R0ltE6",
        "outputId": "f226df6e-a579-4cda-fe75-9d99ed032880"
      },
      "execution_count": 55,
      "outputs": [
        {
          "output_type": "stream",
          "name": "stdout",
          "text": [
            "this is my first file operationm to write in test.txt "
          ]
        }
      ]
    },
    {
      "cell_type": "code",
      "source": [
        "#r+ means both read and write mode available"
      ],
      "metadata": {
        "id": "Iyyi-5p7mrM1"
      },
      "execution_count": 56,
      "outputs": []
    },
    {
      "cell_type": "code",
      "source": [
        "#agar tujhe specific location pe hi likhna hai toh waha seek \n",
        "#operation ka use karke cursor leja aur write operation laga de"
      ],
      "metadata": {
        "id": "u3Mc1WSFnD3j"
      },
      "execution_count": 57,
      "outputs": []
    },
    {
      "cell_type": "code",
      "source": [
        "f= open(\"test2.txt\", \"r+\")"
      ],
      "metadata": {
        "id": "z9wGSWAroWHQ"
      },
      "execution_count": 71,
      "outputs": []
    },
    {
      "cell_type": "code",
      "source": [
        "len(f.readlines())"
      ],
      "metadata": {
        "colab": {
          "base_uri": "https://localhost:8080/"
        },
        "id": "D9pUiCsWpBr5",
        "outputId": "d8b1e983-8cae-4a27-a057-90fb7669a8c8"
      },
      "execution_count": 66,
      "outputs": [
        {
          "output_type": "execute_result",
          "data": {
            "text/plain": [
              "5"
            ]
          },
          "metadata": {},
          "execution_count": 66
        }
      ]
    },
    {
      "cell_type": "code",
      "source": [
        "l= f.readlines()"
      ],
      "metadata": {
        "id": "Aoujb5vxpWwj"
      },
      "execution_count": 72,
      "outputs": []
    },
    {
      "cell_type": "code",
      "source": [
        "l[0]"
      ],
      "metadata": {
        "colab": {
          "base_uri": "https://localhost:8080/",
          "height": 36
        },
        "id": "fu_Y2x5LrSdM",
        "outputId": "55a624e3-c0f3-4a7e-8af6-8deb2727fb36"
      },
      "execution_count": 73,
      "outputs": [
        {
          "output_type": "execute_result",
          "data": {
            "text/plain": [
              "'this is a data i would like to store in my file\\n'"
            ],
            "application/vnd.google.colaboratory.intrinsic+json": {
              "type": "string"
            }
          },
          "metadata": {},
          "execution_count": 73
        }
      ]
    },
    {
      "cell_type": "code",
      "source": [
        "l[0].split()"
      ],
      "metadata": {
        "colab": {
          "base_uri": "https://localhost:8080/"
        },
        "id": "TpKYNcoUrTRc",
        "outputId": "57fec18a-82e7-4862-8215-2de91a5b7c2c"
      },
      "execution_count": 74,
      "outputs": [
        {
          "output_type": "execute_result",
          "data": {
            "text/plain": [
              "['this',\n",
              " 'is',\n",
              " 'a',\n",
              " 'data',\n",
              " 'i',\n",
              " 'would',\n",
              " 'like',\n",
              " 'to',\n",
              " 'store',\n",
              " 'in',\n",
              " 'my',\n",
              " 'file']"
            ]
          },
          "metadata": {},
          "execution_count": 74
        }
      ]
    },
    {
      "cell_type": "code",
      "source": [
        "l1=[]\n",
        "for i in l[0].split():\n",
        "  l1.append(i[0])"
      ],
      "metadata": {
        "id": "PynFAFDisB0W"
      },
      "execution_count": 75,
      "outputs": []
    },
    {
      "cell_type": "code",
      "source": [
        "l1"
      ],
      "metadata": {
        "colab": {
          "base_uri": "https://localhost:8080/"
        },
        "id": "xzIFG2zfsnlb",
        "outputId": "d75bd533-7299-4cfa-cdd3-da21e9a84cbe"
      },
      "execution_count": 76,
      "outputs": [
        {
          "output_type": "execute_result",
          "data": {
            "text/plain": [
              "['t', 'i', 'a', 'd', 'i', 'w', 'l', 't', 's', 'i', 'm', 'f']"
            ]
          },
          "metadata": {},
          "execution_count": 76
        }
      ]
    },
    {
      "cell_type": "code",
      "source": [
        "l=[\"1,2,3,4,5,6,\",\"66,7,7,7\"]"
      ],
      "metadata": {
        "id": "Qsm97ktvsqHe"
      },
      "execution_count": 80,
      "outputs": []
    },
    {
      "cell_type": "code",
      "source": [
        "f=open('test2.txt',\"r+\")"
      ],
      "metadata": {
        "id": "6CTcxn2cuk88"
      },
      "execution_count": 84,
      "outputs": []
    },
    {
      "cell_type": "code",
      "source": [
        "f.writelines(l)"
      ],
      "metadata": {
        "id": "xqrpf3Y7uthM"
      },
      "execution_count": 81,
      "outputs": []
    },
    {
      "cell_type": "code",
      "source": [
        "f.close()"
      ],
      "metadata": {
        "id": "DAsFXR3_uyKH"
      },
      "execution_count": 82,
      "outputs": []
    },
    {
      "cell_type": "code",
      "source": [
        "f.fileno()"
      ],
      "metadata": {
        "colab": {
          "base_uri": "https://localhost:8080/"
        },
        "id": "UO-KEYWjvA4H",
        "outputId": "f6ca9605-0eba-4f9e-fee5-7567a14f533d"
      },
      "execution_count": 85,
      "outputs": [
        {
          "output_type": "execute_result",
          "data": {
            "text/plain": [
              "40"
            ]
          },
          "metadata": {},
          "execution_count": 85
        }
      ]
    },
    {
      "cell_type": "code",
      "source": [
        "import os\n",
        "os.listdir()"
      ],
      "metadata": {
        "colab": {
          "base_uri": "https://localhost:8080/"
        },
        "id": "oQQhIdUgv-j-",
        "outputId": "9d186676-3517-4396-964e-f4fcb40d8a0a"
      },
      "execution_count": 87,
      "outputs": [
        {
          "output_type": "execute_result",
          "data": {
            "text/plain": [
              "['.config', 'drive', 'test2.txt', 'test.txt', 'test1.txt', 'sample_data']"
            ]
          },
          "metadata": {},
          "execution_count": 87
        }
      ]
    },
    {
      "cell_type": "code",
      "source": [
        "os.getcwd()"
      ],
      "metadata": {
        "colab": {
          "base_uri": "https://localhost:8080/",
          "height": 36
        },
        "id": "jHX_SMrQxI2Z",
        "outputId": "a7d2ba28-d709-40af-dada-f0f95cc79cc9"
      },
      "execution_count": 88,
      "outputs": [
        {
          "output_type": "execute_result",
          "data": {
            "text/plain": [
              "'/content'"
            ],
            "application/vnd.google.colaboratory.intrinsic+json": {
              "type": "string"
            }
          },
          "metadata": {},
          "execution_count": 88
        }
      ]
    },
    {
      "cell_type": "code",
      "source": [],
      "metadata": {
        "id": "rutdf8Akxd6U"
      },
      "execution_count": null,
      "outputs": []
    }
  ]
}
