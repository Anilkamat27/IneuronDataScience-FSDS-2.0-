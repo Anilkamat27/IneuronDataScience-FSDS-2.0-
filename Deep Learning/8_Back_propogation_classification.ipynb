{
  "nbformat": 4,
  "nbformat_minor": 0,
  "metadata": {
    "colab": {
      "provenance": []
    },
    "kernelspec": {
      "name": "python3",
      "display_name": "Python 3"
    },
    "language_info": {
      "name": "python"
    }
  },
  "cells": [
    {
      "cell_type": "code",
      "execution_count": 17,
      "metadata": {
        "id": "47VZv8nij6CH"
      },
      "outputs": [],
      "source": [
        "import numpy as np\n",
        "import pandas as pd"
      ]
    },
    {
      "cell_type": "code",
      "source": [
        "df = pd.DataFrame([[8,8,1],[7,9,1],[6,10,1],[5,5,0]], columns=['cgpa', 'profile_score', 'placement'])"
      ],
      "metadata": {
        "id": "sO1yoiLUkIzi"
      },
      "execution_count": 18,
      "outputs": []
    },
    {
      "cell_type": "code",
      "source": [
        "df.head()"
      ],
      "metadata": {
        "colab": {
          "base_uri": "https://localhost:8080/",
          "height": 175
        },
        "id": "pGcAjbK8kR33",
        "outputId": "f1adff33-29c6-4c56-8fb2-82e4133f31ee"
      },
      "execution_count": 19,
      "outputs": [
        {
          "output_type": "execute_result",
          "data": {
            "text/plain": [
              "   cgpa  profile_score  placement\n",
              "0     8              8          1\n",
              "1     7              9          1\n",
              "2     6             10          1\n",
              "3     5              5          0"
            ],
            "text/html": [
              "\n",
              "  <div id=\"df-f03d15d4-37af-47ed-956b-48081b9a43b0\" class=\"colab-df-container\">\n",
              "    <div>\n",
              "<style scoped>\n",
              "    .dataframe tbody tr th:only-of-type {\n",
              "        vertical-align: middle;\n",
              "    }\n",
              "\n",
              "    .dataframe tbody tr th {\n",
              "        vertical-align: top;\n",
              "    }\n",
              "\n",
              "    .dataframe thead th {\n",
              "        text-align: right;\n",
              "    }\n",
              "</style>\n",
              "<table border=\"1\" class=\"dataframe\">\n",
              "  <thead>\n",
              "    <tr style=\"text-align: right;\">\n",
              "      <th></th>\n",
              "      <th>cgpa</th>\n",
              "      <th>profile_score</th>\n",
              "      <th>placement</th>\n",
              "    </tr>\n",
              "  </thead>\n",
              "  <tbody>\n",
              "    <tr>\n",
              "      <th>0</th>\n",
              "      <td>8</td>\n",
              "      <td>8</td>\n",
              "      <td>1</td>\n",
              "    </tr>\n",
              "    <tr>\n",
              "      <th>1</th>\n",
              "      <td>7</td>\n",
              "      <td>9</td>\n",
              "      <td>1</td>\n",
              "    </tr>\n",
              "    <tr>\n",
              "      <th>2</th>\n",
              "      <td>6</td>\n",
              "      <td>10</td>\n",
              "      <td>1</td>\n",
              "    </tr>\n",
              "    <tr>\n",
              "      <th>3</th>\n",
              "      <td>5</td>\n",
              "      <td>5</td>\n",
              "      <td>0</td>\n",
              "    </tr>\n",
              "  </tbody>\n",
              "</table>\n",
              "</div>\n",
              "    <div class=\"colab-df-buttons\">\n",
              "\n",
              "  <div class=\"colab-df-container\">\n",
              "    <button class=\"colab-df-convert\" onclick=\"convertToInteractive('df-f03d15d4-37af-47ed-956b-48081b9a43b0')\"\n",
              "            title=\"Convert this dataframe to an interactive table.\"\n",
              "            style=\"display:none;\">\n",
              "\n",
              "  <svg xmlns=\"http://www.w3.org/2000/svg\" height=\"24px\" viewBox=\"0 -960 960 960\">\n",
              "    <path d=\"M120-120v-720h720v720H120Zm60-500h600v-160H180v160Zm220 220h160v-160H400v160Zm0 220h160v-160H400v160ZM180-400h160v-160H180v160Zm440 0h160v-160H620v160ZM180-180h160v-160H180v160Zm440 0h160v-160H620v160Z\"/>\n",
              "  </svg>\n",
              "    </button>\n",
              "\n",
              "  <style>\n",
              "    .colab-df-container {\n",
              "      display:flex;\n",
              "      gap: 12px;\n",
              "    }\n",
              "\n",
              "    .colab-df-convert {\n",
              "      background-color: #E8F0FE;\n",
              "      border: none;\n",
              "      border-radius: 50%;\n",
              "      cursor: pointer;\n",
              "      display: none;\n",
              "      fill: #1967D2;\n",
              "      height: 32px;\n",
              "      padding: 0 0 0 0;\n",
              "      width: 32px;\n",
              "    }\n",
              "\n",
              "    .colab-df-convert:hover {\n",
              "      background-color: #E2EBFA;\n",
              "      box-shadow: 0px 1px 2px rgba(60, 64, 67, 0.3), 0px 1px 3px 1px rgba(60, 64, 67, 0.15);\n",
              "      fill: #174EA6;\n",
              "    }\n",
              "\n",
              "    .colab-df-buttons div {\n",
              "      margin-bottom: 4px;\n",
              "    }\n",
              "\n",
              "    [theme=dark] .colab-df-convert {\n",
              "      background-color: #3B4455;\n",
              "      fill: #D2E3FC;\n",
              "    }\n",
              "\n",
              "    [theme=dark] .colab-df-convert:hover {\n",
              "      background-color: #434B5C;\n",
              "      box-shadow: 0px 1px 3px 1px rgba(0, 0, 0, 0.15);\n",
              "      filter: drop-shadow(0px 1px 2px rgba(0, 0, 0, 0.3));\n",
              "      fill: #FFFFFF;\n",
              "    }\n",
              "  </style>\n",
              "\n",
              "    <script>\n",
              "      const buttonEl =\n",
              "        document.querySelector('#df-f03d15d4-37af-47ed-956b-48081b9a43b0 button.colab-df-convert');\n",
              "      buttonEl.style.display =\n",
              "        google.colab.kernel.accessAllowed ? 'block' : 'none';\n",
              "\n",
              "      async function convertToInteractive(key) {\n",
              "        const element = document.querySelector('#df-f03d15d4-37af-47ed-956b-48081b9a43b0');\n",
              "        const dataTable =\n",
              "          await google.colab.kernel.invokeFunction('convertToInteractive',\n",
              "                                                    [key], {});\n",
              "        if (!dataTable) return;\n",
              "\n",
              "        const docLinkHtml = 'Like what you see? Visit the ' +\n",
              "          '<a target=\"_blank\" href=https://colab.research.google.com/notebooks/data_table.ipynb>data table notebook</a>'\n",
              "          + ' to learn more about interactive tables.';\n",
              "        element.innerHTML = '';\n",
              "        dataTable['output_type'] = 'display_data';\n",
              "        await google.colab.output.renderOutput(dataTable, element);\n",
              "        const docLink = document.createElement('div');\n",
              "        docLink.innerHTML = docLinkHtml;\n",
              "        element.appendChild(docLink);\n",
              "      }\n",
              "    </script>\n",
              "  </div>\n",
              "\n",
              "\n",
              "<div id=\"df-e4b9ead1-ee5f-45e0-bf12-db6c6e217cd2\">\n",
              "  <button class=\"colab-df-quickchart\" onclick=\"quickchart('df-e4b9ead1-ee5f-45e0-bf12-db6c6e217cd2')\"\n",
              "            title=\"Suggest charts.\"\n",
              "            style=\"display:none;\">\n",
              "\n",
              "<svg xmlns=\"http://www.w3.org/2000/svg\" height=\"24px\"viewBox=\"0 0 24 24\"\n",
              "     width=\"24px\">\n",
              "    <g>\n",
              "        <path d=\"M19 3H5c-1.1 0-2 .9-2 2v14c0 1.1.9 2 2 2h14c1.1 0 2-.9 2-2V5c0-1.1-.9-2-2-2zM9 17H7v-7h2v7zm4 0h-2V7h2v10zm4 0h-2v-4h2v4z\"/>\n",
              "    </g>\n",
              "</svg>\n",
              "  </button>\n",
              "\n",
              "<style>\n",
              "  .colab-df-quickchart {\n",
              "      --bg-color: #E8F0FE;\n",
              "      --fill-color: #1967D2;\n",
              "      --hover-bg-color: #E2EBFA;\n",
              "      --hover-fill-color: #174EA6;\n",
              "      --disabled-fill-color: #AAA;\n",
              "      --disabled-bg-color: #DDD;\n",
              "  }\n",
              "\n",
              "  [theme=dark] .colab-df-quickchart {\n",
              "      --bg-color: #3B4455;\n",
              "      --fill-color: #D2E3FC;\n",
              "      --hover-bg-color: #434B5C;\n",
              "      --hover-fill-color: #FFFFFF;\n",
              "      --disabled-bg-color: #3B4455;\n",
              "      --disabled-fill-color: #666;\n",
              "  }\n",
              "\n",
              "  .colab-df-quickchart {\n",
              "    background-color: var(--bg-color);\n",
              "    border: none;\n",
              "    border-radius: 50%;\n",
              "    cursor: pointer;\n",
              "    display: none;\n",
              "    fill: var(--fill-color);\n",
              "    height: 32px;\n",
              "    padding: 0;\n",
              "    width: 32px;\n",
              "  }\n",
              "\n",
              "  .colab-df-quickchart:hover {\n",
              "    background-color: var(--hover-bg-color);\n",
              "    box-shadow: 0 1px 2px rgba(60, 64, 67, 0.3), 0 1px 3px 1px rgba(60, 64, 67, 0.15);\n",
              "    fill: var(--button-hover-fill-color);\n",
              "  }\n",
              "\n",
              "  .colab-df-quickchart-complete:disabled,\n",
              "  .colab-df-quickchart-complete:disabled:hover {\n",
              "    background-color: var(--disabled-bg-color);\n",
              "    fill: var(--disabled-fill-color);\n",
              "    box-shadow: none;\n",
              "  }\n",
              "\n",
              "  .colab-df-spinner {\n",
              "    border: 2px solid var(--fill-color);\n",
              "    border-color: transparent;\n",
              "    border-bottom-color: var(--fill-color);\n",
              "    animation:\n",
              "      spin 1s steps(1) infinite;\n",
              "  }\n",
              "\n",
              "  @keyframes spin {\n",
              "    0% {\n",
              "      border-color: transparent;\n",
              "      border-bottom-color: var(--fill-color);\n",
              "      border-left-color: var(--fill-color);\n",
              "    }\n",
              "    20% {\n",
              "      border-color: transparent;\n",
              "      border-left-color: var(--fill-color);\n",
              "      border-top-color: var(--fill-color);\n",
              "    }\n",
              "    30% {\n",
              "      border-color: transparent;\n",
              "      border-left-color: var(--fill-color);\n",
              "      border-top-color: var(--fill-color);\n",
              "      border-right-color: var(--fill-color);\n",
              "    }\n",
              "    40% {\n",
              "      border-color: transparent;\n",
              "      border-right-color: var(--fill-color);\n",
              "      border-top-color: var(--fill-color);\n",
              "    }\n",
              "    60% {\n",
              "      border-color: transparent;\n",
              "      border-right-color: var(--fill-color);\n",
              "    }\n",
              "    80% {\n",
              "      border-color: transparent;\n",
              "      border-right-color: var(--fill-color);\n",
              "      border-bottom-color: var(--fill-color);\n",
              "    }\n",
              "    90% {\n",
              "      border-color: transparent;\n",
              "      border-bottom-color: var(--fill-color);\n",
              "    }\n",
              "  }\n",
              "</style>\n",
              "\n",
              "  <script>\n",
              "    async function quickchart(key) {\n",
              "      const quickchartButtonEl =\n",
              "        document.querySelector('#' + key + ' button');\n",
              "      quickchartButtonEl.disabled = true;  // To prevent multiple clicks.\n",
              "      quickchartButtonEl.classList.add('colab-df-spinner');\n",
              "      try {\n",
              "        const charts = await google.colab.kernel.invokeFunction(\n",
              "            'suggestCharts', [key], {});\n",
              "      } catch (error) {\n",
              "        console.error('Error during call to suggestCharts:', error);\n",
              "      }\n",
              "      quickchartButtonEl.classList.remove('colab-df-spinner');\n",
              "      quickchartButtonEl.classList.add('colab-df-quickchart-complete');\n",
              "    }\n",
              "    (() => {\n",
              "      let quickchartButtonEl =\n",
              "        document.querySelector('#df-e4b9ead1-ee5f-45e0-bf12-db6c6e217cd2 button');\n",
              "      quickchartButtonEl.style.display =\n",
              "        google.colab.kernel.accessAllowed ? 'block' : 'none';\n",
              "    })();\n",
              "  </script>\n",
              "</div>\n",
              "    </div>\n",
              "  </div>\n"
            ]
          },
          "metadata": {},
          "execution_count": 19
        }
      ]
    },
    {
      "cell_type": "code",
      "source": [
        "def initialize_parameters(layer_dims):\n",
        "\n",
        "  np.random.seed(3)\n",
        "  parameters = {}\n",
        "  L = len(layer_dims)\n",
        "\n",
        "  for l in range(1, L):\n",
        "\n",
        "    parameters['W' + str(l)] = np.ones((layer_dims[l-1], layer_dims[l]))*0.1\n",
        "    parameters['b' + str(l)] = np.zeros((layer_dims[l], 1))\n",
        "\n",
        "\n",
        "  return parameters"
      ],
      "metadata": {
        "id": "pqS6QQtKkUfO"
      },
      "execution_count": 20,
      "outputs": []
    },
    {
      "cell_type": "code",
      "source": [
        "def sigmoid(Z):\n",
        "\n",
        "  A = 1/(1+np.exp(-Z))\n",
        "\n",
        "  return A"
      ],
      "metadata": {
        "id": "P_OprZOu1O4F"
      },
      "execution_count": 21,
      "outputs": []
    },
    {
      "cell_type": "markdown",
      "source": [
        "linear function me bas output ko sigmoid me dalke return kar rahe haai hum"
      ],
      "metadata": {
        "id": "9z8cAZz41cJt"
      }
    },
    {
      "cell_type": "code",
      "source": [
        "def linear_forward(A_prev, W, b):\n",
        "\n",
        "  Z = np.dot(W.T, A_prev) + b\n",
        "\n",
        "  A = sigmoid(Z)\n",
        "\n",
        "  return A"
      ],
      "metadata": {
        "id": "y9SWf7fJ1aWD"
      },
      "execution_count": 22,
      "outputs": []
    },
    {
      "cell_type": "code",
      "source": [
        "def L_layer_forward(X, parameters):\n",
        "\n",
        "  A = X\n",
        "  L = len(parameters) // 2                  # number of layers in the neural network\n",
        "\n",
        "  for l in range(1, L+1):\n",
        "    A_prev = A\n",
        "    Wl = parameters['W' + str(l)]\n",
        "    bl = parameters['b' + str(l)]\n",
        "    #print(\"A\"+str(l-1)+\": \", A_prev)\n",
        "    #print(\"W\"+str(l)+\": \", Wl)\n",
        "    #print(\"b\"+str(l)+\": \", bl)\n",
        "    #print(\"--\"*20)\n",
        "\n",
        "    A = linear_forward(A_prev, Wl, bl)\n",
        "    #print(\"A\"+str(l)+\": \", A)\n",
        "    #print(\"**\"*20)\n",
        "\n",
        "  return A,A_prev\n"
      ],
      "metadata": {
        "id": "3P-Dwrgv1aSq"
      },
      "execution_count": 23,
      "outputs": []
    },
    {
      "cell_type": "markdown",
      "source": [
        "yaha update paramater me humne derivative banaye the use code kar diya hai\n"
      ],
      "metadata": {
        "id": "EPDsvpom1w9I"
      }
    },
    {
      "cell_type": "code",
      "source": [
        "def update_parameters(parameters,y,y_hat,A1,X):\n",
        "  parameters['W2'][0][0] = parameters['W2'][0][0] + (0.0001 * (y - y_hat)*A1[0][0])\n",
        "  parameters['W2'][1][0] = parameters['W2'][1][0] + (0.0001 * (y - y_hat)*A1[1][0])\n",
        "  parameters['b2'][0][0] = parameters['W2'][1][0] + (0.0001 * (y - y_hat))\n",
        "\n",
        "  parameters['W1'][0][0] = parameters['W1'][0][0] + (0.0001 * (y - y_hat)*parameters['W2'][0][0]*A1[0][0]*(1-A1[0][0])*X[0][0])\n",
        "  parameters['W1'][0][1] = parameters['W1'][0][1] + (0.0001 * (y - y_hat)*parameters['W2'][0][0]*A1[0][0]*(1-A1[0][0])*X[1][0])\n",
        "  parameters['b1'][0][0] = parameters['b1'][0][0] + (0.0001 * (y - y_hat)*parameters['W2'][0][0]*A1[0][0]*(1-A1[0][0]))\n",
        "\n",
        "  parameters['W1'][1][0] = parameters['W1'][1][0] + (0.0001 * (y - y_hat)*parameters['W2'][1][0]*A1[1][0]*(1-A1[1][0])*X[0][0])\n",
        "  parameters['W1'][1][1] = parameters['W1'][1][1] + (0.0001 * (y - y_hat)*parameters['W2'][1][0]*A1[1][0]*(1-A1[1][0])*X[1][0])\n",
        "  parameters['b1'][1][0] = parameters['b1'][1][0] + (0.0001 * (y - y_hat)*parameters['W2'][1][0]*A1[1][0]*(1-A1[1][0]))"
      ],
      "metadata": {
        "id": "Os-fetg21aQW"
      },
      "execution_count": 24,
      "outputs": []
    },
    {
      "cell_type": "code",
      "source": [
        "# epochs implementation\n",
        "\n",
        "parameters = initialize_parameters([2,2,1])\n",
        "epochs = 50\n",
        "\n",
        "for i in range(epochs):\n",
        "\n",
        "  Loss = []\n",
        "\n",
        "  for j in range(df.shape[0]):\n",
        "\n",
        "    X = df[['cgpa', 'profile_score']].values[j].reshape(2,1) # Shape(no of features, no. of training example)\n",
        "    y = df[['placement']].values[j][0]\n",
        "\n",
        "    # Parameter initialization\n",
        "\n",
        "\n",
        "    y_hat,A1 = L_layer_forward(X,parameters)\n",
        "    y_hat = y_hat[0][0]\n",
        "\n",
        "    update_parameters(parameters,y,y_hat,A1,X)\n",
        "\n",
        "    Loss.append(-y*np.log(y_hat) - (1-y)*np.log(1-y_hat))\n",
        "\n",
        "  print('Epoch - ',i+1,'Loss - ',np.array(Loss).mean())\n",
        "\n",
        "parameters"
      ],
      "metadata": {
        "colab": {
          "base_uri": "https://localhost:8080/"
        },
        "id": "PBFKmTVP1aOJ",
        "outputId": "3a957233-d617-4297-925a-b03fae018138"
      },
      "execution_count": 25,
      "outputs": [
        {
          "output_type": "stream",
          "name": "stdout",
          "text": [
            "Epoch -  1 Loss -  0.6437009812074828\n",
            "Epoch -  2 Loss -  0.6325178669201605\n",
            "Epoch -  3 Loss -  0.6324820261129726\n",
            "Epoch -  4 Loss -  0.6324461985096058\n",
            "Epoch -  5 Loss -  0.6324103841058732\n",
            "Epoch -  6 Loss -  0.6323745828975913\n",
            "Epoch -  7 Loss -  0.6323387948805792\n",
            "Epoch -  8 Loss -  0.6323030200506589\n",
            "Epoch -  9 Loss -  0.6322672584036555\n",
            "Epoch -  10 Loss -  0.632231509935397\n",
            "Epoch -  11 Loss -  0.6321957746417144\n",
            "Epoch -  12 Loss -  0.6321600525184414\n",
            "Epoch -  13 Loss -  0.6321243435614146\n",
            "Epoch -  14 Loss -  0.6320886477664737\n",
            "Epoch -  15 Loss -  0.6320529651294612\n",
            "Epoch -  16 Loss -  0.6320172956462226\n",
            "Epoch -  17 Loss -  0.6319816393126055\n",
            "Epoch -  18 Loss -  0.6319459961244617\n",
            "Epoch -  19 Loss -  0.631910366077645\n",
            "Epoch -  20 Loss -  0.6318747491680121\n",
            "Epoch -  21 Loss -  0.6318391453914227\n",
            "Epoch -  22 Loss -  0.6318035547437395\n",
            "Epoch -  23 Loss -  0.6317679772208278\n",
            "Epoch -  24 Loss -  0.6317324128185559\n",
            "Epoch -  25 Loss -  0.6316968615327946\n",
            "Epoch -  26 Loss -  0.6316613233594179\n",
            "Epoch -  27 Loss -  0.6316257982943028\n",
            "Epoch -  28 Loss -  0.6315902863333284\n",
            "Epoch -  29 Loss -  0.6315547874723771\n",
            "Epoch -  30 Loss -  0.6315193017073344\n",
            "Epoch -  31 Loss -  0.6314838290340878\n",
            "Epoch -  32 Loss -  0.6314483694485282\n",
            "Epoch -  33 Loss -  0.6314129229465493\n",
            "Epoch -  34 Loss -  0.6313774895240469\n",
            "Epoch -  35 Loss -  0.6313420691769205\n",
            "Epoch -  36 Loss -  0.6313066619010717\n",
            "Epoch -  37 Loss -  0.6312712676924053\n",
            "Epoch -  38 Loss -  0.6312358865468285\n",
            "Epoch -  39 Loss -  0.6312005184602516\n",
            "Epoch -  40 Loss -  0.6311651634285874\n",
            "Epoch -  41 Loss -  0.6311298214477513\n",
            "Epoch -  42 Loss -  0.6310944925136619\n",
            "Epoch -  43 Loss -  0.6310591766222402\n",
            "Epoch -  44 Loss -  0.63102387376941\n",
            "Epoch -  45 Loss -  0.630988583951098\n",
            "Epoch -  46 Loss -  0.6309533071632331\n",
            "Epoch -  47 Loss -  0.6309180434017475\n",
            "Epoch -  48 Loss -  0.6308827926625757\n",
            "Epoch -  49 Loss -  0.6308475549416551\n",
            "Epoch -  50 Loss -  0.6308123302349259\n"
          ]
        },
        {
          "output_type": "execute_result",
          "data": {
            "text/plain": [
              "{'W1': array([[0.10036394, 0.10054813],\n",
              "        [0.10036344, 0.10054745]]),\n",
              " 'b1': array([[3.59374925e-05],\n",
              "        [3.58732790e-05]]),\n",
              " 'W2': array([[0.10334788],\n",
              "        [0.10334867]]),\n",
              " 'b2': array([[0.10329234]])}"
            ]
          },
          "metadata": {},
          "execution_count": 25
        }
      ]
    },
    {
      "cell_type": "markdown",
      "source": [
        "Now using Keras"
      ],
      "metadata": {
        "id": "A0SoZDk54BbP"
      }
    },
    {
      "cell_type": "code",
      "source": [
        "import tensorflow\n",
        "from tensorflow import keras\n",
        "from keras import Sequential\n",
        "from keras.layers import Dense"
      ],
      "metadata": {
        "id": "ScMhQKvn1aLq"
      },
      "execution_count": 26,
      "outputs": []
    },
    {
      "cell_type": "code",
      "source": [
        "model = Sequential()\n",
        "model.add(Dense(2,activation='sigmoid',input_dim=2))\n",
        "model.add(Dense(1,activation='sigmoid'))"
      ],
      "metadata": {
        "id": "YVH1_ZRr1aJO"
      },
      "execution_count": 28,
      "outputs": []
    },
    {
      "cell_type": "code",
      "source": [
        "model.summary()"
      ],
      "metadata": {
        "colab": {
          "base_uri": "https://localhost:8080/"
        },
        "id": "4U57smjX4VH9",
        "outputId": "33c49521-e7ee-4c7b-ad76-9f3a1c381ef2"
      },
      "execution_count": 29,
      "outputs": [
        {
          "output_type": "stream",
          "name": "stdout",
          "text": [
            "Model: \"sequential\"\n",
            "_________________________________________________________________\n",
            " Layer (type)                Output Shape              Param #   \n",
            "=================================================================\n",
            " dense_1 (Dense)             (None, 2)                 6         \n",
            "                                                                 \n",
            " dense_2 (Dense)             (None, 1)                 3         \n",
            "                                                                 \n",
            "=================================================================\n",
            "Total params: 9 (36.00 Byte)\n",
            "Trainable params: 9 (36.00 Byte)\n",
            "Non-trainable params: 0 (0.00 Byte)\n",
            "_________________________________________________________________\n"
          ]
        }
      ]
    },
    {
      "cell_type": "code",
      "source": [
        "new_weights = [np.array([[0.1, 0.1],\n",
        "                         [0.1, 0.1 ]], dtype=np.float32),\n",
        "np.array([0, 0.], dtype=np. float32),\n",
        "np.array([[0.1], [0.1]], dtype=np.float32),\n",
        "np.array([0.], dtype=np.float32)]"
      ],
      "metadata": {
        "id": "sUMEIqsH4diK"
      },
      "execution_count": 30,
      "outputs": []
    },
    {
      "cell_type": "code",
      "source": [
        "model.set_weights(new_weights)"
      ],
      "metadata": {
        "id": "2v-VhkU04der"
      },
      "execution_count": 31,
      "outputs": []
    },
    {
      "cell_type": "code",
      "source": [
        "optimizer = keras.optimizers.Adam(learning_rate=0.001)\n",
        "model.compile(loss='binary_crossentropy',optimizer=optimizer)"
      ],
      "metadata": {
        "id": "NeTFHpQ94xtl"
      },
      "execution_count": 32,
      "outputs": []
    },
    {
      "cell_type": "code",
      "source": [
        "model.fit(df.iloc[:,0:-1].values,df['placement'].values,epochs=75,verbose=1,batch_size=1)"
      ],
      "metadata": {
        "colab": {
          "base_uri": "https://localhost:8080/"
        },
        "id": "-OeiaQHU5ADR",
        "outputId": "54f31a79-1edc-416c-aab2-4e566f6ed3ac"
      },
      "execution_count": 33,
      "outputs": [
        {
          "output_type": "stream",
          "name": "stdout",
          "text": [
            "Epoch 1/75\n",
            "4/4 [==============================] - 0s 5ms/step - loss: 0.6519\n",
            "Epoch 2/75\n",
            "4/4 [==============================] - 0s 4ms/step - loss: 0.6506\n",
            "Epoch 3/75\n",
            "4/4 [==============================] - 0s 3ms/step - loss: 0.6493\n",
            "Epoch 4/75\n",
            "4/4 [==============================] - 0s 3ms/step - loss: 0.6483\n",
            "Epoch 5/75\n",
            "4/4 [==============================] - 0s 4ms/step - loss: 0.6465\n",
            "Epoch 6/75\n",
            "4/4 [==============================] - 0s 4ms/step - loss: 0.6454\n",
            "Epoch 7/75\n",
            "4/4 [==============================] - 0s 3ms/step - loss: 0.6442\n",
            "Epoch 8/75\n",
            "4/4 [==============================] - 0s 5ms/step - loss: 0.6440\n",
            "Epoch 9/75\n",
            "4/4 [==============================] - 0s 4ms/step - loss: 0.6425\n",
            "Epoch 10/75\n",
            "4/4 [==============================] - 0s 4ms/step - loss: 0.6411\n",
            "Epoch 11/75\n",
            "4/4 [==============================] - 0s 3ms/step - loss: 0.6394\n",
            "Epoch 12/75\n",
            "4/4 [==============================] - 0s 5ms/step - loss: 0.6379\n",
            "Epoch 13/75\n",
            "4/4 [==============================] - 0s 3ms/step - loss: 0.6377\n",
            "Epoch 14/75\n",
            "4/4 [==============================] - 0s 13ms/step - loss: 0.6356\n",
            "Epoch 15/75\n",
            "4/4 [==============================] - 0s 2ms/step - loss: 0.6347\n",
            "Epoch 16/75\n",
            "4/4 [==============================] - 0s 3ms/step - loss: 0.6345\n",
            "Epoch 17/75\n",
            "4/4 [==============================] - 0s 3ms/step - loss: 0.6328\n",
            "Epoch 18/75\n",
            "4/4 [==============================] - 0s 2ms/step - loss: 0.6317\n",
            "Epoch 19/75\n",
            "4/4 [==============================] - 0s 10ms/step - loss: 0.6304\n",
            "Epoch 20/75\n",
            "4/4 [==============================] - 0s 5ms/step - loss: 0.6297\n",
            "Epoch 21/75\n",
            "4/4 [==============================] - 0s 17ms/step - loss: 0.6290\n",
            "Epoch 22/75\n",
            "4/4 [==============================] - 0s 6ms/step - loss: 0.6278\n",
            "Epoch 23/75\n",
            "4/4 [==============================] - 0s 3ms/step - loss: 0.6264\n",
            "Epoch 24/75\n",
            "4/4 [==============================] - 0s 3ms/step - loss: 0.6252\n",
            "Epoch 25/75\n",
            "4/4 [==============================] - 0s 5ms/step - loss: 0.6249\n",
            "Epoch 26/75\n",
            "4/4 [==============================] - 0s 6ms/step - loss: 0.6238\n",
            "Epoch 27/75\n",
            "4/4 [==============================] - 0s 9ms/step - loss: 0.6221\n",
            "Epoch 28/75\n",
            "4/4 [==============================] - 0s 4ms/step - loss: 0.6215\n",
            "Epoch 29/75\n",
            "4/4 [==============================] - 0s 7ms/step - loss: 0.6207\n",
            "Epoch 30/75\n",
            "4/4 [==============================] - 0s 6ms/step - loss: 0.6200\n",
            "Epoch 31/75\n",
            "4/4 [==============================] - 0s 6ms/step - loss: 0.6187\n",
            "Epoch 32/75\n",
            "4/4 [==============================] - 0s 6ms/step - loss: 0.6179\n",
            "Epoch 33/75\n",
            "4/4 [==============================] - 0s 3ms/step - loss: 0.6179\n",
            "Epoch 34/75\n",
            "4/4 [==============================] - 0s 2ms/step - loss: 0.6165\n",
            "Epoch 35/75\n",
            "4/4 [==============================] - 0s 2ms/step - loss: 0.6159\n",
            "Epoch 36/75\n",
            "4/4 [==============================] - 0s 2ms/step - loss: 0.6149\n",
            "Epoch 37/75\n",
            "4/4 [==============================] - 0s 2ms/step - loss: 0.6137\n",
            "Epoch 38/75\n",
            "4/4 [==============================] - 0s 3ms/step - loss: 0.6133\n",
            "Epoch 39/75\n",
            "4/4 [==============================] - 0s 2ms/step - loss: 0.6119\n",
            "Epoch 40/75\n",
            "4/4 [==============================] - 0s 2ms/step - loss: 0.6111\n",
            "Epoch 41/75\n",
            "4/4 [==============================] - 0s 2ms/step - loss: 0.6111\n",
            "Epoch 42/75\n",
            "4/4 [==============================] - 0s 2ms/step - loss: 0.6097\n",
            "Epoch 43/75\n",
            "4/4 [==============================] - 0s 2ms/step - loss: 0.6089\n",
            "Epoch 44/75\n",
            "4/4 [==============================] - 0s 2ms/step - loss: 0.6089\n",
            "Epoch 45/75\n",
            "4/4 [==============================] - 0s 3ms/step - loss: 0.6077\n",
            "Epoch 46/75\n",
            "4/4 [==============================] - 0s 2ms/step - loss: 0.6070\n",
            "Epoch 47/75\n",
            "4/4 [==============================] - 0s 2ms/step - loss: 0.6065\n",
            "Epoch 48/75\n",
            "4/4 [==============================] - 0s 2ms/step - loss: 0.6052\n",
            "Epoch 49/75\n",
            "4/4 [==============================] - 0s 2ms/step - loss: 0.6046\n",
            "Epoch 50/75\n",
            "4/4 [==============================] - 0s 2ms/step - loss: 0.6045\n",
            "Epoch 51/75\n",
            "4/4 [==============================] - 0s 2ms/step - loss: 0.6034\n",
            "Epoch 52/75\n",
            "4/4 [==============================] - 0s 4ms/step - loss: 0.6026\n",
            "Epoch 53/75\n",
            "4/4 [==============================] - 0s 3ms/step - loss: 0.6019\n",
            "Epoch 54/75\n",
            "4/4 [==============================] - 0s 3ms/step - loss: 0.6013\n",
            "Epoch 55/75\n",
            "4/4 [==============================] - 0s 7ms/step - loss: 0.6011\n",
            "Epoch 56/75\n",
            "4/4 [==============================] - 0s 8ms/step - loss: 0.6004\n",
            "Epoch 57/75\n",
            "4/4 [==============================] - 0s 7ms/step - loss: 0.5997\n",
            "Epoch 58/75\n",
            "4/4 [==============================] - 0s 10ms/step - loss: 0.5987\n",
            "Epoch 59/75\n",
            "4/4 [==============================] - 0s 3ms/step - loss: 0.5982\n",
            "Epoch 60/75\n",
            "4/4 [==============================] - 0s 3ms/step - loss: 0.5980\n",
            "Epoch 61/75\n",
            "4/4 [==============================] - 0s 4ms/step - loss: 0.5971\n",
            "Epoch 62/75\n",
            "4/4 [==============================] - 0s 4ms/step - loss: 0.5967\n",
            "Epoch 63/75\n",
            "4/4 [==============================] - 0s 3ms/step - loss: 0.5959\n",
            "Epoch 64/75\n",
            "4/4 [==============================] - 0s 3ms/step - loss: 0.5952\n",
            "Epoch 65/75\n",
            "4/4 [==============================] - 0s 3ms/step - loss: 0.5948\n",
            "Epoch 66/75\n",
            "4/4 [==============================] - 0s 9ms/step - loss: 0.5945\n",
            "Epoch 67/75\n",
            "4/4 [==============================] - 0s 7ms/step - loss: 0.5942\n",
            "Epoch 68/75\n",
            "4/4 [==============================] - 0s 4ms/step - loss: 0.5929\n",
            "Epoch 69/75\n",
            "4/4 [==============================] - 0s 4ms/step - loss: 0.5928\n",
            "Epoch 70/75\n",
            "4/4 [==============================] - 0s 4ms/step - loss: 0.5920\n",
            "Epoch 71/75\n",
            "4/4 [==============================] - 0s 11ms/step - loss: 0.5920\n",
            "Epoch 72/75\n",
            "4/4 [==============================] - 0s 5ms/step - loss: 0.5908\n",
            "Epoch 73/75\n",
            "4/4 [==============================] - 0s 7ms/step - loss: 0.5907\n",
            "Epoch 74/75\n",
            "4/4 [==============================] - 0s 5ms/step - loss: 0.5900\n",
            "Epoch 75/75\n",
            "4/4 [==============================] - 0s 4ms/step - loss: 0.5897\n"
          ]
        },
        {
          "output_type": "execute_result",
          "data": {
            "text/plain": [
              "<keras.src.callbacks.History at 0x786222157490>"
            ]
          },
          "metadata": {},
          "execution_count": 33
        }
      ]
    },
    {
      "cell_type": "code",
      "source": [],
      "metadata": {
        "id": "n0mH-5Du5IVe"
      },
      "execution_count": null,
      "outputs": []
    }
  ]
}