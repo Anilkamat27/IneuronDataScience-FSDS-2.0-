{
  "nbformat": 4,
  "nbformat_minor": 0,
  "metadata": {
    "colab": {
      "provenance": []
    },
    "kernelspec": {
      "name": "python3",
      "display_name": "Python 3"
    },
    "language_info": {
      "name": "python"
    }
  },
  "cells": [
    {
      "cell_type": "code",
      "execution_count": 34,
      "metadata": {
        "id": "BtSU4SmW3jOa"
      },
      "outputs": [],
      "source": [
        "import numpy as np\n",
        "import pandas as pd"
      ]
    },
    {
      "cell_type": "code",
      "source": [
        "df = pd.DataFrame([[8,8,4],[7,9,5],[6,10,6],[5,12,7]],columns=['cgpa','profile_score','lpa'])"
      ],
      "metadata": {
        "id": "goTZcbjf38ry"
      },
      "execution_count": 35,
      "outputs": []
    },
    {
      "cell_type": "code",
      "source": [
        "df"
      ],
      "metadata": {
        "colab": {
          "base_uri": "https://localhost:8080/",
          "height": 175
        },
        "id": "6WizdwYN5sl9",
        "outputId": "4541b099-4482-4bf1-effb-c90a70e18bd1"
      },
      "execution_count": 36,
      "outputs": [
        {
          "output_type": "execute_result",
          "data": {
            "text/plain": [
              "   cgpa  profile_score  lpa\n",
              "0     8              8    4\n",
              "1     7              9    5\n",
              "2     6             10    6\n",
              "3     5             12    7"
            ],
            "text/html": [
              "\n",
              "  <div id=\"df-88e815e4-359b-40d9-8ebd-1633cf9c82ca\" class=\"colab-df-container\">\n",
              "    <div>\n",
              "<style scoped>\n",
              "    .dataframe tbody tr th:only-of-type {\n",
              "        vertical-align: middle;\n",
              "    }\n",
              "\n",
              "    .dataframe tbody tr th {\n",
              "        vertical-align: top;\n",
              "    }\n",
              "\n",
              "    .dataframe thead th {\n",
              "        text-align: right;\n",
              "    }\n",
              "</style>\n",
              "<table border=\"1\" class=\"dataframe\">\n",
              "  <thead>\n",
              "    <tr style=\"text-align: right;\">\n",
              "      <th></th>\n",
              "      <th>cgpa</th>\n",
              "      <th>profile_score</th>\n",
              "      <th>lpa</th>\n",
              "    </tr>\n",
              "  </thead>\n",
              "  <tbody>\n",
              "    <tr>\n",
              "      <th>0</th>\n",
              "      <td>8</td>\n",
              "      <td>8</td>\n",
              "      <td>4</td>\n",
              "    </tr>\n",
              "    <tr>\n",
              "      <th>1</th>\n",
              "      <td>7</td>\n",
              "      <td>9</td>\n",
              "      <td>5</td>\n",
              "    </tr>\n",
              "    <tr>\n",
              "      <th>2</th>\n",
              "      <td>6</td>\n",
              "      <td>10</td>\n",
              "      <td>6</td>\n",
              "    </tr>\n",
              "    <tr>\n",
              "      <th>3</th>\n",
              "      <td>5</td>\n",
              "      <td>12</td>\n",
              "      <td>7</td>\n",
              "    </tr>\n",
              "  </tbody>\n",
              "</table>\n",
              "</div>\n",
              "    <div class=\"colab-df-buttons\">\n",
              "\n",
              "  <div class=\"colab-df-container\">\n",
              "    <button class=\"colab-df-convert\" onclick=\"convertToInteractive('df-88e815e4-359b-40d9-8ebd-1633cf9c82ca')\"\n",
              "            title=\"Convert this dataframe to an interactive table.\"\n",
              "            style=\"display:none;\">\n",
              "\n",
              "  <svg xmlns=\"http://www.w3.org/2000/svg\" height=\"24px\" viewBox=\"0 -960 960 960\">\n",
              "    <path d=\"M120-120v-720h720v720H120Zm60-500h600v-160H180v160Zm220 220h160v-160H400v160Zm0 220h160v-160H400v160ZM180-400h160v-160H180v160Zm440 0h160v-160H620v160ZM180-180h160v-160H180v160Zm440 0h160v-160H620v160Z\"/>\n",
              "  </svg>\n",
              "    </button>\n",
              "\n",
              "  <style>\n",
              "    .colab-df-container {\n",
              "      display:flex;\n",
              "      gap: 12px;\n",
              "    }\n",
              "\n",
              "    .colab-df-convert {\n",
              "      background-color: #E8F0FE;\n",
              "      border: none;\n",
              "      border-radius: 50%;\n",
              "      cursor: pointer;\n",
              "      display: none;\n",
              "      fill: #1967D2;\n",
              "      height: 32px;\n",
              "      padding: 0 0 0 0;\n",
              "      width: 32px;\n",
              "    }\n",
              "\n",
              "    .colab-df-convert:hover {\n",
              "      background-color: #E2EBFA;\n",
              "      box-shadow: 0px 1px 2px rgba(60, 64, 67, 0.3), 0px 1px 3px 1px rgba(60, 64, 67, 0.15);\n",
              "      fill: #174EA6;\n",
              "    }\n",
              "\n",
              "    .colab-df-buttons div {\n",
              "      margin-bottom: 4px;\n",
              "    }\n",
              "\n",
              "    [theme=dark] .colab-df-convert {\n",
              "      background-color: #3B4455;\n",
              "      fill: #D2E3FC;\n",
              "    }\n",
              "\n",
              "    [theme=dark] .colab-df-convert:hover {\n",
              "      background-color: #434B5C;\n",
              "      box-shadow: 0px 1px 3px 1px rgba(0, 0, 0, 0.15);\n",
              "      filter: drop-shadow(0px 1px 2px rgba(0, 0, 0, 0.3));\n",
              "      fill: #FFFFFF;\n",
              "    }\n",
              "  </style>\n",
              "\n",
              "    <script>\n",
              "      const buttonEl =\n",
              "        document.querySelector('#df-88e815e4-359b-40d9-8ebd-1633cf9c82ca button.colab-df-convert');\n",
              "      buttonEl.style.display =\n",
              "        google.colab.kernel.accessAllowed ? 'block' : 'none';\n",
              "\n",
              "      async function convertToInteractive(key) {\n",
              "        const element = document.querySelector('#df-88e815e4-359b-40d9-8ebd-1633cf9c82ca');\n",
              "        const dataTable =\n",
              "          await google.colab.kernel.invokeFunction('convertToInteractive',\n",
              "                                                    [key], {});\n",
              "        if (!dataTable) return;\n",
              "\n",
              "        const docLinkHtml = 'Like what you see? Visit the ' +\n",
              "          '<a target=\"_blank\" href=https://colab.research.google.com/notebooks/data_table.ipynb>data table notebook</a>'\n",
              "          + ' to learn more about interactive tables.';\n",
              "        element.innerHTML = '';\n",
              "        dataTable['output_type'] = 'display_data';\n",
              "        await google.colab.output.renderOutput(dataTable, element);\n",
              "        const docLink = document.createElement('div');\n",
              "        docLink.innerHTML = docLinkHtml;\n",
              "        element.appendChild(docLink);\n",
              "      }\n",
              "    </script>\n",
              "  </div>\n",
              "\n",
              "\n",
              "<div id=\"df-2bb692b8-3e3c-4378-80a5-25c4684d00fe\">\n",
              "  <button class=\"colab-df-quickchart\" onclick=\"quickchart('df-2bb692b8-3e3c-4378-80a5-25c4684d00fe')\"\n",
              "            title=\"Suggest charts.\"\n",
              "            style=\"display:none;\">\n",
              "\n",
              "<svg xmlns=\"http://www.w3.org/2000/svg\" height=\"24px\"viewBox=\"0 0 24 24\"\n",
              "     width=\"24px\">\n",
              "    <g>\n",
              "        <path d=\"M19 3H5c-1.1 0-2 .9-2 2v14c0 1.1.9 2 2 2h14c1.1 0 2-.9 2-2V5c0-1.1-.9-2-2-2zM9 17H7v-7h2v7zm4 0h-2V7h2v10zm4 0h-2v-4h2v4z\"/>\n",
              "    </g>\n",
              "</svg>\n",
              "  </button>\n",
              "\n",
              "<style>\n",
              "  .colab-df-quickchart {\n",
              "      --bg-color: #E8F0FE;\n",
              "      --fill-color: #1967D2;\n",
              "      --hover-bg-color: #E2EBFA;\n",
              "      --hover-fill-color: #174EA6;\n",
              "      --disabled-fill-color: #AAA;\n",
              "      --disabled-bg-color: #DDD;\n",
              "  }\n",
              "\n",
              "  [theme=dark] .colab-df-quickchart {\n",
              "      --bg-color: #3B4455;\n",
              "      --fill-color: #D2E3FC;\n",
              "      --hover-bg-color: #434B5C;\n",
              "      --hover-fill-color: #FFFFFF;\n",
              "      --disabled-bg-color: #3B4455;\n",
              "      --disabled-fill-color: #666;\n",
              "  }\n",
              "\n",
              "  .colab-df-quickchart {\n",
              "    background-color: var(--bg-color);\n",
              "    border: none;\n",
              "    border-radius: 50%;\n",
              "    cursor: pointer;\n",
              "    display: none;\n",
              "    fill: var(--fill-color);\n",
              "    height: 32px;\n",
              "    padding: 0;\n",
              "    width: 32px;\n",
              "  }\n",
              "\n",
              "  .colab-df-quickchart:hover {\n",
              "    background-color: var(--hover-bg-color);\n",
              "    box-shadow: 0 1px 2px rgba(60, 64, 67, 0.3), 0 1px 3px 1px rgba(60, 64, 67, 0.15);\n",
              "    fill: var(--button-hover-fill-color);\n",
              "  }\n",
              "\n",
              "  .colab-df-quickchart-complete:disabled,\n",
              "  .colab-df-quickchart-complete:disabled:hover {\n",
              "    background-color: var(--disabled-bg-color);\n",
              "    fill: var(--disabled-fill-color);\n",
              "    box-shadow: none;\n",
              "  }\n",
              "\n",
              "  .colab-df-spinner {\n",
              "    border: 2px solid var(--fill-color);\n",
              "    border-color: transparent;\n",
              "    border-bottom-color: var(--fill-color);\n",
              "    animation:\n",
              "      spin 1s steps(1) infinite;\n",
              "  }\n",
              "\n",
              "  @keyframes spin {\n",
              "    0% {\n",
              "      border-color: transparent;\n",
              "      border-bottom-color: var(--fill-color);\n",
              "      border-left-color: var(--fill-color);\n",
              "    }\n",
              "    20% {\n",
              "      border-color: transparent;\n",
              "      border-left-color: var(--fill-color);\n",
              "      border-top-color: var(--fill-color);\n",
              "    }\n",
              "    30% {\n",
              "      border-color: transparent;\n",
              "      border-left-color: var(--fill-color);\n",
              "      border-top-color: var(--fill-color);\n",
              "      border-right-color: var(--fill-color);\n",
              "    }\n",
              "    40% {\n",
              "      border-color: transparent;\n",
              "      border-right-color: var(--fill-color);\n",
              "      border-top-color: var(--fill-color);\n",
              "    }\n",
              "    60% {\n",
              "      border-color: transparent;\n",
              "      border-right-color: var(--fill-color);\n",
              "    }\n",
              "    80% {\n",
              "      border-color: transparent;\n",
              "      border-right-color: var(--fill-color);\n",
              "      border-bottom-color: var(--fill-color);\n",
              "    }\n",
              "    90% {\n",
              "      border-color: transparent;\n",
              "      border-bottom-color: var(--fill-color);\n",
              "    }\n",
              "  }\n",
              "</style>\n",
              "\n",
              "  <script>\n",
              "    async function quickchart(key) {\n",
              "      const quickchartButtonEl =\n",
              "        document.querySelector('#' + key + ' button');\n",
              "      quickchartButtonEl.disabled = true;  // To prevent multiple clicks.\n",
              "      quickchartButtonEl.classList.add('colab-df-spinner');\n",
              "      try {\n",
              "        const charts = await google.colab.kernel.invokeFunction(\n",
              "            'suggestCharts', [key], {});\n",
              "      } catch (error) {\n",
              "        console.error('Error during call to suggestCharts:', error);\n",
              "      }\n",
              "      quickchartButtonEl.classList.remove('colab-df-spinner');\n",
              "      quickchartButtonEl.classList.add('colab-df-quickchart-complete');\n",
              "    }\n",
              "    (() => {\n",
              "      let quickchartButtonEl =\n",
              "        document.querySelector('#df-2bb692b8-3e3c-4378-80a5-25c4684d00fe button');\n",
              "      quickchartButtonEl.style.display =\n",
              "        google.colab.kernel.accessAllowed ? 'block' : 'none';\n",
              "    })();\n",
              "  </script>\n",
              "</div>\n",
              "    </div>\n",
              "  </div>\n"
            ]
          },
          "metadata": {},
          "execution_count": 36
        }
      ]
    },
    {
      "cell_type": "code",
      "source": [
        "def initialize_parameters(layer_dims):\n",
        "  np.random.seed(3)\n",
        "  parameters = {}\n",
        "  L = len(layer_dims)\n",
        "\n",
        "  for l in range(1,L):\n",
        "    parameters['W'+str(l)] = np.ones((layer_dims[l-1],layer_dims[l]))*0.1\n",
        "    parameters['b'+str(l)] = np.zeros((layer_dims[l],1))\n",
        "  return parameters\n"
      ],
      "metadata": {
        "id": "YF1wMuPT5tv_"
      },
      "execution_count": 37,
      "outputs": []
    },
    {
      "cell_type": "code",
      "source": [
        "initialize_parameters([2,2,1])"
      ],
      "metadata": {
        "colab": {
          "base_uri": "https://localhost:8080/"
        },
        "id": "-Y8NXtU_7kPw",
        "outputId": "92caac63-cb38-4581-e93d-2e584385c0c8"
      },
      "execution_count": 38,
      "outputs": [
        {
          "output_type": "execute_result",
          "data": {
            "text/plain": [
              "{'W1': array([[0.1, 0.1],\n",
              "        [0.1, 0.1]]),\n",
              " 'b1': array([[0.],\n",
              "        [0.]]),\n",
              " 'W2': array([[0.1],\n",
              "        [0.1]]),\n",
              " 'b2': array([[0.]])}"
            ]
          },
          "metadata": {},
          "execution_count": 38
        }
      ]
    },
    {
      "cell_type": "code",
      "source": [
        "def linear_forward(A_prev, W,b):\n",
        "  z = np.dot(W.T,A_prev)+b\n",
        "  return z"
      ],
      "metadata": {
        "id": "NLaZTmosVEa2"
      },
      "execution_count": 39,
      "outputs": []
    },
    {
      "cell_type": "code",
      "source": [
        "# Forward Prop\n",
        "def L_layer_forward(X,parameters):\n",
        "  A = X\n",
        "  L = len(parameters) // 2\n",
        "  for l in range(1,L+1):\n",
        "    A_prev = A\n",
        "    w1 = parameters['W'+str(1)]\n",
        "    b1 = parameters['b'+str(1)]\n",
        "    #print(\"A\"+str(l-1)+\": \",A_prev)\n",
        "    #print(\"W\"+str(l-1)+\": \",w1)\n",
        "    #print(\"b\"+str(l)+\": \",b1)\n",
        "    #print(\"__\"*20)\n",
        "\n",
        "    A = linear_forward(A_prev,w1,b1)\n",
        "    ##print(\"A\"+str(l)+\": \",A)\n",
        "    #print(\"++\"*20)\n",
        "  return A,A_prev\n"
      ],
      "metadata": {
        "id": "8C45hI55WqOv"
      },
      "execution_count": 54,
      "outputs": []
    },
    {
      "cell_type": "code",
      "source": [
        "X = df[['cgpa','profile_score']].values[0].reshape(2,1)\n",
        "y = df[['lpa']].values[0][0]\n",
        "\n",
        "parameters = initialize_parameters([2,2,1])\n",
        "y_hat,A1 = L_layer_forward(X,parameters)"
      ],
      "metadata": {
        "id": "zye2UNjqelSo",
        "colab": {
          "base_uri": "https://localhost:8080/"
        },
        "outputId": "08d5abf0-1e89-4299-e00c-d28b9c1d90a2"
      },
      "execution_count": 41,
      "outputs": [
        {
          "output_type": "stream",
          "name": "stdout",
          "text": [
            "A0:  [[8]\n",
            " [8]]\n",
            "W0:  [[0.1 0.1]\n",
            " [0.1 0.1]]\n",
            "b1:  [[0.]\n",
            " [0.]]\n",
            "________________________________________\n",
            "A1:  [[1.6]\n",
            " [1.6]]\n",
            "++++++++++++++++++++++++++++++++++++++++\n",
            "A1:  [[1.6]\n",
            " [1.6]]\n",
            "W1:  [[0.1 0.1]\n",
            " [0.1 0.1]]\n",
            "b2:  [[0.]\n",
            " [0.]]\n",
            "________________________________________\n",
            "A2:  [[0.32]\n",
            " [0.32]]\n",
            "++++++++++++++++++++++++++++++++++++++++\n"
          ]
        }
      ]
    },
    {
      "cell_type": "code",
      "source": [
        "print(y_hat,A1)"
      ],
      "metadata": {
        "colab": {
          "base_uri": "https://localhost:8080/"
        },
        "id": "kTq8s4zpp9vK",
        "outputId": "1fe813bd-7008-4729-d6b7-269058211970"
      },
      "execution_count": 42,
      "outputs": [
        {
          "output_type": "stream",
          "name": "stdout",
          "text": [
            "[[0.32]\n",
            " [0.32]] [[1.6]\n",
            " [1.6]]\n"
          ]
        }
      ]
    },
    {
      "cell_type": "code",
      "source": [
        "def update_parameters(parameters,y,y_hat,A1,X):\n",
        "  parameters['W2'][0][0] = parameters['W2'][0][0] + (0.001 * 2 * (y - y_hat)*A1[0][0])\n",
        "  parameters['W2'][1][0] = parameters['W2'][1][0] + (0.001 * 2 * (y - y_hat)*A1[1][0])\n",
        "  parameters['b2'][0][0] = parameters['W2'][1][0] + (0.001 * 2 * (y - y_hat))\n",
        "\n",
        "  parameters['W1'][0][0] = parameters['W1'][0][0] + (0.001 * 2 * (y - y_hat)*parameters['W2'][0][0]*X[0][0])\n",
        "  parameters['W1'][0][1] = parameters['W1'][0][1] + (0.001 * 2 * (y - y_hat)*parameters['W2'][0][0]*X[1][0])\n",
        "  parameters['b1'][0][0] = parameters['b1'][0][0] + (0.001 * 2 * (y - y_hat)*parameters['W2'][0][0])\n",
        "\n",
        "  parameters['W1'][1][0] = parameters['W1'][1][0] + (0.001 * 2 * (y - y_hat)*parameters['W2'][1][0]*X[0][0])\n",
        "  parameters['W1'][1][1] = parameters['W1'][1][1] + (0.001 * 2 * (y - y_hat)*parameters['W2'][1][0]*X[1][0])\n",
        "  parameters['b1'][1][0] = parameters['b1'][1][0] + (0.001 * 2 * (y - y_hat)*parameters['W2'][1][0])"
      ],
      "metadata": {
        "id": "LH8uFlKQp9ET"
      },
      "execution_count": 43,
      "outputs": []
    },
    {
      "cell_type": "code",
      "source": [
        "y_hat = y_hat[0][0]"
      ],
      "metadata": {
        "id": "SIsRu99kqJWi"
      },
      "execution_count": 45,
      "outputs": []
    },
    {
      "cell_type": "code",
      "source": [
        "update_parameters(parameters,y,y_hat,A1,X)"
      ],
      "metadata": {
        "id": "Pn0MlxnypPK4"
      },
      "execution_count": 46,
      "outputs": []
    },
    {
      "cell_type": "code",
      "source": [
        "parameters"
      ],
      "metadata": {
        "colab": {
          "base_uri": "https://localhost:8080/"
        },
        "id": "zfNp6NPvp1S3",
        "outputId": "6fb8ab16-d9c6-4416-9011-dce50773dd95"
      },
      "execution_count": 47,
      "outputs": [
        {
          "output_type": "execute_result",
          "data": {
            "text/plain": [
              "{'W1': array([[0.10658137, 0.10658137],\n",
              "        [0.10658137, 0.10658137]]),\n",
              " 'b1': array([[0.00082267],\n",
              "        [0.00082267]]),\n",
              " 'W2': array([[0.111776],\n",
              "        [0.111776]]),\n",
              " 'b2': array([[0.119136]])}"
            ]
          },
          "metadata": {},
          "execution_count": 47
        }
      ]
    },
    {
      "cell_type": "code",
      "source": [
        "X = df[['cgpa', 'profile_score']].values[3].reshape(2,1) # Shape(no of features, no. of training example)\n",
        "y = df[['lpa']].values[3][0]\n",
        "\n",
        "y_hat,A1 = L_layer_forward(X, parameters)"
      ],
      "metadata": {
        "colab": {
          "base_uri": "https://localhost:8080/"
        },
        "id": "GPrPIG2mqXTj",
        "outputId": "c9bb2de3-28b2-485b-d6bf-91535361460b"
      },
      "execution_count": 48,
      "outputs": [
        {
          "output_type": "stream",
          "name": "stdout",
          "text": [
            "A0:  [[ 5]\n",
            " [12]]\n",
            "W0:  [[0.10658137 0.10658137]\n",
            " [0.10658137 0.10658137]]\n",
            "b1:  [[0.00082267]\n",
            " [0.00082267]]\n",
            "________________________________________\n",
            "A1:  [[1.81270598]\n",
            " [1.81270598]]\n",
            "++++++++++++++++++++++++++++++++++++++++\n",
            "A1:  [[1.81270598]\n",
            " [1.81270598]]\n",
            "W1:  [[0.10658137 0.10658137]\n",
            " [0.10658137 0.10658137]]\n",
            "b2:  [[0.00082267]\n",
            " [0.00082267]]\n",
            "________________________________________\n",
            "A2:  [[0.38722405]\n",
            " [0.38722405]]\n",
            "++++++++++++++++++++++++++++++++++++++++\n"
          ]
        }
      ]
    },
    {
      "cell_type": "code",
      "source": [
        "y_hat = y_hat[0][0]"
      ],
      "metadata": {
        "id": "7Y3SlOzWqicT"
      },
      "execution_count": 49,
      "outputs": []
    },
    {
      "cell_type": "code",
      "source": [
        "update_parameters(parameters,y,y_hat,A1,X)"
      ],
      "metadata": {
        "id": "kXN473kWNq2F"
      },
      "execution_count": 50,
      "outputs": []
    },
    {
      "cell_type": "code",
      "source": [
        "\n",
        "parameters"
      ],
      "metadata": {
        "colab": {
          "base_uri": "https://localhost:8080/"
        },
        "id": "rJ0McM4LqSka",
        "outputId": "42b75391-d934-4f04-af1a-4dc09fed6cd9"
      },
      "execution_count": 51,
      "outputs": [
        {
          "output_type": "execute_result",
          "data": {
            "text/plain": [
              "{'W1': array([[0.11555822, 0.1281258 ],\n",
              "        [0.11555822, 0.1281258 ]]),\n",
              " 'b1': array([[0.00261804],\n",
              "        [0.00261804]]),\n",
              " 'W2': array([[0.13575004],\n",
              "        [0.13575004]]),\n",
              " 'b2': array([[0.14897559]])}"
            ]
          },
          "metadata": {},
          "execution_count": 51
        }
      ]
    },
    {
      "cell_type": "code",
      "source": [
        "parameters = initialize_parameters([2,2,1])\n",
        "epochs = 5\n",
        "\n",
        "for i in range(epochs):\n",
        "\n",
        "  Loss = []\n",
        "\n",
        "  for j in range(df.shape[0]):\n",
        "\n",
        "    X = df[['cgpa', 'profile_score']].values[j].reshape(2,1) # Shape(no of features, no. of training example)\n",
        "    y = df[['lpa']].values[j][0]\n",
        "\n",
        "    # Parameter initialization\n",
        "\n",
        "\n",
        "    y_hat,A1 = L_layer_forward(X,parameters)\n",
        "    y_hat = y_hat[0][0]\n",
        "\n",
        "    update_parameters(parameters,y,y_hat,A1,X)\n",
        "\n",
        "    Loss.append((y-y_hat)**2)\n",
        "\n",
        "  print('Epoch - ',i+1,'Loss - ',np.array(Loss).mean())\n",
        "\n",
        "parameters"
      ],
      "metadata": {
        "colab": {
          "base_uri": "https://localhost:8080/"
        },
        "id": "23RMWLtJqSeO",
        "outputId": "53c8aba8-074e-4505-9aaf-e8f79b7e5865"
      },
      "execution_count": 57,
      "outputs": [
        {
          "output_type": "stream",
          "name": "stdout",
          "text": [
            "Epoch -  1 Loss -  26.907550899777384\n",
            "Epoch -  2 Loss -  22.3318726301909\n",
            "Epoch -  3 Loss -  14.694435066287255\n",
            "Epoch -  4 Loss -  6.638049183540845\n",
            "Epoch -  5 Loss -  2.2891135753499636\n"
          ]
        },
        {
          "output_type": "execute_result",
          "data": {
            "text/plain": [
              "{'W1': array([[0.33329713, 0.49495871],\n",
              "        [0.35907058, 0.54086843]]),\n",
              " 'b1': array([[0.03836736],\n",
              "        [0.04272922]]),\n",
              " 'W2': array([[0.52455618],\n",
              "        [0.64075209]]),\n",
              " 'b2': array([[0.64511188]])}"
            ]
          },
          "metadata": {},
          "execution_count": 57
        }
      ]
    },
    {
      "cell_type": "markdown",
      "source": [
        "Now using Keras\n"
      ],
      "metadata": {
        "id": "j-lWTiw80kG0"
      }
    },
    {
      "cell_type": "code",
      "source": [
        "import tensorflow\n",
        "from tensorflow import keras\n",
        "from keras import Sequential\n",
        "from keras.layers import Dense"
      ],
      "metadata": {
        "id": "90ETigMgqSbl"
      },
      "execution_count": 59,
      "outputs": []
    },
    {
      "cell_type": "code",
      "source": [
        "model = Sequential()\n",
        "model.add(Dense(2,activation='linear',input_dim=2))\n",
        "model.add(Dense(1,activation='linear'))"
      ],
      "metadata": {
        "id": "sDZTzVhMqSYw"
      },
      "execution_count": 62,
      "outputs": []
    },
    {
      "cell_type": "code",
      "source": [
        "model.get_weights()"
      ],
      "metadata": {
        "colab": {
          "base_uri": "https://localhost:8080/"
        },
        "id": "OK1UXfRS1YdW",
        "outputId": "122b9e72-2670-449f-fc2a-291be93c443f"
      },
      "execution_count": 63,
      "outputs": [
        {
          "output_type": "execute_result",
          "data": {
            "text/plain": [
              "[array([[-0.9085074 , -1.142374  ],\n",
              "        [ 0.28557003, -0.84104645]], dtype=float32),\n",
              " array([0., 0.], dtype=float32),\n",
              " array([[-0.01320207],\n",
              "        [-0.38490963]], dtype=float32),\n",
              " array([0.], dtype=float32)]"
            ]
          },
          "metadata": {},
          "execution_count": 63
        }
      ]
    },
    {
      "cell_type": "code",
      "source": [
        "new_weights = [np.array([[0.1, 0.1],\n",
        "                         [0.1, 0.1 ]], dtype=np.float32),\n",
        "np.array([0, 0.], dtype=np. float32),\n",
        "np.array([[0.1], [0.1]], dtype=np.float32),\n",
        "np.array([0.], dtype=np.float32)]"
      ],
      "metadata": {
        "id": "ySGGCPcX1YZ7"
      },
      "execution_count": 64,
      "outputs": []
    },
    {
      "cell_type": "code",
      "source": [
        "model.set_weights(new_weights)"
      ],
      "metadata": {
        "id": "W3_7CxP01YXQ"
      },
      "execution_count": 65,
      "outputs": []
    },
    {
      "cell_type": "code",
      "source": [
        "model.get_weights()"
      ],
      "metadata": {
        "colab": {
          "base_uri": "https://localhost:8080/"
        },
        "id": "xfmzlZU51YUl",
        "outputId": "79b10c63-03e4-4758-da3a-260eca44709a"
      },
      "execution_count": 66,
      "outputs": [
        {
          "output_type": "execute_result",
          "data": {
            "text/plain": [
              "[array([[0.1, 0.1],\n",
              "        [0.1, 0.1]], dtype=float32),\n",
              " array([0., 0.], dtype=float32),\n",
              " array([[0.1],\n",
              "        [0.1]], dtype=float32),\n",
              " array([0.], dtype=float32)]"
            ]
          },
          "metadata": {},
          "execution_count": 66
        }
      ]
    },
    {
      "cell_type": "code",
      "source": [
        "optimizer = keras.optimizers.Adam(learning_rate=0.001)\n",
        "model.compile(loss='mean_squared_error',optimizer=optimizer)"
      ],
      "metadata": {
        "id": "r5x7M87W1YR0"
      },
      "execution_count": 67,
      "outputs": []
    },
    {
      "cell_type": "code",
      "source": [
        "model.fit(df.iloc[:,0:-1].values,df['lpa'].values,epochs=75,verbose=1,batch_size=1)"
      ],
      "metadata": {
        "colab": {
          "base_uri": "https://localhost:8080/"
        },
        "id": "zCyHYOIn1YO7",
        "outputId": "452c7753-9535-4178-9504-5a08d0f5b16e"
      },
      "execution_count": 69,
      "outputs": [
        {
          "output_type": "stream",
          "name": "stdout",
          "text": [
            "Epoch 1/75\n",
            "4/4 [==============================] - 1s 7ms/step - loss: 27.8902\n",
            "Epoch 2/75\n",
            "4/4 [==============================] - 0s 4ms/step - loss: 27.5691\n",
            "Epoch 3/75\n",
            "4/4 [==============================] - 0s 5ms/step - loss: 27.2304\n",
            "Epoch 4/75\n",
            "4/4 [==============================] - 0s 6ms/step - loss: 26.9254\n",
            "Epoch 5/75\n",
            "4/4 [==============================] - 0s 5ms/step - loss: 26.5392\n",
            "Epoch 6/75\n",
            "4/4 [==============================] - 0s 4ms/step - loss: 26.2163\n",
            "Epoch 7/75\n",
            "4/4 [==============================] - 0s 3ms/step - loss: 25.8067\n",
            "Epoch 8/75\n",
            "4/4 [==============================] - 0s 4ms/step - loss: 25.4574\n",
            "Epoch 9/75\n",
            "4/4 [==============================] - 0s 3ms/step - loss: 25.0491\n",
            "Epoch 10/75\n",
            "4/4 [==============================] - 0s 3ms/step - loss: 24.6410\n",
            "Epoch 11/75\n",
            "4/4 [==============================] - 0s 4ms/step - loss: 24.2126\n",
            "Epoch 12/75\n",
            "4/4 [==============================] - 0s 4ms/step - loss: 23.8171\n",
            "Epoch 13/75\n",
            "4/4 [==============================] - 0s 4ms/step - loss: 23.3559\n",
            "Epoch 14/75\n",
            "4/4 [==============================] - 0s 3ms/step - loss: 22.9572\n",
            "Epoch 15/75\n",
            "4/4 [==============================] - 0s 4ms/step - loss: 22.4502\n",
            "Epoch 16/75\n",
            "4/4 [==============================] - 0s 4ms/step - loss: 21.9898\n",
            "Epoch 17/75\n",
            "4/4 [==============================] - 0s 4ms/step - loss: 21.5111\n",
            "Epoch 18/75\n",
            "4/4 [==============================] - 0s 3ms/step - loss: 21.0516\n",
            "Epoch 19/75\n",
            "4/4 [==============================] - 0s 3ms/step - loss: 20.5824\n",
            "Epoch 20/75\n",
            "4/4 [==============================] - 0s 3ms/step - loss: 20.0771\n",
            "Epoch 21/75\n",
            "4/4 [==============================] - 0s 3ms/step - loss: 19.5686\n",
            "Epoch 22/75\n",
            "4/4 [==============================] - 0s 4ms/step - loss: 19.0113\n",
            "Epoch 23/75\n",
            "4/4 [==============================] - 0s 4ms/step - loss: 18.5307\n",
            "Epoch 24/75\n",
            "4/4 [==============================] - 0s 3ms/step - loss: 18.0127\n",
            "Epoch 25/75\n",
            "4/4 [==============================] - 0s 4ms/step - loss: 17.4911\n",
            "Epoch 26/75\n",
            "4/4 [==============================] - 0s 4ms/step - loss: 16.9847\n",
            "Epoch 27/75\n",
            "4/4 [==============================] - 0s 4ms/step - loss: 16.4197\n",
            "Epoch 28/75\n",
            "4/4 [==============================] - 0s 4ms/step - loss: 15.9054\n",
            "Epoch 29/75\n",
            "4/4 [==============================] - 0s 4ms/step - loss: 15.4172\n",
            "Epoch 30/75\n",
            "4/4 [==============================] - 0s 4ms/step - loss: 14.8763\n",
            "Epoch 31/75\n",
            "4/4 [==============================] - 0s 5ms/step - loss: 14.3565\n",
            "Epoch 32/75\n",
            "4/4 [==============================] - 0s 4ms/step - loss: 13.7881\n",
            "Epoch 33/75\n",
            "4/4 [==============================] - 0s 4ms/step - loss: 13.2808\n",
            "Epoch 34/75\n",
            "4/4 [==============================] - 0s 4ms/step - loss: 12.8458\n",
            "Epoch 35/75\n",
            "4/4 [==============================] - 0s 4ms/step - loss: 12.2753\n",
            "Epoch 36/75\n",
            "4/4 [==============================] - 0s 4ms/step - loss: 11.7655\n",
            "Epoch 37/75\n",
            "4/4 [==============================] - 0s 4ms/step - loss: 11.2716\n",
            "Epoch 38/75\n",
            "4/4 [==============================] - 0s 4ms/step - loss: 10.8313\n",
            "Epoch 39/75\n",
            "4/4 [==============================] - 0s 3ms/step - loss: 10.3231\n",
            "Epoch 40/75\n",
            "4/4 [==============================] - 0s 3ms/step - loss: 9.8787\n",
            "Epoch 41/75\n",
            "4/4 [==============================] - 0s 3ms/step - loss: 9.4158\n",
            "Epoch 42/75\n",
            "4/4 [==============================] - 0s 3ms/step - loss: 8.9199\n",
            "Epoch 43/75\n",
            "4/4 [==============================] - 0s 3ms/step - loss: 8.4870\n",
            "Epoch 44/75\n",
            "4/4 [==============================] - 0s 4ms/step - loss: 8.1127\n",
            "Epoch 45/75\n",
            "4/4 [==============================] - 0s 4ms/step - loss: 7.6810\n",
            "Epoch 46/75\n",
            "4/4 [==============================] - 0s 3ms/step - loss: 7.3174\n",
            "Epoch 47/75\n",
            "4/4 [==============================] - 0s 3ms/step - loss: 6.8876\n",
            "Epoch 48/75\n",
            "4/4 [==============================] - 0s 3ms/step - loss: 6.5722\n",
            "Epoch 49/75\n",
            "4/4 [==============================] - 0s 4ms/step - loss: 6.2038\n",
            "Epoch 50/75\n",
            "4/4 [==============================] - 0s 5ms/step - loss: 5.8615\n",
            "Epoch 51/75\n",
            "4/4 [==============================] - 0s 4ms/step - loss: 5.5012\n",
            "Epoch 52/75\n",
            "4/4 [==============================] - 0s 4ms/step - loss: 5.1942\n",
            "Epoch 53/75\n",
            "4/4 [==============================] - 0s 4ms/step - loss: 4.8802\n",
            "Epoch 54/75\n",
            "4/4 [==============================] - 0s 4ms/step - loss: 4.5878\n",
            "Epoch 55/75\n",
            "4/4 [==============================] - 0s 5ms/step - loss: 4.3578\n",
            "Epoch 56/75\n",
            "4/4 [==============================] - 0s 5ms/step - loss: 4.0964\n",
            "Epoch 57/75\n",
            "4/4 [==============================] - 0s 5ms/step - loss: 3.8349\n",
            "Epoch 58/75\n",
            "4/4 [==============================] - 0s 4ms/step - loss: 3.6124\n",
            "Epoch 59/75\n",
            "4/4 [==============================] - 0s 5ms/step - loss: 3.3815\n",
            "Epoch 60/75\n",
            "4/4 [==============================] - 0s 6ms/step - loss: 3.2016\n",
            "Epoch 61/75\n",
            "4/4 [==============================] - 0s 5ms/step - loss: 3.0340\n",
            "Epoch 62/75\n",
            "4/4 [==============================] - 0s 5ms/step - loss: 2.8484\n",
            "Epoch 63/75\n",
            "4/4 [==============================] - 0s 5ms/step - loss: 2.6722\n",
            "Epoch 64/75\n",
            "4/4 [==============================] - 0s 5ms/step - loss: 2.5239\n",
            "Epoch 65/75\n",
            "4/4 [==============================] - 0s 5ms/step - loss: 2.3857\n",
            "Epoch 66/75\n",
            "4/4 [==============================] - 0s 5ms/step - loss: 2.2939\n",
            "Epoch 67/75\n",
            "4/4 [==============================] - 0s 4ms/step - loss: 2.1298\n",
            "Epoch 68/75\n",
            "4/4 [==============================] - 0s 5ms/step - loss: 2.0257\n",
            "Epoch 69/75\n",
            "4/4 [==============================] - 0s 4ms/step - loss: 1.9317\n",
            "Epoch 70/75\n",
            "4/4 [==============================] - 0s 5ms/step - loss: 1.8480\n",
            "Epoch 71/75\n",
            "4/4 [==============================] - 0s 6ms/step - loss: 1.7690\n",
            "Epoch 72/75\n",
            "4/4 [==============================] - 0s 5ms/step - loss: 1.6700\n",
            "Epoch 73/75\n",
            "4/4 [==============================] - 0s 6ms/step - loss: 1.6120\n",
            "Epoch 74/75\n",
            "4/4 [==============================] - 0s 6ms/step - loss: 1.5576\n",
            "Epoch 75/75\n",
            "4/4 [==============================] - 0s 5ms/step - loss: 1.5042\n"
          ]
        },
        {
          "output_type": "execute_result",
          "data": {
            "text/plain": [
              "<keras.src.callbacks.History at 0x7fdb1c8715a0>"
            ]
          },
          "metadata": {},
          "execution_count": 69
        }
      ]
    },
    {
      "cell_type": "code",
      "source": [
        "model.get_weights()"
      ],
      "metadata": {
        "colab": {
          "base_uri": "https://localhost:8080/"
        },
        "id": "ofcxU8kN1YMV",
        "outputId": "0ec72c27-b204-4d63-ddc9-831479baba65"
      },
      "execution_count": 71,
      "outputs": [
        {
          "output_type": "execute_result",
          "data": {
            "text/plain": [
              "[array([[0.37370887, 0.37370887],\n",
              "        [0.36586946, 0.36586946]], dtype=float32),\n",
              " array([0.2724992, 0.2724992], dtype=float32),\n",
              " array([[0.3731212],\n",
              "        [0.3731212]], dtype=float32),\n",
              " array([0.20495439], dtype=float32)]"
            ]
          },
          "metadata": {},
          "execution_count": 71
        }
      ]
    },
    {
      "cell_type": "code",
      "source": [],
      "metadata": {
        "id": "q-ciRGz_4J3P"
      },
      "execution_count": null,
      "outputs": []
    }
  ]
}