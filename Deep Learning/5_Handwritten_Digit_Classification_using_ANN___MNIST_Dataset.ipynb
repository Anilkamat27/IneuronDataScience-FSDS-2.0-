{
  "nbformat": 4,
  "nbformat_minor": 0,
  "metadata": {
    "colab": {
      "provenance": [],
      "gpuType": "T4"
    },
    "kernelspec": {
      "name": "python3",
      "display_name": "Python 3"
    },
    "language_info": {
      "name": "python"
    },
    "accelerator": "GPU"
  },
  "cells": [
    {
      "cell_type": "markdown",
      "source": [
        "Mutli class classification using ANN"
      ],
      "metadata": {
        "id": "sS7gYFGvGyia"
      }
    },
    {
      "cell_type": "markdown",
      "source": [
        "784 input nodes ,128 nodes in hidden layer, 10 output nodes (0--------9)\n"
      ],
      "metadata": {
        "id": "rAF38znmHN1D"
      }
    },
    {
      "cell_type": "code",
      "execution_count": 27,
      "metadata": {
        "id": "kRYlO05knMwJ"
      },
      "outputs": [],
      "source": [
        "import tensorflow\n",
        "from tensorflow import keras\n",
        "from tensorflow.keras import Sequential\n",
        "from tensorflow.keras.layers import Dense,Flatten\n"
      ]
    },
    {
      "cell_type": "code",
      "source": [
        "(X_train,y_train),(X_test,y_test) = keras.datasets.mnist.load_data()"
      ],
      "metadata": {
        "id": "sL5iWQvyHv_d"
      },
      "execution_count": 28,
      "outputs": []
    },
    {
      "cell_type": "code",
      "source": [
        "X_train.shape"
      ],
      "metadata": {
        "colab": {
          "base_uri": "https://localhost:8080/"
        },
        "id": "BS-9Y2YAH_ia",
        "outputId": "a75d5eef-d2ca-444a-f9e8-0ab80c492e26"
      },
      "execution_count": 29,
      "outputs": [
        {
          "output_type": "execute_result",
          "data": {
            "text/plain": [
              "(60000, 28, 28)"
            ]
          },
          "metadata": {},
          "execution_count": 29
        }
      ]
    },
    {
      "cell_type": "code",
      "source": [
        "import matplotlib.pyplot as plt\n",
        "plt.imshow(X_train[10])\n",
        "print(y_train[10])"
      ],
      "metadata": {
        "colab": {
          "base_uri": "https://localhost:8080/",
          "height": 447
        },
        "id": "5Mv1_NjqIDvD",
        "outputId": "b95616cb-0b38-4237-f6ab-acd4fe557892"
      },
      "execution_count": 30,
      "outputs": [
        {
          "output_type": "stream",
          "name": "stdout",
          "text": [
            "3\n"
          ]
        },
        {
          "output_type": "display_data",
          "data": {
            "text/plain": [
              "<Figure size 640x480 with 1 Axes>"
            ],
            "image/png": "[encoded data removed]"
          },
          "metadata": {}
        }
      ]
    },
    {
      "cell_type": "markdown",
      "source": [
        "humme apne array ko 0 to 1 ki rage me lana padega , kyuki , neaural network me values jitne same range ki hoti hai , hummare weights jaldi se nikal ke aate hai , convergence sahi se milti hai"
      ],
      "metadata": {
        "id": "xVRueV0lI5Ux"
      }
    },
    {
      "cell_type": "markdown",
      "source": [
        "therefore we divide every value by 255"
      ],
      "metadata": {
        "id": "kzWT1sZKJUEq"
      }
    },
    {
      "cell_type": "code",
      "source": [
        "X_train = X_train/255\n",
        "X_test = X_test/255"
      ],
      "metadata": {
        "id": "a8b0Lg43JSrL"
      },
      "execution_count": 31,
      "outputs": []
    },
    {
      "cell_type": "code",
      "source": [
        "model = Sequential()"
      ],
      "metadata": {
        "id": "HAdX36zeIoNr"
      },
      "execution_count": 32,
      "outputs": []
    },
    {
      "cell_type": "markdown",
      "source": [
        "humme 28*28 ke shape se 1784 ki shape me ana padega , flatten karna padega"
      ],
      "metadata": {
        "id": "32ZSJhsMJuNF"
      }
    },
    {
      "cell_type": "code",
      "source": [
        "model.add(Flatten(input_shape=(28,28)))"
      ],
      "metadata": {
        "id": "KqMhfLnnJn7p"
      },
      "execution_count": 33,
      "outputs": []
    },
    {
      "cell_type": "code",
      "source": [
        "model.add(Dense(128,activation='relu'))\n",
        "model.add(Dense(32,activation='relu'))\n",
        "model.add(Dense(10,activation='softmax'))"
      ],
      "metadata": {
        "id": "2PMK7DZIJ_vc"
      },
      "execution_count": 34,
      "outputs": []
    },
    {
      "cell_type": "code",
      "source": [
        "model.summary()"
      ],
      "metadata": {
        "colab": {
          "base_uri": "https://localhost:8080/"
        },
        "id": "gn3UF338KOcA",
        "outputId": "36088b61-b982-44af-8660-b35d81b2fb98"
      },
      "execution_count": 35,
      "outputs": [
        {
          "output_type": "stream",
          "name": "stdout",
          "text": [
            "Model: \"sequential_2\"\n",
            "_________________________________________________________________\n",
            " Layer (type)                Output Shape              Param #   \n",
            "=================================================================\n",
            " flatten_2 (Flatten)         (None, 784)               0         \n",
            "                                                                 \n",
            " dense_8 (Dense)             (None, 128)               100480    \n",
            "                                                                 \n",
            " dense_9 (Dense)             (None, 32)                4128      \n",
            "                                                                 \n",
            " dense_10 (Dense)            (None, 10)                330       \n",
            "                                                                 \n",
            "=================================================================\n",
            "Total params: 104938 (409.91 KB)\n",
            "Trainable params: 104938 (409.91 KB)\n",
            "Non-trainable params: 0 (0.00 Byte)\n",
            "_________________________________________________________________\n"
          ]
        }
      ]
    },
    {
      "cell_type": "markdown",
      "source": [
        "isme humme apne label ko one hot encode nahi karna pdata"
      ],
      "metadata": {
        "id": "6fvDh3h_KkcR"
      }
    },
    {
      "cell_type": "code",
      "source": [
        "model.compile(loss='sparse_categorical_crossentropy',optimizer = 'Adam',metrics=['accuracy'])"
      ],
      "metadata": {
        "id": "8YM0f16KKRU0"
      },
      "execution_count": 36,
      "outputs": []
    },
    {
      "cell_type": "code",
      "source": [
        "history = model.fit(X_train,y_train,epochs=50,validation_split=0.2)"
      ],
      "metadata": {
        "colab": {
          "base_uri": "https://localhost:8080/"
        },
        "id": "531BC0EKKwrj",
        "outputId": "1c524721-4222-4900-f2f5-64c711c89128"
      },
      "execution_count": 37,
      "outputs": [
        {
          "output_type": "stream",
          "name": "stdout",
          "text": [
            "Epoch 1/50\n",
            "1500/1500 [==============================] - 6s 3ms/step - loss: 0.2895 - accuracy: 0.9158 - val_loss: 0.1658 - val_accuracy: 0.9522\n",
            "Epoch 2/50\n",
            "1500/1500 [==============================] - 5s 4ms/step - loss: 0.1216 - accuracy: 0.9639 - val_loss: 0.1143 - val_accuracy: 0.9689\n",
            "Epoch 3/50\n",
            "1500/1500 [==============================] - 5s 3ms/step - loss: 0.0846 - accuracy: 0.9747 - val_loss: 0.1099 - val_accuracy: 0.9679\n",
            "Epoch 4/50\n",
            "1500/1500 [==============================] - 5s 3ms/step - loss: 0.0644 - accuracy: 0.9799 - val_loss: 0.1028 - val_accuracy: 0.9721\n",
            "Epoch 5/50\n",
            "1500/1500 [==============================] - 5s 4ms/step - loss: 0.0495 - accuracy: 0.9841 - val_loss: 0.0948 - val_accuracy: 0.9744\n",
            "Epoch 6/50\n",
            "1500/1500 [==============================] - 5s 3ms/step - loss: 0.0402 - accuracy: 0.9877 - val_loss: 0.0940 - val_accuracy: 0.9747\n",
            "Epoch 7/50\n",
            "1500/1500 [==============================] - 8s 5ms/step - loss: 0.0336 - accuracy: 0.9888 - val_loss: 0.1036 - val_accuracy: 0.9737\n",
            "Epoch 8/50\n",
            "1500/1500 [==============================] - 9s 6ms/step - loss: 0.0263 - accuracy: 0.9917 - val_loss: 0.1054 - val_accuracy: 0.9748\n",
            "Epoch 9/50\n",
            "1500/1500 [==============================] - 8s 5ms/step - loss: 0.0227 - accuracy: 0.9928 - val_loss: 0.1022 - val_accuracy: 0.9726\n",
            "Epoch 10/50\n",
            "1500/1500 [==============================] - 6s 4ms/step - loss: 0.0198 - accuracy: 0.9934 - val_loss: 0.1122 - val_accuracy: 0.9738\n",
            "Epoch 11/50\n",
            "1500/1500 [==============================] - 8s 5ms/step - loss: 0.0163 - accuracy: 0.9947 - val_loss: 0.1145 - val_accuracy: 0.9742\n",
            "Epoch 12/50\n",
            "1500/1500 [==============================] - 8s 5ms/step - loss: 0.0178 - accuracy: 0.9941 - val_loss: 0.1217 - val_accuracy: 0.9732\n",
            "Epoch 13/50\n",
            "1500/1500 [==============================] - 8s 5ms/step - loss: 0.0136 - accuracy: 0.9955 - val_loss: 0.1198 - val_accuracy: 0.9748\n",
            "Epoch 14/50\n",
            "1500/1500 [==============================] - 9s 6ms/step - loss: 0.0135 - accuracy: 0.9955 - val_loss: 0.1141 - val_accuracy: 0.9781\n",
            "Epoch 15/50\n",
            "1500/1500 [==============================] - 5s 3ms/step - loss: 0.0119 - accuracy: 0.9961 - val_loss: 0.1477 - val_accuracy: 0.9711\n",
            "Epoch 16/50\n",
            "1500/1500 [==============================] - 5s 3ms/step - loss: 0.0104 - accuracy: 0.9965 - val_loss: 0.1464 - val_accuracy: 0.9704\n",
            "Epoch 17/50\n",
            "1500/1500 [==============================] - 5s 3ms/step - loss: 0.0112 - accuracy: 0.9961 - val_loss: 0.1327 - val_accuracy: 0.9768\n",
            "Epoch 18/50\n",
            "1500/1500 [==============================] - 5s 4ms/step - loss: 0.0095 - accuracy: 0.9966 - val_loss: 0.1374 - val_accuracy: 0.9765\n",
            "Epoch 19/50\n",
            "1500/1500 [==============================] - 5s 3ms/step - loss: 0.0126 - accuracy: 0.9959 - val_loss: 0.1444 - val_accuracy: 0.9744\n",
            "Epoch 20/50\n",
            "1500/1500 [==============================] - 6s 4ms/step - loss: 0.0080 - accuracy: 0.9975 - val_loss: 0.1546 - val_accuracy: 0.9743\n",
            "Epoch 21/50\n",
            "1500/1500 [==============================] - 5s 3ms/step - loss: 0.0088 - accuracy: 0.9969 - val_loss: 0.1432 - val_accuracy: 0.9763\n",
            "Epoch 22/50\n",
            "1500/1500 [==============================] - 5s 3ms/step - loss: 0.0097 - accuracy: 0.9969 - val_loss: 0.1462 - val_accuracy: 0.9758\n",
            "Epoch 23/50\n",
            "1500/1500 [==============================] - 5s 4ms/step - loss: 0.0062 - accuracy: 0.9981 - val_loss: 0.1646 - val_accuracy: 0.9733\n",
            "Epoch 24/50\n",
            "1500/1500 [==============================] - 5s 3ms/step - loss: 0.0117 - accuracy: 0.9961 - val_loss: 0.1527 - val_accuracy: 0.9762\n",
            "Epoch 25/50\n",
            "1500/1500 [==============================] - 5s 4ms/step - loss: 0.0069 - accuracy: 0.9979 - val_loss: 0.1440 - val_accuracy: 0.9772\n",
            "Epoch 26/50\n",
            "1500/1500 [==============================] - 8s 5ms/step - loss: 0.0082 - accuracy: 0.9974 - val_loss: 0.1479 - val_accuracy: 0.9789\n",
            "Epoch 27/50\n",
            "1500/1500 [==============================] - 8s 6ms/step - loss: 0.0082 - accuracy: 0.9973 - val_loss: 0.1578 - val_accuracy: 0.9768\n",
            "Epoch 28/50\n",
            "1500/1500 [==============================] - 5s 3ms/step - loss: 0.0070 - accuracy: 0.9978 - val_loss: 0.1726 - val_accuracy: 0.9748\n",
            "Epoch 29/50\n",
            "1500/1500 [==============================] - 5s 4ms/step - loss: 0.0082 - accuracy: 0.9972 - val_loss: 0.1761 - val_accuracy: 0.9748\n",
            "Epoch 30/50\n",
            "1500/1500 [==============================] - 5s 3ms/step - loss: 0.0075 - accuracy: 0.9976 - val_loss: 0.1686 - val_accuracy: 0.9756\n",
            "Epoch 31/50\n",
            "1500/1500 [==============================] - 6s 4ms/step - loss: 0.0069 - accuracy: 0.9978 - val_loss: 0.1551 - val_accuracy: 0.9785\n",
            "Epoch 32/50\n",
            "1500/1500 [==============================] - 7s 5ms/step - loss: 0.0078 - accuracy: 0.9976 - val_loss: 0.1654 - val_accuracy: 0.9777\n",
            "Epoch 33/50\n",
            "1500/1500 [==============================] - 8s 5ms/step - loss: 0.0077 - accuracy: 0.9976 - val_loss: 0.1826 - val_accuracy: 0.9750\n",
            "Epoch 34/50\n",
            "1500/1500 [==============================] - 9s 6ms/step - loss: 0.0047 - accuracy: 0.9986 - val_loss: 0.1720 - val_accuracy: 0.9758\n",
            "Epoch 35/50\n",
            "1500/1500 [==============================] - 9s 6ms/step - loss: 0.0053 - accuracy: 0.9982 - val_loss: 0.1922 - val_accuracy: 0.9755\n",
            "Epoch 36/50\n",
            "1500/1500 [==============================] - 9s 6ms/step - loss: 0.0073 - accuracy: 0.9979 - val_loss: 0.1779 - val_accuracy: 0.9780\n",
            "Epoch 37/50\n",
            "1500/1500 [==============================] - 9s 6ms/step - loss: 0.0067 - accuracy: 0.9980 - val_loss: 0.1851 - val_accuracy: 0.9752\n",
            "Epoch 38/50\n",
            "1500/1500 [==============================] - 6s 4ms/step - loss: 0.0061 - accuracy: 0.9980 - val_loss: 0.1805 - val_accuracy: 0.9767\n",
            "Epoch 39/50\n",
            "1500/1500 [==============================] - 6s 4ms/step - loss: 0.0062 - accuracy: 0.9981 - val_loss: 0.2167 - val_accuracy: 0.9747\n",
            "Epoch 40/50\n",
            "1500/1500 [==============================] - 5s 3ms/step - loss: 0.0078 - accuracy: 0.9976 - val_loss: 0.2223 - val_accuracy: 0.9751\n",
            "Epoch 41/50\n",
            "1500/1500 [==============================] - 7s 5ms/step - loss: 0.0048 - accuracy: 0.9985 - val_loss: 0.1951 - val_accuracy: 0.9772\n",
            "Epoch 42/50\n",
            "1500/1500 [==============================] - 7s 5ms/step - loss: 0.0074 - accuracy: 0.9980 - val_loss: 0.1886 - val_accuracy: 0.9768\n",
            "Epoch 43/50\n",
            "1500/1500 [==============================] - 5s 4ms/step - loss: 0.0047 - accuracy: 0.9986 - val_loss: 0.2336 - val_accuracy: 0.9737\n",
            "Epoch 44/50\n",
            "1500/1500 [==============================] - 5s 3ms/step - loss: 0.0051 - accuracy: 0.9983 - val_loss: 0.1992 - val_accuracy: 0.9770\n",
            "Epoch 45/50\n",
            "1500/1500 [==============================] - 5s 3ms/step - loss: 0.0045 - accuracy: 0.9987 - val_loss: 0.1904 - val_accuracy: 0.9770\n",
            "Epoch 46/50\n",
            "1500/1500 [==============================] - 5s 4ms/step - loss: 0.0061 - accuracy: 0.9981 - val_loss: 0.2209 - val_accuracy: 0.9757\n",
            "Epoch 47/50\n",
            "1500/1500 [==============================] - 5s 3ms/step - loss: 0.0049 - accuracy: 0.9986 - val_loss: 0.2553 - val_accuracy: 0.9728\n",
            "Epoch 48/50\n",
            "1500/1500 [==============================] - 6s 4ms/step - loss: 0.0071 - accuracy: 0.9981 - val_loss: 0.1990 - val_accuracy: 0.9766\n",
            "Epoch 49/50\n",
            "1500/1500 [==============================] - 5s 3ms/step - loss: 0.0032 - accuracy: 0.9989 - val_loss: 0.2038 - val_accuracy: 0.9771\n",
            "Epoch 50/50\n",
            "1500/1500 [==============================] - 6s 4ms/step - loss: 0.0079 - accuracy: 0.9979 - val_loss: 0.2155 - val_accuracy: 0.9769\n"
          ]
        }
      ]
    },
    {
      "cell_type": "code",
      "source": [
        "y_prob=model.predict(X_test)"
      ],
      "metadata": {
        "colab": {
          "base_uri": "https://localhost:8080/"
        },
        "id": "NjfMyA8FLFtz",
        "outputId": "823f2e15-e59c-49d6-daf8-5e84ab1237ed"
      },
      "execution_count": 38,
      "outputs": [
        {
          "output_type": "stream",
          "name": "stdout",
          "text": [
            "313/313 [==============================] - 1s 2ms/step\n"
          ]
        }
      ]
    },
    {
      "cell_type": "code",
      "source": [
        "y_pred = y_prob.argmax(axis=1)"
      ],
      "metadata": {
        "id": "LFWmhm9-LP7v"
      },
      "execution_count": 39,
      "outputs": []
    },
    {
      "cell_type": "code",
      "source": [
        "from sklearn.metrics import accuracy_score\n",
        "accuracy_score(y_test,y_pred)"
      ],
      "metadata": {
        "colab": {
          "base_uri": "https://localhost:8080/"
        },
        "id": "EyoiPghnLlnu",
        "outputId": "2ae1ae15-09ce-47e6-a565-1baa99f59c10"
      },
      "execution_count": 40,
      "outputs": [
        {
          "output_type": "execute_result",
          "data": {
            "text/plain": [
              "0.9768"
            ]
          },
          "metadata": {},
          "execution_count": 40
        }
      ]
    },
    {
      "cell_type": "code",
      "source": [
        "plt.plot(history.history['loss'])\n",
        "plt.plot(history.history['val_loss'])"
      ],
      "metadata": {
        "id": "OGl2lF9BMw3s"
      },
      "execution_count": 40,
      "outputs": []
    },
    {
      "cell_type": "code",
      "source": [
        "plt.plot(history.history['accuracy'])\n",
        "plt.plot(history.history['val_accuracy'])"
      ],
      "metadata": {
        "colab": {
          "base_uri": "https://localhost:8080/",
          "height": 447
        },
        "id": "IToEGqIcNxGh",
        "outputId": "5b41e3a9-6c3d-4eb2-b3c5-642c2d1cda24"
      },
      "execution_count": 41,
      "outputs": [
        {
          "output_type": "execute_result",
          "data": {
            "text/plain": [
              "[<matplotlib.lines.Line2D at 0x7b02cb9ef910>]"
            ]
          },
          "metadata": {},
          "execution_count": 41
        },
        {
          "output_type": "display_data",
          "data": {
            "text/plain": [
              "<Figure size 640x480 with 1 Axes>"
            ],
            "image/png": "[encoded data removed]"
          },
          "metadata": {}
        }
      ]
    },
    {
      "cell_type": "code",
      "source": [
        "plt.imshow(X_test[0])"
      ],
      "metadata": {
        "colab": {
          "base_uri": "https://localhost:8080/",
          "height": 447
        },
        "id": "sqpAmsGlODRR",
        "outputId": "1fbaebc2-d2cd-4a8c-c48c-4fff9f8be013"
      },
      "execution_count": 42,
      "outputs": [
        {
          "output_type": "execute_result",
          "data": {
            "text/plain": [
              "<matplotlib.image.AxesImage at 0x7b02edf28a90>"
            ]
          },
          "metadata": {},
          "execution_count": 42
        },
        {
          "output_type": "display_data",
          "data": {
            "text/plain": [
              "<Figure size 640x480 with 1 Axes>"
            ],
            "image/png": "[encoded data removed]"
          },
          "metadata": {}
        }
      ]
    },
    {
      "cell_type": "code",
      "source": [
        "model.predict(X_test[0].reshape(1,28,28)).argmax(axis=1)"
      ],
      "metadata": {
        "colab": {
          "base_uri": "https://localhost:8080/"
        },
        "id": "xenPWJ4xOPyn",
        "outputId": "7d847e0a-af99-4869-f82c-f4059ef780e8"
      },
      "execution_count": 43,
      "outputs": [
        {
          "output_type": "stream",
          "name": "stdout",
          "text": [
            "1/1 [==============================] - 0s 23ms/step\n"
          ]
        },
        {
          "output_type": "execute_result",
          "data": {
            "text/plain": [
              "array([7])"
            ]
          },
          "metadata": {},
          "execution_count": 43
        }
      ]
    }
  ]
}