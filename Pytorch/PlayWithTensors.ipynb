{
  "nbformat": 4,
  "nbformat_minor": 0,
  "metadata": {
    "colab": {
      "provenance": [],
      "gpuType": "T4"
    },
    "kernelspec": {
      "name": "python3",
      "display_name": "Python 3"
    },
    "language_info": {
      "name": "python"
    },
    "accelerator": "GPU"
  },
  "cells": [
    {
      "cell_type": "code",
      "execution_count": 1,
      "metadata": {
        "colab": {
          "base_uri": "https://localhost:8080/"
        },
        "id": "MiydLBGiZL5D",
        "outputId": "4c4d7f90-f4e5-478c-f9ff-d1576ba0f024"
      },
      "outputs": [
        {
          "output_type": "stream",
          "name": "stdout",
          "text": [
            "2.6.0+cu124\n"
          ]
        }
      ],
      "source": [
        "import torch\n",
        "print(torch.__version__)"
      ]
    },
    {
      "cell_type": "code",
      "source": [
        "if torch.cuda.is_available():\n",
        "  print(\"GPU available\")\n",
        "  print(f\"USING GPU:{torch.cuda.get_device_name(0)}\")\n",
        "else:\n",
        "  print(\"GPU not avialable. Using CPU\")"
      ],
      "metadata": {
        "colab": {
          "base_uri": "https://localhost:8080/"
        },
        "id": "eusHndXAZZz8",
        "outputId": "c13d9f11-2b84-4027-dd04-49a7bc77af76"
      },
      "execution_count": 2,
      "outputs": [
        {
          "output_type": "stream",
          "name": "stdout",
          "text": [
            "GPU available\n",
            "USING GPU:Tesla T4\n"
          ]
        }
      ]
    },
    {
      "cell_type": "markdown",
      "source": [
        "Creating a Tensor"
      ],
      "metadata": {
        "id": "aZJmNzT9Z4Gr"
      }
    },
    {
      "cell_type": "code",
      "source": [
        "torch.empty(2,3)"
      ],
      "metadata": {
        "colab": {
          "base_uri": "https://localhost:8080/"
        },
        "id": "SGrdxi3BZ1af",
        "outputId": "d60fa311-54d5-4e4b-bec2-27e1bb6819d5"
      },
      "execution_count": 3,
      "outputs": [
        {
          "output_type": "execute_result",
          "data": {
            "text/plain": [
              "tensor([[0., 0., 0.],\n",
              "        [0., 0., 0.]])"
            ]
          },
          "metadata": {},
          "execution_count": 3
        }
      ]
    },
    {
      "cell_type": "code",
      "source": [
        "#using zeros\n",
        "torch.zeros(2,3)"
      ],
      "metadata": {
        "colab": {
          "base_uri": "https://localhost:8080/"
        },
        "id": "mcd9suvwaViy",
        "outputId": "1cdc79e0-d402-4e6a-ca7a-6930db047834"
      },
      "execution_count": 4,
      "outputs": [
        {
          "output_type": "execute_result",
          "data": {
            "text/plain": [
              "tensor([[0., 0., 0.],\n",
              "        [0., 0., 0.]])"
            ]
          },
          "metadata": {},
          "execution_count": 4
        }
      ]
    },
    {
      "cell_type": "code",
      "source": [
        "#using rand\n",
        "torch.rand(2,3)"
      ],
      "metadata": {
        "colab": {
          "base_uri": "https://localhost:8080/"
        },
        "id": "HdfXE8ZeabrV",
        "outputId": "4e90e56f-70e6-4025-dd8a-16022c6de6e0"
      },
      "execution_count": 5,
      "outputs": [
        {
          "output_type": "execute_result",
          "data": {
            "text/plain": [
              "tensor([[0.3708, 0.9649, 0.5696],\n",
              "        [0.7283, 0.7242, 0.0967]])"
            ]
          },
          "metadata": {},
          "execution_count": 5
        }
      ]
    },
    {
      "cell_type": "code",
      "source": [
        "#manual seed ( to make reproducibilty efficient)\n",
        "torch.manual_seed(100)\n",
        "torch.rand(2,3)"
      ],
      "metadata": {
        "colab": {
          "base_uri": "https://localhost:8080/"
        },
        "id": "qdqCMh4MakcZ",
        "outputId": "3a355e70-0f68-473b-e522-e3dd77e0287d"
      },
      "execution_count": 6,
      "outputs": [
        {
          "output_type": "execute_result",
          "data": {
            "text/plain": [
              "tensor([[0.1117, 0.8158, 0.2626],\n",
              "        [0.4839, 0.6765, 0.7539]])"
            ]
          },
          "metadata": {},
          "execution_count": 6
        }
      ]
    },
    {
      "cell_type": "code",
      "source": [
        "# cutom tesnor\n",
        "torch.tensor([[1,2,3,4],[5,6,7,8]])"
      ],
      "metadata": {
        "colab": {
          "base_uri": "https://localhost:8080/"
        },
        "id": "eob6-xjFaxHd",
        "outputId": "d7b9f622-917a-4fef-9a65-96a8bb0cb3e8"
      },
      "execution_count": 7,
      "outputs": [
        {
          "output_type": "execute_result",
          "data": {
            "text/plain": [
              "tensor([[1, 2, 3, 4],\n",
              "        [5, 6, 7, 8]])"
            ]
          },
          "metadata": {},
          "execution_count": 7
        }
      ]
    },
    {
      "cell_type": "code",
      "source": [
        "print(\"using arange\", torch.arange(0,10,1))"
      ],
      "metadata": {
        "colab": {
          "base_uri": "https://localhost:8080/"
        },
        "id": "CeyvzW-ybIUX",
        "outputId": "f9a9f7b2-037d-4246-9440-a1a4f914fea1"
      },
      "execution_count": 8,
      "outputs": [
        {
          "output_type": "stream",
          "name": "stdout",
          "text": [
            "using arange tensor([0, 1, 2, 3, 4, 5, 6, 7, 8, 9])\n"
          ]
        }
      ]
    },
    {
      "cell_type": "code",
      "source": [
        "print(\"using linspace\",torch.linspace(0,10,10))"
      ],
      "metadata": {
        "colab": {
          "base_uri": "https://localhost:8080/"
        },
        "id": "v7yhQLRDbgCU",
        "outputId": "a3aa119b-2211-419e-e977-ccda1c384f09"
      },
      "execution_count": 9,
      "outputs": [
        {
          "output_type": "stream",
          "name": "stdout",
          "text": [
            "using linspace tensor([ 0.0000,  1.1111,  2.2222,  3.3333,  4.4444,  5.5556,  6.6667,  7.7778,\n",
            "         8.8889, 10.0000])\n"
          ]
        }
      ]
    },
    {
      "cell_type": "code",
      "source": [
        "print(\"using eye\",torch.eye(5))"
      ],
      "metadata": {
        "colab": {
          "base_uri": "https://localhost:8080/"
        },
        "id": "n2OfBFt7brtJ",
        "outputId": "b3cd562b-2b25-43a7-8721-1b8f053ed5b1"
      },
      "execution_count": 10,
      "outputs": [
        {
          "output_type": "stream",
          "name": "stdout",
          "text": [
            "using eye tensor([[1., 0., 0., 0., 0.],\n",
            "        [0., 1., 0., 0., 0.],\n",
            "        [0., 0., 1., 0., 0.],\n",
            "        [0., 0., 0., 1., 0.],\n",
            "        [0., 0., 0., 0., 1.]])\n"
          ]
        }
      ]
    },
    {
      "cell_type": "code",
      "source": [
        "print(\"torch.full\",torch.full((4,4),4))"
      ],
      "metadata": {
        "colab": {
          "base_uri": "https://localhost:8080/"
        },
        "id": "ej_Be4mCb58R",
        "outputId": "2be261f9-31be-4b1d-c1fd-b292e53822ee"
      },
      "execution_count": 11,
      "outputs": [
        {
          "output_type": "stream",
          "name": "stdout",
          "text": [
            "torch.full tensor([[4, 4, 4, 4],\n",
            "        [4, 4, 4, 4],\n",
            "        [4, 4, 4, 4],\n",
            "        [4, 4, 4, 4]])\n"
          ]
        }
      ]
    },
    {
      "cell_type": "markdown",
      "source": [
        "Tensor Shapes"
      ],
      "metadata": {
        "id": "2aab3ZaZcQw5"
      }
    },
    {
      "cell_type": "code",
      "source": [
        "x = torch.tensor([[1,2,3],[4,5,6]])"
      ],
      "metadata": {
        "id": "0pOmthMAcEst"
      },
      "execution_count": 12,
      "outputs": []
    },
    {
      "cell_type": "code",
      "source": [
        "x.shape"
      ],
      "metadata": {
        "colab": {
          "base_uri": "https://localhost:8080/"
        },
        "id": "1c93YOhscZi3",
        "outputId": "dc3925f2-c1c9-4a88-82cd-9454f5a3ca7b"
      },
      "execution_count": 13,
      "outputs": [
        {
          "output_type": "execute_result",
          "data": {
            "text/plain": [
              "torch.Size([2, 3])"
            ]
          },
          "metadata": {},
          "execution_count": 13
        }
      ]
    },
    {
      "cell_type": "code",
      "source": [
        "torch.empty_like(x)"
      ],
      "metadata": {
        "colab": {
          "base_uri": "https://localhost:8080/"
        },
        "id": "NoKuE5HhcatI",
        "outputId": "260cf6fb-f955-4239-a4f7-5753edb103e2"
      },
      "execution_count": 14,
      "outputs": [
        {
          "output_type": "execute_result",
          "data": {
            "text/plain": [
              "tensor([[135293888089488,       145999680,       146000544],\n",
              "        [      145994784,               0,       146001440]])"
            ]
          },
          "metadata": {},
          "execution_count": 14
        }
      ]
    },
    {
      "cell_type": "code",
      "source": [
        "torch.zeros_like(x)"
      ],
      "metadata": {
        "colab": {
          "base_uri": "https://localhost:8080/"
        },
        "id": "LXWZNMQQciOh",
        "outputId": "12763016-c393-4b47-83a5-9657f62bacee"
      },
      "execution_count": 15,
      "outputs": [
        {
          "output_type": "execute_result",
          "data": {
            "text/plain": [
              "tensor([[0, 0, 0],\n",
              "        [0, 0, 0]])"
            ]
          },
          "metadata": {},
          "execution_count": 15
        }
      ]
    },
    {
      "cell_type": "code",
      "source": [
        "torch.ones_like(x)"
      ],
      "metadata": {
        "colab": {
          "base_uri": "https://localhost:8080/"
        },
        "id": "B-G1ui7Wcl8Y",
        "outputId": "3446421f-2146-400c-9123-5bdbddbf161a"
      },
      "execution_count": 16,
      "outputs": [
        {
          "output_type": "execute_result",
          "data": {
            "text/plain": [
              "tensor([[1, 1, 1],\n",
              "        [1, 1, 1]])"
            ]
          },
          "metadata": {},
          "execution_count": 16
        }
      ]
    },
    {
      "cell_type": "code",
      "source": [
        "torch.rand_like(x)"
      ],
      "metadata": {
        "colab": {
          "base_uri": "https://localhost:8080/",
          "height": 141
        },
        "id": "2Zpz6El9cquO",
        "outputId": "aedb95e8-efdf-431c-e0d7-327bc911c133"
      },
      "execution_count": 17,
      "outputs": [
        {
          "output_type": "error",
          "ename": "RuntimeError",
          "evalue": "\"check_uniform_bounds\" not implemented for 'Long'",
          "traceback": [
            "\u001b[0;31m---------------------------------------------------------------------------\u001b[0m",
            "\u001b[0;31mRuntimeError\u001b[0m                              Traceback (most recent call last)",
            "\u001b[0;32m<ipython-input-17-8a266f1565c3>\u001b[0m in \u001b[0;36m<cell line: 0>\u001b[0;34m()\u001b[0m\n\u001b[0;32m----> 1\u001b[0;31m \u001b[0mtorch\u001b[0m\u001b[0;34m.\u001b[0m\u001b[0mrand_like\u001b[0m\u001b[0;34m(\u001b[0m\u001b[0mx\u001b[0m\u001b[0;34m)\u001b[0m\u001b[0;34m\u001b[0m\u001b[0;34m\u001b[0m\u001b[0m\n\u001b[0m",
            "\u001b[0;31mRuntimeError\u001b[0m: \"check_uniform_bounds\" not implemented for 'Long'"
          ]
        }
      ]
    },
    {
      "cell_type": "markdown",
      "source": [
        "in above code we are getting eorror why because , rand generate float values , & in x is tesnor conatining intergers , so we need to explicitly tell them that we need to generate float"
      ],
      "metadata": {
        "id": "3Vbg6qwFc4sx"
      }
    },
    {
      "cell_type": "markdown",
      "source": [
        "**Tensor Data types**"
      ],
      "metadata": {
        "id": "TIc5m3dsdMwr"
      }
    },
    {
      "cell_type": "code",
      "source": [
        "x.dtype"
      ],
      "metadata": {
        "colab": {
          "base_uri": "https://localhost:8080/"
        },
        "id": "uMqCTNjQctey",
        "outputId": "05955405-16ac-4a41-8959-6967927e0498"
      },
      "execution_count": 18,
      "outputs": [
        {
          "output_type": "execute_result",
          "data": {
            "text/plain": [
              "torch.int64"
            ]
          },
          "metadata": {},
          "execution_count": 18
        }
      ]
    },
    {
      "cell_type": "code",
      "source": [
        "#assign datatype when we are creating tesnor\n",
        "print(\"assigning datatype\", torch.tensor([[1.9999,2,7,3]],dtype=torch.int32))\n",
        "print(\"assigning datatype\", torch.tensor([[1.9999,2,7,3]],dtype=torch.float64))\n"
      ],
      "metadata": {
        "colab": {
          "base_uri": "https://localhost:8080/"
        },
        "id": "0VRTDFttdQ6l",
        "outputId": "db33c8c5-cd8b-4d26-c08b-b169ef638b13"
      },
      "execution_count": 19,
      "outputs": [
        {
          "output_type": "stream",
          "name": "stdout",
          "text": [
            "assigning datatype tensor([[1, 2, 7, 3]], dtype=torch.int32)\n",
            "assigning datatype tensor([[1.9999, 2.0000, 7.0000, 3.0000]], dtype=torch.float64)\n"
          ]
        }
      ]
    },
    {
      "cell_type": "code",
      "source": [
        "#Using to()\n",
        "x.to(torch.float8_e5m2fnuz)"
      ],
      "metadata": {
        "colab": {
          "base_uri": "https://localhost:8080/"
        },
        "id": "92fMWzksdXn8",
        "outputId": "c97bba33-f21a-4059-e8c8-ec616ef34598"
      },
      "execution_count": 20,
      "outputs": [
        {
          "output_type": "execute_result",
          "data": {
            "text/plain": [
              "tensor([[1., 2., 3.],\n",
              "        [4., 5., 6.]], dtype=torch.float8_e5m2fnuz)"
            ]
          },
          "metadata": {},
          "execution_count": 20
        }
      ]
    },
    {
      "cell_type": "code",
      "source": [
        "torch.rand_like(x,dtype=torch.float16)"
      ],
      "metadata": {
        "colab": {
          "base_uri": "https://localhost:8080/"
        },
        "id": "u8kgRsCHeOLG",
        "outputId": "8a5c9c50-fb4e-44e4-d96d-d922e5a190ee"
      },
      "execution_count": 21,
      "outputs": [
        {
          "output_type": "execute_result",
          "data": {
            "text/plain": [
              "tensor([[0.9609, 0.9424, 0.1709],\n",
              "        [0.9629, 0.9229, 0.0259]], dtype=torch.float16)"
            ]
          },
          "metadata": {},
          "execution_count": 21
        }
      ]
    },
    {
      "cell_type": "markdown",
      "source": [
        "Mathematical operations"
      ],
      "metadata": {
        "id": "Sev4_28je6_U"
      }
    },
    {
      "cell_type": "code",
      "source": [
        "x = torch.rand(2,2)\n",
        "print(x)"
      ],
      "metadata": {
        "colab": {
          "base_uri": "https://localhost:8080/"
        },
        "id": "p2WNXj7Zeo_1",
        "outputId": "5a763667-1b35-4938-e06d-e053757cef32"
      },
      "execution_count": 22,
      "outputs": [
        {
          "output_type": "stream",
          "name": "stdout",
          "text": [
            "tensor([[0.7118, 0.7876],\n",
            "        [0.4183, 0.9014]])\n"
          ]
        }
      ]
    },
    {
      "cell_type": "code",
      "source": [
        "print(\"Addition\", x+2)\n",
        "print(\"Subtraction\", x-2)\n",
        "print(\"Multiplication\", x*2)\n",
        "print(\"Addition\", x/2)"
      ],
      "metadata": {
        "colab": {
          "base_uri": "https://localhost:8080/"
        },
        "id": "_ba8w4lDgu2k",
        "outputId": "3b1eee3e-b5b9-4bca-8c3f-001404e9e210"
      },
      "execution_count": 23,
      "outputs": [
        {
          "output_type": "stream",
          "name": "stdout",
          "text": [
            "Addition tensor([[2.7118, 2.7876],\n",
            "        [2.4183, 2.9014]])\n",
            "Subtraction tensor([[-1.2882, -1.2124],\n",
            "        [-1.5817, -1.0986]])\n",
            "Multiplication tensor([[1.4235, 1.5752],\n",
            "        [0.8366, 1.8028]])\n",
            "Addition tensor([[0.3559, 0.3938],\n",
            "        [0.2092, 0.4507]])\n"
          ]
        }
      ]
    },
    {
      "cell_type": "code",
      "source": [
        "print(\"mod\", ((x+100)//3)%4)"
      ],
      "metadata": {
        "colab": {
          "base_uri": "https://localhost:8080/"
        },
        "id": "iyHA8slzg1Zz",
        "outputId": "cd40cecc-8c92-478e-a353-13e9319f01a0"
      },
      "execution_count": 24,
      "outputs": [
        {
          "output_type": "stream",
          "name": "stdout",
          "text": [
            "mod tensor([[1., 1.],\n",
            "        [1., 1.]])\n"
          ]
        }
      ]
    },
    {
      "cell_type": "code",
      "source": [
        "a = torch.rand(3,4)\n",
        "print(\"a\",a)\n",
        "b = torch.rand(3,4)\n",
        "print(\"b\",b)"
      ],
      "metadata": {
        "colab": {
          "base_uri": "https://localhost:8080/"
        },
        "id": "gzGfvpWJhYl-",
        "outputId": "aa7a08eb-1d39-4ebf-b6ce-3e9cc53d830f"
      },
      "execution_count": 25,
      "outputs": [
        {
          "output_type": "stream",
          "name": "stdout",
          "text": [
            "a tensor([[0.9969, 0.7565, 0.2239, 0.3023],\n",
            "        [0.1784, 0.8238, 0.5557, 0.9770],\n",
            "        [0.4440, 0.9478, 0.7445, 0.4892]])\n",
            "b tensor([[0.2426, 0.7003, 0.5277, 0.2472],\n",
            "        [0.7909, 0.4235, 0.0169, 0.2209],\n",
            "        [0.9535, 0.7064, 0.1629, 0.8902]])\n"
          ]
        }
      ]
    },
    {
      "cell_type": "code",
      "source": [
        "print(\"Addition\", a+b)\n",
        "print(\"Subtraction\", a-b)\n",
        "print(\"Multiplication\", a*b)\n",
        "print(\"Division\", a/b)"
      ],
      "metadata": {
        "colab": {
          "base_uri": "https://localhost:8080/"
        },
        "id": "-QGwtqQRhkxV",
        "outputId": "9e50fc37-7623-4af5-d812-673f5d15f526"
      },
      "execution_count": 26,
      "outputs": [
        {
          "output_type": "stream",
          "name": "stdout",
          "text": [
            "Addition tensor([[1.2394, 1.4569, 0.7516, 0.5495],\n",
            "        [0.9693, 1.2473, 0.5726, 1.1979],\n",
            "        [1.3976, 1.6542, 0.9074, 1.3794]])\n",
            "Subtraction tensor([[ 0.7543,  0.0562, -0.3038,  0.0552],\n",
            "        [-0.6125,  0.4004,  0.5388,  0.7561],\n",
            "        [-0.5095,  0.2414,  0.5816, -0.4010]])\n",
            "Multiplication tensor([[0.2418, 0.5298, 0.1181, 0.0747],\n",
            "        [0.1411, 0.3489, 0.0094, 0.2158],\n",
            "        [0.4234, 0.6696, 0.1213, 0.4355]])\n",
            "Division tensor([[ 4.1099,  1.0802,  0.4243,  1.2232],\n",
            "        [ 0.2256,  1.9454, 32.8859,  4.4230],\n",
            "        [ 0.4657,  1.3418,  4.5708,  0.5495]])\n"
          ]
        }
      ]
    },
    {
      "cell_type": "code",
      "source": [
        "print(\"mod\", ((a+100)//3)%b)"
      ],
      "metadata": {
        "colab": {
          "base_uri": "https://localhost:8080/"
        },
        "id": "_g_jgImlh-hr",
        "outputId": "d696ba51-d5b0-4d5d-f08f-415217c0c345"
      },
      "execution_count": 27,
      "outputs": [
        {
          "output_type": "stream",
          "name": "stdout",
          "text": [
            "mod tensor([[0.0120, 0.0840, 0.2833, 0.1246],\n",
            "        [0.5737, 0.3915, 0.0128, 0.0867],\n",
            "        [0.5798, 0.5055, 0.0986, 0.0627]])\n"
          ]
        }
      ]
    },
    {
      "cell_type": "code",
      "source": [
        "c = torch.tensor([1,-2,3,-4])"
      ],
      "metadata": {
        "id": "T8GmZ29hiEeS"
      },
      "execution_count": 28,
      "outputs": []
    },
    {
      "cell_type": "code",
      "source": [
        "#abs\n",
        "torch.abs(c)"
      ],
      "metadata": {
        "colab": {
          "base_uri": "https://localhost:8080/"
        },
        "id": "3iyvrmpMiTUL",
        "outputId": "f485fc95-8e9c-46d1-83f7-0966562bc438"
      },
      "execution_count": 29,
      "outputs": [
        {
          "output_type": "execute_result",
          "data": {
            "text/plain": [
              "tensor([1, 2, 3, 4])"
            ]
          },
          "metadata": {},
          "execution_count": 29
        }
      ]
    },
    {
      "cell_type": "code",
      "source": [
        "torch.neg(c)"
      ],
      "metadata": {
        "colab": {
          "base_uri": "https://localhost:8080/"
        },
        "id": "rVrwYi7LiWL7",
        "outputId": "95cc952e-2a0f-4673-a411-19e0719e2c90"
      },
      "execution_count": 30,
      "outputs": [
        {
          "output_type": "execute_result",
          "data": {
            "text/plain": [
              "tensor([-1,  2, -3,  4])"
            ]
          },
          "metadata": {},
          "execution_count": 30
        }
      ]
    },
    {
      "cell_type": "code",
      "source": [
        "c = torch.tensor([1.7,-2.6,3.34,-04.67])"
      ],
      "metadata": {
        "id": "owGT0zcBich_"
      },
      "execution_count": 31,
      "outputs": []
    },
    {
      "cell_type": "code",
      "source": [
        "torch.round(c)"
      ],
      "metadata": {
        "colab": {
          "base_uri": "https://localhost:8080/"
        },
        "id": "rXjIZGNfin6z",
        "outputId": "b992dfa6-024d-4af5-c28c-35e62d50e3d9"
      },
      "execution_count": 32,
      "outputs": [
        {
          "output_type": "execute_result",
          "data": {
            "text/plain": [
              "tensor([ 2., -3.,  3., -5.])"
            ]
          },
          "metadata": {},
          "execution_count": 32
        }
      ]
    },
    {
      "cell_type": "code",
      "source": [
        "print(\"c\",c)\n",
        "print(\"floor\",torch.floor(c))\n",
        "print(\"Ceil\",torch.ceil(c))"
      ],
      "metadata": {
        "colab": {
          "base_uri": "https://localhost:8080/"
        },
        "id": "vXeCV7wdirfo",
        "outputId": "843cf8d0-6334-4e2e-8294-41f560a6c653"
      },
      "execution_count": 33,
      "outputs": [
        {
          "output_type": "stream",
          "name": "stdout",
          "text": [
            "c tensor([ 1.7000, -2.6000,  3.3400, -4.6700])\n",
            "floor tensor([ 1., -3.,  3., -5.])\n",
            "Ceil tensor([ 2., -2.,  4., -4.])\n"
          ]
        }
      ]
    },
    {
      "cell_type": "code",
      "source": [
        "#clamp\n",
        "torch.clamp(c,min=2,max=3)"
      ],
      "metadata": {
        "colab": {
          "base_uri": "https://localhost:8080/"
        },
        "id": "J3CWOWshjr9I",
        "outputId": "6da6f34e-40c9-47fd-9608-b36a9a3b780e"
      },
      "execution_count": 34,
      "outputs": [
        {
          "output_type": "execute_result",
          "data": {
            "text/plain": [
              "tensor([2., 2., 3., 2.])"
            ]
          },
          "metadata": {},
          "execution_count": 34
        }
      ]
    },
    {
      "cell_type": "markdown",
      "source": [
        "**Reduction operations**"
      ],
      "metadata": {
        "id": "9SEMNaKikTOz"
      }
    },
    {
      "cell_type": "code",
      "source": [
        "e = torch.randint(size=(2,3),low=0,high=10)"
      ],
      "metadata": {
        "id": "1mL2R_Y4kMLg"
      },
      "execution_count": 35,
      "outputs": []
    },
    {
      "cell_type": "code",
      "source": [
        "print(\"e\",e)\n",
        "print(torch.sum(e))\n",
        "print(torch.sum(e,dim=1))\n",
        "print(torch.sum(e,dim=0))\n"
      ],
      "metadata": {
        "colab": {
          "base_uri": "https://localhost:8080/"
        },
        "id": "qkWT9uzokfGr",
        "outputId": "d17e9d69-7db1-4517-8318-cec245fe65ba"
      },
      "execution_count": 36,
      "outputs": [
        {
          "output_type": "stream",
          "name": "stdout",
          "text": [
            "e tensor([[5, 7, 5],\n",
            "        [9, 9, 7]])\n",
            "tensor(42)\n",
            "tensor([17, 25])\n",
            "tensor([14, 16, 12])\n"
          ]
        }
      ]
    },
    {
      "cell_type": "code",
      "source": [
        "e.to(torch.float32)\n"
      ],
      "metadata": {
        "colab": {
          "base_uri": "https://localhost:8080/"
        },
        "id": "91X6gYBGki6g",
        "outputId": "53428718-3dd7-4625-8459-81737ccdb497"
      },
      "execution_count": 37,
      "outputs": [
        {
          "output_type": "execute_result",
          "data": {
            "text/plain": [
              "tensor([[5., 7., 5.],\n",
              "        [9., 9., 7.]])"
            ]
          },
          "metadata": {},
          "execution_count": 37
        }
      ]
    },
    {
      "cell_type": "code",
      "source": [
        "torch.mean(e)\n",
        "print(torch.mean(e,dim=1))\n",
        "print(torch.mean(e,dim=0))"
      ],
      "metadata": {
        "id": "1L9zL4UFlPk-",
        "colab": {
          "base_uri": "https://localhost:8080/",
          "height": 193
        },
        "outputId": "8266ec66-1f6d-4bdf-eb15-7956edc6f01c"
      },
      "execution_count": 38,
      "outputs": [
        {
          "output_type": "error",
          "ename": "RuntimeError",
          "evalue": "mean(): could not infer output dtype. Input dtype must be either a floating point or complex dtype. Got: Long",
          "traceback": [
            "\u001b[0;31m---------------------------------------------------------------------------\u001b[0m",
            "\u001b[0;31mRuntimeError\u001b[0m                              Traceback (most recent call last)",
            "\u001b[0;32m<ipython-input-38-d1fa1162e624>\u001b[0m in \u001b[0;36m<cell line: 0>\u001b[0;34m()\u001b[0m\n\u001b[0;32m----> 1\u001b[0;31m \u001b[0mtorch\u001b[0m\u001b[0;34m.\u001b[0m\u001b[0mmean\u001b[0m\u001b[0;34m(\u001b[0m\u001b[0me\u001b[0m\u001b[0;34m)\u001b[0m\u001b[0;34m\u001b[0m\u001b[0;34m\u001b[0m\u001b[0m\n\u001b[0m\u001b[1;32m      2\u001b[0m \u001b[0mprint\u001b[0m\u001b[0;34m(\u001b[0m\u001b[0mtorch\u001b[0m\u001b[0;34m.\u001b[0m\u001b[0mmean\u001b[0m\u001b[0;34m(\u001b[0m\u001b[0me\u001b[0m\u001b[0;34m,\u001b[0m\u001b[0mdim\u001b[0m\u001b[0;34m=\u001b[0m\u001b[0;36m1\u001b[0m\u001b[0;34m)\u001b[0m\u001b[0;34m)\u001b[0m\u001b[0;34m\u001b[0m\u001b[0;34m\u001b[0m\u001b[0m\n\u001b[1;32m      3\u001b[0m \u001b[0mprint\u001b[0m\u001b[0;34m(\u001b[0m\u001b[0mtorch\u001b[0m\u001b[0;34m.\u001b[0m\u001b[0mmean\u001b[0m\u001b[0;34m(\u001b[0m\u001b[0me\u001b[0m\u001b[0;34m,\u001b[0m\u001b[0mdim\u001b[0m\u001b[0;34m=\u001b[0m\u001b[0;36m0\u001b[0m\u001b[0;34m)\u001b[0m\u001b[0;34m)\u001b[0m\u001b[0;34m\u001b[0m\u001b[0;34m\u001b[0m\u001b[0m\n",
            "\u001b[0;31mRuntimeError\u001b[0m: mean(): could not infer output dtype. Input dtype must be either a floating point or complex dtype. Got: Long"
          ]
        }
      ]
    },
    {
      "cell_type": "code",
      "source": [
        "torch.median(e)"
      ],
      "metadata": {
        "colab": {
          "base_uri": "https://localhost:8080/"
        },
        "id": "L4daREbDM8Qk",
        "outputId": "c18a6602-8b75-4cc8-f6eb-b1080d9c6134"
      },
      "execution_count": 39,
      "outputs": [
        {
          "output_type": "execute_result",
          "data": {
            "text/plain": [
              "tensor(7)"
            ]
          },
          "metadata": {},
          "execution_count": 39
        }
      ]
    },
    {
      "cell_type": "code",
      "source": [
        "print(\"max\",torch.max(e))\n",
        "print('min',torch.min(e))"
      ],
      "metadata": {
        "colab": {
          "base_uri": "https://localhost:8080/"
        },
        "id": "knN-5k1ENK-M",
        "outputId": "028524dc-da71-420d-8c9a-632f4cd938c6"
      },
      "execution_count": 40,
      "outputs": [
        {
          "output_type": "stream",
          "name": "stdout",
          "text": [
            "max tensor(9)\n",
            "min tensor(5)\n"
          ]
        }
      ]
    },
    {
      "cell_type": "code",
      "source": [
        "torch.std(e)"
      ],
      "metadata": {
        "colab": {
          "base_uri": "https://localhost:8080/",
          "height": 141
        },
        "id": "YetQvMbWNa-x",
        "outputId": "d752cbf5-c4df-441a-9216-94844dd62a9a"
      },
      "execution_count": 41,
      "outputs": [
        {
          "output_type": "error",
          "ename": "RuntimeError",
          "evalue": "std and var only support floating point and complex dtypes",
          "traceback": [
            "\u001b[0;31m---------------------------------------------------------------------------\u001b[0m",
            "\u001b[0;31mRuntimeError\u001b[0m                              Traceback (most recent call last)",
            "\u001b[0;32m<ipython-input-41-0cd9dc3003ca>\u001b[0m in \u001b[0;36m<cell line: 0>\u001b[0;34m()\u001b[0m\n\u001b[0;32m----> 1\u001b[0;31m \u001b[0mtorch\u001b[0m\u001b[0;34m.\u001b[0m\u001b[0mstd\u001b[0m\u001b[0;34m(\u001b[0m\u001b[0me\u001b[0m\u001b[0;34m)\u001b[0m\u001b[0;34m\u001b[0m\u001b[0;34m\u001b[0m\u001b[0m\n\u001b[0m",
            "\u001b[0;31mRuntimeError\u001b[0m: std and var only support floating point and complex dtypes"
          ]
        }
      ]
    },
    {
      "cell_type": "code",
      "source": [
        "torch.var(e)"
      ],
      "metadata": {
        "colab": {
          "base_uri": "https://localhost:8080/",
          "height": 141
        },
        "id": "FWXfd-aNNkVn",
        "outputId": "ab46cbeb-40c9-4a9b-9bd4-4c5e403a9e22"
      },
      "execution_count": 42,
      "outputs": [
        {
          "output_type": "error",
          "ename": "RuntimeError",
          "evalue": "std and var only support floating point and complex dtypes",
          "traceback": [
            "\u001b[0;31m---------------------------------------------------------------------------\u001b[0m",
            "\u001b[0;31mRuntimeError\u001b[0m                              Traceback (most recent call last)",
            "\u001b[0;32m<ipython-input-42-fc7823a6f521>\u001b[0m in \u001b[0;36m<cell line: 0>\u001b[0;34m()\u001b[0m\n\u001b[0;32m----> 1\u001b[0;31m \u001b[0mtorch\u001b[0m\u001b[0;34m.\u001b[0m\u001b[0mvar\u001b[0m\u001b[0;34m(\u001b[0m\u001b[0me\u001b[0m\u001b[0;34m)\u001b[0m\u001b[0;34m\u001b[0m\u001b[0;34m\u001b[0m\u001b[0m\n\u001b[0m",
            "\u001b[0;31mRuntimeError\u001b[0m: std and var only support floating point and complex dtypes"
          ]
        }
      ]
    },
    {
      "cell_type": "code",
      "source": [
        "torch.argmax(e) #sabse bade wale no ki position batata hai"
      ],
      "metadata": {
        "colab": {
          "base_uri": "https://localhost:8080/"
        },
        "id": "XFFEW6wYNmZi",
        "outputId": "d3280374-0895-4000-b418-cfbaeb9368ba"
      },
      "execution_count": 43,
      "outputs": [
        {
          "output_type": "execute_result",
          "data": {
            "text/plain": [
              "tensor(3)"
            ]
          },
          "metadata": {},
          "execution_count": 43
        }
      ]
    },
    {
      "cell_type": "code",
      "source": [
        "torch.argmin(e)"
      ],
      "metadata": {
        "colab": {
          "base_uri": "https://localhost:8080/"
        },
        "id": "DqZSVhqNNvDh",
        "outputId": "0e9b7baa-83f6-4fe0-8e73-436eb808bf92"
      },
      "execution_count": 44,
      "outputs": [
        {
          "output_type": "execute_result",
          "data": {
            "text/plain": [
              "tensor(0)"
            ]
          },
          "metadata": {},
          "execution_count": 44
        }
      ]
    },
    {
      "cell_type": "markdown",
      "source": [
        "**Matrix Operation**"
      ],
      "metadata": {
        "id": "Gy7pxDeAN40l"
      }
    },
    {
      "cell_type": "code",
      "source": [
        "f= torch.randint(size=(2,3),low=0,high=10)\n",
        "g= torch.randint(size=(3,2),low=0,high=10)"
      ],
      "metadata": {
        "id": "WI6_ngJAN1r6"
      },
      "execution_count": 45,
      "outputs": []
    },
    {
      "cell_type": "code",
      "source": [
        "torch.matmul(f,g)"
      ],
      "metadata": {
        "colab": {
          "base_uri": "https://localhost:8080/"
        },
        "id": "Hw-3qYxbOFcb",
        "outputId": "d66d5cf5-8934-4639-9052-c5a3601c44fd"
      },
      "execution_count": 46,
      "outputs": [
        {
          "output_type": "execute_result",
          "data": {
            "text/plain": [
              "tensor([[137, 117],\n",
              "        [139, 130]])"
            ]
          },
          "metadata": {},
          "execution_count": 46
        }
      ]
    },
    {
      "cell_type": "code",
      "source": [
        "t= torch.tensor([1,2])\n",
        "r= torch.tensor([10,32])"
      ],
      "metadata": {
        "id": "tGsHt1Z-Ptw4"
      },
      "execution_count": 47,
      "outputs": []
    },
    {
      "cell_type": "code",
      "source": [
        "torch.dot(t,r)"
      ],
      "metadata": {
        "colab": {
          "base_uri": "https://localhost:8080/"
        },
        "id": "ay217VO3P5R0",
        "outputId": "9093fa49-a0ab-4f4c-9be3-235e3b21065b"
      },
      "execution_count": 48,
      "outputs": [
        {
          "output_type": "execute_result",
          "data": {
            "text/plain": [
              "tensor(74)"
            ]
          },
          "metadata": {},
          "execution_count": 48
        }
      ]
    },
    {
      "cell_type": "code",
      "source": [
        "torch.transpose(f,0,1)"
      ],
      "metadata": {
        "colab": {
          "base_uri": "https://localhost:8080/"
        },
        "id": "nnJOmeMtP_dv",
        "outputId": "f9a27024-dc19-412c-c508-18ab22a0bc4e"
      },
      "execution_count": 49,
      "outputs": [
        {
          "output_type": "execute_result",
          "data": {
            "text/plain": [
              "tensor([[5, 9],\n",
              "        [9, 7],\n",
              "        [8, 9]])"
            ]
          },
          "metadata": {},
          "execution_count": 49
        }
      ]
    },
    {
      "cell_type": "code",
      "source": [
        "fq= torch.randint(size=(444,444),low=0,high=10,dtype=torch.float32)\n",
        "torch.det(fq)"
      ],
      "metadata": {
        "colab": {
          "base_uri": "https://localhost:8080/"
        },
        "id": "7BP6dAQvR56I",
        "outputId": "619cf262-adc0-456e-cf20-81696ff3e150"
      },
      "execution_count": 50,
      "outputs": [
        {
          "output_type": "execute_result",
          "data": {
            "text/plain": [
              "tensor(inf)"
            ]
          },
          "metadata": {},
          "execution_count": 50
        }
      ]
    },
    {
      "cell_type": "markdown",
      "source": [
        "**Comparison Opertions**\n"
      ],
      "metadata": {
        "id": "FEpv-gWLSePE"
      }
    },
    {
      "cell_type": "code",
      "source": [
        "i= torch.randint(size=(4,4),low=0,high=10,dtype=torch.float32)\n",
        "j= torch.randint(size=(4,4),low=0,high=10,dtype=torch.float32)\n"
      ],
      "metadata": {
        "id": "tRuunuDdSC9A"
      },
      "execution_count": 51,
      "outputs": []
    },
    {
      "cell_type": "code",
      "source": [
        "print(i<j)\n",
        "print(i>j)\n",
        "print(i==j)\n",
        "print(i>=j)\n",
        "print(i!=j)"
      ],
      "metadata": {
        "colab": {
          "base_uri": "https://localhost:8080/"
        },
        "id": "aGHKjQ_JSuCt",
        "outputId": "e707d5c4-db48-4386-dc5d-b271937aa73d"
      },
      "execution_count": 52,
      "outputs": [
        {
          "output_type": "stream",
          "name": "stdout",
          "text": [
            "tensor([[ True,  True, False, False],\n",
            "        [ True, False, False, False],\n",
            "        [False,  True, False, False],\n",
            "        [False,  True,  True,  True]])\n",
            "tensor([[False, False,  True,  True],\n",
            "        [False, False,  True, False],\n",
            "        [ True, False,  True,  True],\n",
            "        [False, False, False, False]])\n",
            "tensor([[False, False, False, False],\n",
            "        [False,  True, False,  True],\n",
            "        [False, False, False, False],\n",
            "        [ True, False, False, False]])\n",
            "tensor([[False, False,  True,  True],\n",
            "        [False,  True,  True,  True],\n",
            "        [ True, False,  True,  True],\n",
            "        [ True, False, False, False]])\n",
            "tensor([[ True,  True,  True,  True],\n",
            "        [ True, False,  True, False],\n",
            "        [ True,  True,  True,  True],\n",
            "        [False,  True,  True,  True]])\n"
          ]
        }
      ]
    },
    {
      "cell_type": "markdown",
      "source": [
        "**Special functions**"
      ],
      "metadata": {
        "id": "bDQuyo2WTIzx"
      }
    },
    {
      "cell_type": "code",
      "source": [
        "k= torch.randint(size=(4,4),low=0,high=10,dtype=torch.float32)\n"
      ],
      "metadata": {
        "id": "hhYn_wFMTH35"
      },
      "execution_count": 53,
      "outputs": []
    },
    {
      "cell_type": "code",
      "source": [
        "print(torch.log(k))\n",
        "print(torch.exp(k))\n",
        "print(torch.sqrt(k))\n",
        "print(torch.sigmoid(k))"
      ],
      "metadata": {
        "colab": {
          "base_uri": "https://localhost:8080/"
        },
        "id": "zXjuNcg4SxC2",
        "outputId": "68454c25-8188-42ae-9894-b5c7fd00fdd6"
      },
      "execution_count": 54,
      "outputs": [
        {
          "output_type": "stream",
          "name": "stdout",
          "text": [
            "tensor([[  -inf, 1.7918, 0.0000, 1.6094],\n",
            "        [2.1972, 0.0000, 1.6094, 2.0794],\n",
            "        [1.7918, 2.0794,   -inf, 0.6931],\n",
            "        [2.1972, 1.9459, 2.1972, 1.7918]])\n",
            "tensor([[1.0000e+00, 4.0343e+02, 2.7183e+00, 1.4841e+02],\n",
            "        [8.1031e+03, 2.7183e+00, 1.4841e+02, 2.9810e+03],\n",
            "        [4.0343e+02, 2.9810e+03, 1.0000e+00, 7.3891e+00],\n",
            "        [8.1031e+03, 1.0966e+03, 8.1031e+03, 4.0343e+02]])\n",
            "tensor([[0.0000, 2.4495, 1.0000, 2.2361],\n",
            "        [3.0000, 1.0000, 2.2361, 2.8284],\n",
            "        [2.4495, 2.8284, 0.0000, 1.4142],\n",
            "        [3.0000, 2.6458, 3.0000, 2.4495]])\n",
            "tensor([[0.5000, 0.9975, 0.7311, 0.9933],\n",
            "        [0.9999, 0.7311, 0.9933, 0.9997],\n",
            "        [0.9975, 0.9997, 0.5000, 0.8808],\n",
            "        [0.9999, 0.9991, 0.9999, 0.9975]])\n"
          ]
        }
      ]
    },
    {
      "cell_type": "code",
      "source": [
        "print(torch.relu(k))\n",
        "print(torch.softmax(k,dim=0))"
      ],
      "metadata": {
        "colab": {
          "base_uri": "https://localhost:8080/"
        },
        "id": "F_F7MyrATVmu",
        "outputId": "86826f81-fb5c-43c7-a0ab-ba71f008feb5"
      },
      "execution_count": 55,
      "outputs": [
        {
          "output_type": "stream",
          "name": "stdout",
          "text": [
            "tensor([[0., 6., 1., 5.],\n",
            "        [9., 1., 5., 8.],\n",
            "        [6., 8., 0., 2.],\n",
            "        [9., 7., 9., 6.]])\n",
            "tensor([[6.0203e-05, 8.9976e-02, 3.2928e-04, 4.1922e-02],\n",
            "        [4.8783e-01, 6.0625e-04, 1.7978e-02, 8.4203e-01],\n",
            "        [2.4287e-02, 6.6484e-01, 1.2114e-04, 2.0872e-03],\n",
            "        [4.8783e-01, 2.4458e-01, 9.8157e-01, 1.1396e-01]])\n"
          ]
        }
      ]
    },
    {
      "cell_type": "markdown",
      "source": [
        "Inplace operations"
      ],
      "metadata": {
        "id": "jj-9ns4NUaiQ"
      }
    },
    {
      "cell_type": "code",
      "source": [
        "m=torch.rand(2,3)\n",
        "n=torch.rand(2,3)"
      ],
      "metadata": {
        "id": "CoCQ3oFyUQ3G"
      },
      "execution_count": 56,
      "outputs": []
    },
    {
      "cell_type": "code",
      "source": [
        "m.add_(n)"
      ],
      "metadata": {
        "colab": {
          "base_uri": "https://localhost:8080/"
        },
        "id": "j9UNX9dKUizp",
        "outputId": "d3b6f9fa-8c84-4c08-872b-1ed217605f59"
      },
      "execution_count": 57,
      "outputs": [
        {
          "output_type": "execute_result",
          "data": {
            "text/plain": [
              "tensor([[0.8560, 0.7409, 0.9248],\n",
              "        [0.5869, 0.7821, 0.4449]])"
            ]
          },
          "metadata": {},
          "execution_count": 57
        }
      ]
    },
    {
      "cell_type": "code",
      "source": [
        "n.relu_()"
      ],
      "metadata": {
        "colab": {
          "base_uri": "https://localhost:8080/"
        },
        "id": "1BHn88-XUv20",
        "outputId": "26afddae-360c-43ff-fab2-88dfd277df26"
      },
      "execution_count": 58,
      "outputs": [
        {
          "output_type": "execute_result",
          "data": {
            "text/plain": [
              "tensor([[0.5390, 0.1990, 0.2894],\n",
              "        [0.5733, 0.6200, 0.3509]])"
            ]
          },
          "metadata": {},
          "execution_count": 58
        }
      ]
    },
    {
      "cell_type": "markdown",
      "source": [
        "pandas ne bahoot accha design kar rakha hai _ lagado woh inplace operation ban jata hai\n"
      ],
      "metadata": {
        "id": "E3wagfaEVTnm"
      }
    },
    {
      "cell_type": "markdown",
      "source": [
        "**Copying tensors**"
      ],
      "metadata": {
        "id": "zCNTJftTVc4b"
      }
    },
    {
      "cell_type": "code",
      "source": [
        "a= torch.rand(2,3)"
      ],
      "metadata": {
        "id": "FGhbmGECU75X"
      },
      "execution_count": 59,
      "outputs": []
    },
    {
      "cell_type": "code",
      "source": [
        "b=a"
      ],
      "metadata": {
        "id": "TNlRmR3MVypY"
      },
      "execution_count": 60,
      "outputs": []
    },
    {
      "cell_type": "code",
      "source": [
        "b"
      ],
      "metadata": {
        "colab": {
          "base_uri": "https://localhost:8080/"
        },
        "id": "qAjQvyl6Vzye",
        "outputId": "d254c755-cff7-4630-dd11-d7d7f1956193"
      },
      "execution_count": 61,
      "outputs": [
        {
          "output_type": "execute_result",
          "data": {
            "text/plain": [
              "tensor([[0.2032, 0.3958, 0.4779],\n",
              "        [0.3572, 0.2234, 0.8097]])"
            ]
          },
          "metadata": {},
          "execution_count": 61
        }
      ]
    },
    {
      "cell_type": "code",
      "source": [
        "a[0][0]=0"
      ],
      "metadata": {
        "id": "K9hpCFhRV1ok"
      },
      "execution_count": 62,
      "outputs": []
    },
    {
      "cell_type": "code",
      "source": [
        "b"
      ],
      "metadata": {
        "colab": {
          "base_uri": "https://localhost:8080/"
        },
        "id": "pGSoipqwV_6-",
        "outputId": "8f05e9fe-890d-41e7-faba-045f8b1e1ead"
      },
      "execution_count": 63,
      "outputs": [
        {
          "output_type": "execute_result",
          "data": {
            "text/plain": [
              "tensor([[0.0000, 0.3958, 0.4779],\n",
              "        [0.3572, 0.2234, 0.8097]])"
            ]
          },
          "metadata": {},
          "execution_count": 63
        }
      ]
    },
    {
      "cell_type": "markdown",
      "source": [
        "yeh bahoot galat bat hai , 1 nayi copy banayi , toh jo changes copy me karte ja raha woh original me bhi hoti ja rahi hai"
      ],
      "metadata": {
        "id": "NwpfRoN_WDJF"
      }
    },
    {
      "cell_type": "code",
      "source": [
        "print(id(a))\n",
        "print(id(b))"
      ],
      "metadata": {
        "colab": {
          "base_uri": "https://localhost:8080/"
        },
        "id": "crxQG7ulWBJ6",
        "outputId": "a86c7d7f-722b-4269-b752-38af2fa67de1"
      },
      "execution_count": 64,
      "outputs": [
        {
          "output_type": "stream",
          "name": "stdout",
          "text": [
            "135289463618064\n",
            "135289463618064\n"
          ]
        }
      ]
    },
    {
      "cell_type": "code",
      "source": [
        "b = a.clone()\n"
      ],
      "metadata": {
        "id": "0d1RA0LIWX11"
      },
      "execution_count": 65,
      "outputs": []
    },
    {
      "cell_type": "code",
      "source": [
        "b= a.clone()"
      ],
      "metadata": {
        "id": "bWjaZhVIWl3T"
      },
      "execution_count": 66,
      "outputs": []
    },
    {
      "cell_type": "code",
      "source": [
        "id(b)"
      ],
      "metadata": {
        "colab": {
          "base_uri": "https://localhost:8080/"
        },
        "id": "CetGPo54W1G_",
        "outputId": "24090832-19e6-41eb-f24b-4ed81032e4dd"
      },
      "execution_count": 67,
      "outputs": [
        {
          "output_type": "execute_result",
          "data": {
            "text/plain": [
              "135289463084272"
            ]
          },
          "metadata": {},
          "execution_count": 67
        }
      ]
    },
    {
      "cell_type": "markdown",
      "source": [
        "**Tensor Operation on GPU**"
      ],
      "metadata": {
        "id": "ahSidmLMW7YZ"
      }
    },
    {
      "cell_type": "code",
      "source": [
        "torch.cuda.is_available()"
      ],
      "metadata": {
        "colab": {
          "base_uri": "https://localhost:8080/"
        },
        "id": "xTinJhqxW2t1",
        "outputId": "9c40e269-0196-42f9-cc99-49d43e453810"
      },
      "execution_count": 68,
      "outputs": [
        {
          "output_type": "execute_result",
          "data": {
            "text/plain": [
              "True"
            ]
          },
          "metadata": {},
          "execution_count": 68
        }
      ]
    },
    {
      "cell_type": "code",
      "source": [
        "device= torch.device('cuda')"
      ],
      "metadata": {
        "id": "XKjDlRW8XUiY"
      },
      "execution_count": 69,
      "outputs": []
    },
    {
      "cell_type": "code",
      "source": [
        "torch.rand((2,3),device = device)"
      ],
      "metadata": {
        "id": "pWGG9apTXmWV",
        "colab": {
          "base_uri": "https://localhost:8080/"
        },
        "outputId": "e619888a-c5fd-47e5-c215-360b70080623"
      },
      "execution_count": 70,
      "outputs": [
        {
          "output_type": "execute_result",
          "data": {
            "text/plain": [
              "tensor([[0.3563, 0.0303, 0.7088],\n",
              "        [0.2009, 0.0224, 0.9896]], device='cuda:0')"
            ]
          },
          "metadata": {},
          "execution_count": 70
        }
      ]
    },
    {
      "cell_type": "code",
      "source": [
        "a= torch.rand(2,3)"
      ],
      "metadata": {
        "id": "3P0xjU8sZk0H"
      },
      "execution_count": 73,
      "outputs": []
    },
    {
      "cell_type": "code",
      "source": [
        "a"
      ],
      "metadata": {
        "colab": {
          "base_uri": "https://localhost:8080/"
        },
        "id": "cxoDTVKxZqlM",
        "outputId": "0bcbb0d5-91b0-452e-beec-971b95b29514"
      },
      "execution_count": 74,
      "outputs": [
        {
          "output_type": "execute_result",
          "data": {
            "text/plain": [
              "tensor([[0.6981, 0.2981, 0.9378],\n",
              "        [0.9431, 0.7146, 0.0233]])"
            ]
          },
          "metadata": {},
          "execution_count": 74
        }
      ]
    },
    {
      "cell_type": "code",
      "source": [
        "b=a.to(device)"
      ],
      "metadata": {
        "id": "5fyPKNCbZrAf"
      },
      "execution_count": 75,
      "outputs": []
    },
    {
      "cell_type": "code",
      "source": [
        "b"
      ],
      "metadata": {
        "colab": {
          "base_uri": "https://localhost:8080/"
        },
        "id": "iXbg-5DiZxNY",
        "outputId": "8ef21887-4a4a-400a-8914-724420d909fd"
      },
      "execution_count": 76,
      "outputs": [
        {
          "output_type": "execute_result",
          "data": {
            "text/plain": [
              "tensor([[0.6981, 0.2981, 0.9378],\n",
              "        [0.9431, 0.7146, 0.0233]], device='cuda:0')"
            ]
          },
          "metadata": {},
          "execution_count": 76
        }
      ]
    },
    {
      "cell_type": "markdown",
      "source": [
        "Reshaping Tesnors"
      ],
      "metadata": {
        "id": "15J2V2d8aFAn"
      }
    },
    {
      "cell_type": "code",
      "source": [
        "#reshape\n",
        "a= torch.ones(4,4)"
      ],
      "metadata": {
        "id": "0YyldpJKZyjn"
      },
      "execution_count": 77,
      "outputs": []
    },
    {
      "cell_type": "code",
      "source": [
        "a.reshape(2,2,2,2)"
      ],
      "metadata": {
        "colab": {
          "base_uri": "https://localhost:8080/"
        },
        "id": "52xJ9M6XaMJg",
        "outputId": "78d5390b-f78a-4385-cd86-0aa6fb0ed8a9"
      },
      "execution_count": 81,
      "outputs": [
        {
          "output_type": "execute_result",
          "data": {
            "text/plain": [
              "tensor([[[[1., 1.],\n",
              "          [1., 1.]],\n",
              "\n",
              "         [[1., 1.],\n",
              "          [1., 1.]]],\n",
              "\n",
              "\n",
              "        [[[1., 1.],\n",
              "          [1., 1.]],\n",
              "\n",
              "         [[1., 1.],\n",
              "          [1., 1.]]]])"
            ]
          },
          "metadata": {},
          "execution_count": 81
        }
      ]
    },
    {
      "cell_type": "code",
      "source": [
        "#flaatten\n",
        "a.flatten()"
      ],
      "metadata": {
        "colab": {
          "base_uri": "https://localhost:8080/"
        },
        "id": "3fsh8N4RaOrQ",
        "outputId": "e1c72104-242f-44f9-d618-1c640a784c42"
      },
      "execution_count": 82,
      "outputs": [
        {
          "output_type": "execute_result",
          "data": {
            "text/plain": [
              "tensor([1., 1., 1., 1., 1., 1., 1., 1., 1., 1., 1., 1., 1., 1., 1., 1.])"
            ]
          },
          "metadata": {},
          "execution_count": 82
        }
      ]
    },
    {
      "cell_type": "code",
      "source": [
        "#permute\n",
        "b= torch.rand(2,3,4)\n",
        "b.permute(2,0,1).shape"
      ],
      "metadata": {
        "colab": {
          "base_uri": "https://localhost:8080/"
        },
        "id": "RUjb9gtwacOL",
        "outputId": "8ee76a74-0677-48ae-9005-8877e4791a46"
      },
      "execution_count": 84,
      "outputs": [
        {
          "output_type": "execute_result",
          "data": {
            "text/plain": [
              "torch.Size([4, 2, 3])"
            ]
          },
          "metadata": {},
          "execution_count": 84
        }
      ]
    },
    {
      "cell_type": "code",
      "source": [
        "#unsqueeze\n",
        "c=torch.rand(226,226,3)\n",
        "c.unsqueeze(0).shape"
      ],
      "metadata": {
        "colab": {
          "base_uri": "https://localhost:8080/"
        },
        "id": "mlTvh8xSapbT",
        "outputId": "c9679886-bdbf-45bc-9c17-1723742325fa"
      },
      "execution_count": 85,
      "outputs": [
        {
          "output_type": "execute_result",
          "data": {
            "text/plain": [
              "torch.Size([1, 226, 226, 3])"
            ]
          },
          "metadata": {},
          "execution_count": 85
        }
      ]
    },
    {
      "cell_type": "code",
      "source": [
        "c=torch.rand(226,226,3)\n",
        "c.squeeze(0).shape"
      ],
      "metadata": {
        "colab": {
          "base_uri": "https://localhost:8080/"
        },
        "id": "AWli7t4ccJdS",
        "outputId": "fab3c42e-f05c-4adf-b86c-0fe0c74684de"
      },
      "execution_count": 86,
      "outputs": [
        {
          "output_type": "execute_result",
          "data": {
            "text/plain": [
              "torch.Size([226, 226, 3])"
            ]
          },
          "metadata": {},
          "execution_count": 86
        }
      ]
    },
    {
      "cell_type": "markdown",
      "source": [
        "NUMPY and Torch"
      ],
      "metadata": {
        "id": "ltBsMoZEcfK8"
      }
    },
    {
      "cell_type": "code",
      "source": [
        "import numpy as np"
      ],
      "metadata": {
        "id": "FTjaesdKcHX-"
      },
      "execution_count": 87,
      "outputs": []
    },
    {
      "cell_type": "code",
      "source": [
        "a= torch.tensor([1,2,3])\n",
        "a"
      ],
      "metadata": {
        "colab": {
          "base_uri": "https://localhost:8080/"
        },
        "id": "ekOp8X0wcn_q",
        "outputId": "41fcca79-f552-408a-c079-35c27afa9038"
      },
      "execution_count": 88,
      "outputs": [
        {
          "output_type": "execute_result",
          "data": {
            "text/plain": [
              "tensor([1, 2, 3])"
            ]
          },
          "metadata": {},
          "execution_count": 88
        }
      ]
    },
    {
      "cell_type": "code",
      "source": [
        "b = a.numpy()"
      ],
      "metadata": {
        "id": "lxfKvOYScsVI"
      },
      "execution_count": 89,
      "outputs": []
    },
    {
      "cell_type": "code",
      "source": [
        "type(b)"
      ],
      "metadata": {
        "colab": {
          "base_uri": "https://localhost:8080/"
        },
        "id": "E_JKDzPqcuxG",
        "outputId": "b3f6d4a8-ee5c-49d4-92ed-e474ea0e2b61"
      },
      "execution_count": 90,
      "outputs": [
        {
          "output_type": "execute_result",
          "data": {
            "text/plain": [
              "numpy.ndarray"
            ]
          },
          "metadata": {},
          "execution_count": 90
        }
      ]
    },
    {
      "cell_type": "code",
      "source": [
        "c = np.array([1,2,3])\n",
        "c"
      ],
      "metadata": {
        "colab": {
          "base_uri": "https://localhost:8080/"
        },
        "id": "Gl9ntE3xcwk0",
        "outputId": "4e2e6c20-e927-444c-ad19-fcaee652aaf1"
      },
      "execution_count": 91,
      "outputs": [
        {
          "output_type": "execute_result",
          "data": {
            "text/plain": [
              "array([1, 2, 3])"
            ]
          },
          "metadata": {},
          "execution_count": 91
        }
      ]
    },
    {
      "cell_type": "code",
      "source": [
        "torch.from_numpy(c)"
      ],
      "metadata": {
        "colab": {
          "base_uri": "https://localhost:8080/"
        },
        "id": "yxMk9Mnic8YV",
        "outputId": "10f20194-45ac-42b2-f4a2-15f21e3d1059"
      },
      "execution_count": 92,
      "outputs": [
        {
          "output_type": "execute_result",
          "data": {
            "text/plain": [
              "tensor([1, 2, 3])"
            ]
          },
          "metadata": {},
          "execution_count": 92
        }
      ]
    },
    {
      "cell_type": "code",
      "source": [],
      "metadata": {
        "id": "9XFxhAeRc_5d"
      },
      "execution_count": null,
      "outputs": []
    }
  ]
}